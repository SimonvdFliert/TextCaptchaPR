{
 "cells": [
  {
   "cell_type": "code",
   "execution_count": 1,
   "id": "39deba17",
   "metadata": {},
   "outputs": [],
   "source": [
    "import tensorflow as tf\n",
    "import argparse\n",
    "import string\n",
    "import os\n",
    "import shutil\n",
    "import uuid\n",
    "from captcha.image import ImageCaptcha\n",
    "import itertools\n",
    "import os\n",
    "import cv2\n",
    "import numpy as np\n",
    "from random import random, randint, choices\n",
    "from tensorflow import keras\n",
    "from tensorflow.keras.models import Sequential, Model,load_model\n",
    "from tensorflow.keras.layers import Dense, Dropout, Activation, Flatten\n",
    "from tensorflow.keras.layers import Conv2D, MaxPooling2D, Input\n",
    "import matplotlib.pyplot as plt\n"
   ]
  },
  {
   "cell_type": "code",
   "execution_count": 2,
   "id": "7d0926bd",
   "metadata": {},
   "outputs": [],
   "source": [
    "# generated CAPTCHAs using Python ImageCaptcha Library\n",
    "alphabet_all = list('abcdefghijklmnopqrstuvwxyzABCDEFGHIJKLMNOPQRSTUVWXYZ0123456789')#\n",
    "alphabet = list('abcdefghijklmnopqrstuvwxyzABCDEFGHIJKLMNOPQRSTUVWXYZ0123456789')\n",
    "num_alphabet = len(alphabet)\n",
    "\n",
    "def _gen_captcha(img_dir, num_of_letters, num_of_repetition, width, height):\n",
    "    if os.path.exists(img_dir):\n",
    "        shutil.rmtree(img_dir)\n",
    "    if not os.path.exists(img_dir):\n",
    "        os.makedirs(img_dir)\n",
    "        \n",
    "    image = ImageCaptcha(width=width, height=height)\n",
    "\n",
    "    for counter in range(num_of_repetition):\n",
    "        i = choices(alphabet_all, k=5)\n",
    "        captcha = ''.join(i)\n",
    "        fn = os.path.join(img_dir, '%s_%s.png' % (captcha, uuid.uuid4()))\n",
    "        image.write(captcha, fn)\n",
    "\n",
    "def gen_dataset(path, num_of_repetition, num_of_letters, width, height):\n",
    "    _gen_captcha(os.path.join(path, 'data'), num_of_letters, num_of_repetition, width, height)\n",
    "    print('Finished Data Generation')"
   ]
  },
  {
   "cell_type": "code",
   "execution_count": 3,
   "id": "3af220ff",
   "metadata": {},
   "outputs": [],
   "source": [
    "BATCH_SIZE = 300\n",
    "NUM_OF_LETTERS = 5\n",
    "EPOCHS = 25\n",
    "IMG_ROW, IMG_COLS = 50, 135\n",
    "# Non-configs\n",
    "PATH = os.getcwd() # get current path\n",
    "DATA_PATH = os.path.join(PATH, 'train')# create new folder for data"
   ]
  },
  {
   "cell_type": "code",
   "execution_count": 4,
   "id": "4221c902",
   "metadata": {},
   "outputs": [],
   "source": [
    "#pre-processing\n",
    "def load_data(path, test_split=0.1):\n",
    "    print ('loading dataset...')\n",
    "    y_train = []\n",
    "    y_test = []\n",
    "    x_train = []\n",
    "    x_test = []\n",
    "\n",
    "    # r=root, d=directories, f = files\n",
    "    counter = 0\n",
    "    for r, d, f in os.walk(path):\n",
    "        for fl in f:\n",
    "            if '.png' in fl:\n",
    "                flr = fl.split('_')[0]\n",
    "                counter += 1\n",
    "                label = np.zeros((NUM_OF_LETTERS, num_alphabet))\n",
    "                for i in range(NUM_OF_LETTERS):\n",
    "                    label[i, alphabet.index(flr[i].lower())] = 1\n",
    "#                 label = np.zeros((50, 1))\n",
    "#                 for i in range(5):\n",
    "#                     label[i*5+int(flr[i])] = 1\n",
    "                img = cv2.imread(os.path.join(r, fl))\n",
    "                img = cv2.cvtColor(img, cv2.COLOR_BGR2GRAY)\n",
    "                img = cv2.resize(img, (int(135/2), int(50/2)), interpolation=cv2.INTER_AREA)\n",
    "                img = np.reshape(img, (img.shape[0], img.shape[1], 1))\n",
    "\n",
    "                if random() < test_split:\n",
    "                    y_test.append(label)\n",
    "                    x_test.append(img)\n",
    "                else:\n",
    "                    y_train.append(label)\n",
    "                    x_train.append(img)\n",
    "\n",
    "    print('dataset size:', counter, '(train=%d, test=%d)' % (len(y_train), len(y_test)))\n",
    "    return np.array(x_train), np.array(y_train), np.array(x_test), np.array(y_test)"
   ]
  },
  {
   "cell_type": "code",
   "execution_count": 5,
   "id": "5e643380",
   "metadata": {},
   "outputs": [],
   "source": [
    "if not os.path.exists(DATA_PATH):\n",
    "    print('Generating Dataset')\n",
    "    gen_dataset(DATA_PATH, 100000 , NUM_OF_LETTERS, IMG_COLS, IMG_ROW)"
   ]
  },
  {
   "cell_type": "code",
   "execution_count": 6,
   "id": "f8a54f23",
   "metadata": {},
   "outputs": [
    {
     "name": "stdout",
     "output_type": "stream",
     "text": [
      "loading dataset...\n",
      "dataset size: 100000 (train=90072, test=9928)\n"
     ]
    }
   ],
   "source": [
    "x_train, y_train, x_test, y_test = load_data(DATA_PATH)\n",
    "\n",
    "x_train = x_train.astype('float32')\n",
    "x_test = x_test.astype('float32')\n",
    "x_train /= 255\n",
    "x_test /= 255"
   ]
  },
  {
   "cell_type": "code",
   "execution_count": 7,
   "id": "59551eb5",
   "metadata": {},
   "outputs": [
    {
     "name": "stdout",
     "output_type": "stream",
     "text": [
      "(90072, 25, 67, 1)\n",
      "(90072, 5, 62)\n",
      "(9928, 25, 67, 1)\n",
      "(9928, 5, 62)\n"
     ]
    }
   ],
   "source": [
    "print(x_train.shape)\n",
    "print(y_train.shape)\n",
    "print(x_test.shape)\n",
    "print(y_test.shape)"
   ]
  },
  {
   "cell_type": "code",
   "execution_count": 8,
   "id": "1e7ee564",
   "metadata": {},
   "outputs": [],
   "source": [
    "s_train = []\n",
    "s_test = []\n",
    "for i in range(NUM_OF_LETTERS):\n",
    "    s_train.append(y_train[:, i, :])\n",
    "    s_test.append(y_test[:, i, :])"
   ]
  },
  {
   "cell_type": "code",
   "execution_count": 9,
   "id": "e42e36c5",
   "metadata": {},
   "outputs": [],
   "source": [
    "#architecture\n",
    "input_layer = Input((25, 67, 1))\n",
    "x = Conv2D(filters=32, kernel_size=(5, 5), padding='same', activation='relu')(input_layer)\n",
    "x = MaxPooling2D(pool_size=(2, 2))(x)\n",
    "\n",
    "x = Conv2D(filters=48, kernel_size=(5, 5), padding='same', activation='relu')(x)\n",
    "x = MaxPooling2D(pool_size=(2, 2))(x)\n",
    "\n",
    "x = Conv2D(filters=64, kernel_size=(5, 5), padding='same', activation='relu')(x)\n",
    "x = MaxPooling2D(pool_size=(2, 2))(x)\n",
    "\n",
    "x = Dropout(0.3)(x)\n",
    "x = Flatten()(x)\n",
    "x = Dense(512, activation='relu')(x)\n",
    "x = Dropout(0.3)(x)\n",
    "\n",
    "out = [Dense(num_alphabet, name='digit%d' % i, activation='softmax')(x) for i in range(NUM_OF_LETTERS)]\n",
    "# out = Dense(num_alphabet*5, activation='sigmoid')(x)\n",
    "\n",
    "model = Model(inputs=input_layer, outputs=out)"
   ]
  },
  {
   "cell_type": "code",
   "execution_count": 10,
   "id": "9a95293b",
   "metadata": {},
   "outputs": [
    {
     "name": "stdout",
     "output_type": "stream",
     "text": [
      "Model: \"model\"\n",
      "__________________________________________________________________________________________________\n",
      " Layer (type)                   Output Shape         Param #     Connected to                     \n",
      "==================================================================================================\n",
      " input_1 (InputLayer)           [(None, 25, 67, 1)]  0           []                               \n",
      "                                                                                                  \n",
      " conv2d (Conv2D)                (None, 25, 67, 32)   832         ['input_1[0][0]']                \n",
      "                                                                                                  \n",
      " max_pooling2d (MaxPooling2D)   (None, 12, 33, 32)   0           ['conv2d[0][0]']                 \n",
      "                                                                                                  \n",
      " conv2d_1 (Conv2D)              (None, 12, 33, 48)   38448       ['max_pooling2d[0][0]']          \n",
      "                                                                                                  \n",
      " max_pooling2d_1 (MaxPooling2D)  (None, 6, 16, 48)   0           ['conv2d_1[0][0]']               \n",
      "                                                                                                  \n",
      " conv2d_2 (Conv2D)              (None, 6, 16, 64)    76864       ['max_pooling2d_1[0][0]']        \n",
      "                                                                                                  \n",
      " max_pooling2d_2 (MaxPooling2D)  (None, 3, 8, 64)    0           ['conv2d_2[0][0]']               \n",
      "                                                                                                  \n",
      " dropout (Dropout)              (None, 3, 8, 64)     0           ['max_pooling2d_2[0][0]']        \n",
      "                                                                                                  \n",
      " flatten (Flatten)              (None, 1536)         0           ['dropout[0][0]']                \n",
      "                                                                                                  \n",
      " dense (Dense)                  (None, 512)          786944      ['flatten[0][0]']                \n",
      "                                                                                                  \n",
      " dropout_1 (Dropout)            (None, 512)          0           ['dense[0][0]']                  \n",
      "                                                                                                  \n",
      " digit0 (Dense)                 (None, 62)           31806       ['dropout_1[0][0]']              \n",
      "                                                                                                  \n",
      " digit1 (Dense)                 (None, 62)           31806       ['dropout_1[0][0]']              \n",
      "                                                                                                  \n",
      " digit2 (Dense)                 (None, 62)           31806       ['dropout_1[0][0]']              \n",
      "                                                                                                  \n",
      " digit3 (Dense)                 (None, 62)           31806       ['dropout_1[0][0]']              \n",
      "                                                                                                  \n",
      " digit4 (Dense)                 (None, 62)           31806       ['dropout_1[0][0]']              \n",
      "                                                                                                  \n",
      "==================================================================================================\n",
      "Total params: 1,062,118\n",
      "Trainable params: 1,062,118\n",
      "Non-trainable params: 0\n",
      "__________________________________________________________________________________________________\n"
     ]
    }
   ],
   "source": [
    "# initiate Adam optimizer\n",
    "model.compile(loss='binary_crossentropy', optimizer='adam',\n",
    "              metrics=['accuracy'])\n",
    "\n",
    "model.summary() "
   ]
  },
  {
   "cell_type": "code",
   "execution_count": 11,
   "id": "40aa36d2",
   "metadata": {},
   "outputs": [],
   "source": [
    "hist_train_loss_digit = {i:[] for i in range(5)}\n",
    "hist_test_loss_digit = {i:[] for i in range(5)}\n",
    "\n",
    "hist_train_acc_digit = {i:[] for i in range(5)}\n",
    "hist_test_acc_digit = {i:[] for i in range(5)}\n",
    "\n",
    "hist_train_loss = []\n",
    "hist_test_loss = []\n",
    "\n",
    "hist_train_acc = []\n",
    "hist_test_acc = []"
   ]
  },
  {
   "cell_type": "code",
   "execution_count": 12,
   "id": "9c91024b",
   "metadata": {},
   "outputs": [],
   "source": [
    "digit_acc = [[] for _ in range(NUM_OF_LETTERS)]\n",
    "val_digit_acc = [[] for _ in range(NUM_OF_LETTERS)]\n",
    "loss = []\n",
    "val_loss = []"
   ]
  },
  {
   "cell_type": "code",
   "execution_count": 13,
   "id": "a119dc87",
   "metadata": {},
   "outputs": [
    {
     "name": "stdout",
     "output_type": "stream",
     "text": [
      "Epoch 1/25\n",
      "WARNING:tensorflow:AutoGraph could not transform <function Model.make_train_function.<locals>.train_function at 0x7fa999ef2ef0> and will run it as-is.\n",
      "Please report this to the TensorFlow team. When filing the bug, set the verbosity to 10 (on Linux, `export AUTOGRAPH_VERBOSITY=10`) and attach the full output.\n",
      "Cause: 'arguments' object has no attribute 'posonlyargs'\n",
      "To silence this warning, decorate the function with @tf.autograph.experimental.do_not_convert\n",
      "WARNING: AutoGraph could not transform <function Model.make_train_function.<locals>.train_function at 0x7fa999ef2ef0> and will run it as-is.\n",
      "Please report this to the TensorFlow team. When filing the bug, set the verbosity to 10 (on Linux, `export AUTOGRAPH_VERBOSITY=10`) and attach the full output.\n",
      "Cause: 'arguments' object has no attribute 'posonlyargs'\n",
      "To silence this warning, decorate the function with @tf.autograph.experimental.do_not_convert\n",
      "301/301 [==============================] - ETA: 0s - loss: 0.4400 - digit0_loss: 0.0878 - digit1_loss: 0.0881 - digit2_loss: 0.0881 - digit3_loss: 0.0880 - digit4_loss: 0.0880 - digit0_accuracy: 0.0318 - digit1_accuracy: 0.0317 - digit2_accuracy: 0.0315 - digit3_accuracy: 0.0315 - digit4_accuracy: 0.0306WARNING:tensorflow:AutoGraph could not transform <function Model.make_test_function.<locals>.test_function at 0x7fa95d3323b0> and will run it as-is.\n",
      "Please report this to the TensorFlow team. When filing the bug, set the verbosity to 10 (on Linux, `export AUTOGRAPH_VERBOSITY=10`) and attach the full output.\n",
      "Cause: 'arguments' object has no attribute 'posonlyargs'\n",
      "To silence this warning, decorate the function with @tf.autograph.experimental.do_not_convert\n",
      "WARNING: AutoGraph could not transform <function Model.make_test_function.<locals>.test_function at 0x7fa95d3323b0> and will run it as-is.\n",
      "Please report this to the TensorFlow team. When filing the bug, set the verbosity to 10 (on Linux, `export AUTOGRAPH_VERBOSITY=10`) and attach the full output.\n",
      "Cause: 'arguments' object has no attribute 'posonlyargs'\n",
      "To silence this warning, decorate the function with @tf.autograph.experimental.do_not_convert\n",
      "301/301 [==============================] - 170s 559ms/step - loss: 0.4400 - digit0_loss: 0.0878 - digit1_loss: 0.0881 - digit2_loss: 0.0881 - digit3_loss: 0.0880 - digit4_loss: 0.0880 - digit0_accuracy: 0.0318 - digit1_accuracy: 0.0317 - digit2_accuracy: 0.0315 - digit3_accuracy: 0.0315 - digit4_accuracy: 0.0306 - val_loss: 0.3674 - val_digit0_loss: 0.0735 - val_digit1_loss: 0.0735 - val_digit2_loss: 0.0734 - val_digit3_loss: 0.0736 - val_digit4_loss: 0.0735 - val_digit0_accuracy: 0.0359 - val_digit1_accuracy: 0.0306 - val_digit2_accuracy: 0.0322 - val_digit3_accuracy: 0.0356 - val_digit4_accuracy: 0.0321\n",
      "Epoch 2/25\n",
      "301/301 [==============================] - 172s 572ms/step - loss: 0.3738 - digit0_loss: 0.0747 - digit1_loss: 0.0748 - digit2_loss: 0.0747 - digit3_loss: 0.0748 - digit4_loss: 0.0748 - digit0_accuracy: 0.0323 - digit1_accuracy: 0.0304 - digit2_accuracy: 0.0309 - digit3_accuracy: 0.0314 - digit4_accuracy: 0.0325 - val_loss: 0.3662 - val_digit0_loss: 0.0733 - val_digit1_loss: 0.0732 - val_digit2_loss: 0.0732 - val_digit3_loss: 0.0732 - val_digit4_loss: 0.0732 - val_digit0_accuracy: 0.0348 - val_digit1_accuracy: 0.0315 - val_digit2_accuracy: 0.0327 - val_digit3_accuracy: 0.0337 - val_digit4_accuracy: 0.0333\n",
      "Epoch 3/25\n",
      "301/301 [==============================] - 204s 678ms/step - loss: 0.3707 - digit0_loss: 0.0741 - digit1_loss: 0.0741 - digit2_loss: 0.0742 - digit3_loss: 0.0742 - digit4_loss: 0.0742 - digit0_accuracy: 0.0331 - digit1_accuracy: 0.0324 - digit2_accuracy: 0.0322 - digit3_accuracy: 0.0327 - digit4_accuracy: 0.0318 - val_loss: 0.3659 - val_digit0_loss: 0.0732 - val_digit1_loss: 0.0731 - val_digit2_loss: 0.0732 - val_digit3_loss: 0.0732 - val_digit4_loss: 0.0732 - val_digit0_accuracy: 0.0327 - val_digit1_accuracy: 0.0344 - val_digit2_accuracy: 0.0335 - val_digit3_accuracy: 0.0360 - val_digit4_accuracy: 0.0289\n",
      "Epoch 4/25\n",
      "301/301 [==============================] - 193s 642ms/step - loss: 0.3685 - digit0_loss: 0.0736 - digit1_loss: 0.0737 - digit2_loss: 0.0737 - digit3_loss: 0.0738 - digit4_loss: 0.0737 - digit0_accuracy: 0.0381 - digit1_accuracy: 0.0369 - digit2_accuracy: 0.0367 - digit3_accuracy: 0.0360 - digit4_accuracy: 0.0374 - val_loss: 0.3606 - val_digit0_loss: 0.0716 - val_digit1_loss: 0.0722 - val_digit2_loss: 0.0724 - val_digit3_loss: 0.0724 - val_digit4_loss: 0.0720 - val_digit0_accuracy: 0.0818 - val_digit1_accuracy: 0.0557 - val_digit2_accuracy: 0.0584 - val_digit3_accuracy: 0.0602 - val_digit4_accuracy: 0.0671\n",
      "Epoch 5/25\n",
      "301/301 [==============================] - 186s 617ms/step - loss: 0.3501 - digit0_loss: 0.0687 - digit1_loss: 0.0707 - digit2_loss: 0.0713 - digit3_loss: 0.0709 - digit4_loss: 0.0685 - digit0_accuracy: 0.0999 - digit1_accuracy: 0.0786 - digit2_accuracy: 0.0733 - digit3_accuracy: 0.0763 - digit4_accuracy: 0.1073 - val_loss: 0.3211 - val_digit0_loss: 0.0614 - val_digit1_loss: 0.0661 - val_digit2_loss: 0.0668 - val_digit3_loss: 0.0660 - val_digit4_loss: 0.0607 - val_digit0_accuracy: 0.2064 - val_digit1_accuracy: 0.1410 - val_digit2_accuracy: 0.1347 - val_digit3_accuracy: 0.1462 - val_digit4_accuracy: 0.2128\n",
      "Epoch 6/25\n",
      "301/301 [==============================] - 203s 675ms/step - loss: 0.3148 - digit0_loss: 0.0589 - digit1_loss: 0.0654 - digit2_loss: 0.0664 - digit3_loss: 0.0650 - digit4_loss: 0.0591 - digit0_accuracy: 0.2241 - digit1_accuracy: 0.1464 - digit2_accuracy: 0.1368 - digit3_accuracy: 0.1511 - digit4_accuracy: 0.2290 - val_loss: 0.2795 - val_digit0_loss: 0.0495 - val_digit1_loss: 0.0599 - val_digit2_loss: 0.0609 - val_digit3_loss: 0.0590 - val_digit4_loss: 0.0501 - val_digit0_accuracy: 0.3992 - val_digit1_accuracy: 0.2508 - val_digit2_accuracy: 0.2280 - val_digit3_accuracy: 0.2550 - val_digit4_accuracy: 0.4077\n",
      "Epoch 7/25\n",
      "301/301 [==============================] - 174s 578ms/step - loss: 0.2794 - digit0_loss: 0.0490 - digit1_loss: 0.0602 - digit2_loss: 0.0617 - digit3_loss: 0.0594 - digit4_loss: 0.0491 - digit0_accuracy: 0.3891 - digit1_accuracy: 0.2352 - digit2_accuracy: 0.2135 - digit3_accuracy: 0.2455 - digit4_accuracy: 0.3942 - val_loss: 0.2389 - val_digit0_loss: 0.0391 - val_digit1_loss: 0.0532 - val_digit2_loss: 0.0551 - val_digit3_loss: 0.0522 - val_digit4_loss: 0.0392 - val_digit0_accuracy: 0.5611 - val_digit1_accuracy: 0.3630 - val_digit2_accuracy: 0.3315 - val_digit3_accuracy: 0.3821 - val_digit4_accuracy: 0.5711\n",
      "Epoch 8/25\n",
      "301/301 [==============================] - 168s 559ms/step - loss: 0.2459 - digit0_loss: 0.0407 - digit1_loss: 0.0546 - digit2_loss: 0.0566 - digit3_loss: 0.0534 - digit4_loss: 0.0406 - digit0_accuracy: 0.5246 - digit1_accuracy: 0.3262 - digit2_accuracy: 0.3012 - digit3_accuracy: 0.3433 - digit4_accuracy: 0.5294 - val_loss: 0.2047 - val_digit0_loss: 0.0312 - val_digit1_loss: 0.0472 - val_digit2_loss: 0.0497 - val_digit3_loss: 0.0456 - val_digit4_loss: 0.0311 - val_digit0_accuracy: 0.6817 - val_digit1_accuracy: 0.4714 - val_digit2_accuracy: 0.4269 - val_digit3_accuracy: 0.4858 - val_digit4_accuracy: 0.6938\n",
      "Epoch 9/25\n",
      "301/301 [==============================] - 171s 568ms/step - loss: 0.2221 - digit0_loss: 0.0350 - digit1_loss: 0.0504 - digit2_loss: 0.0528 - digit3_loss: 0.0488 - digit4_loss: 0.0350 - digit0_accuracy: 0.6081 - digit1_accuracy: 0.3973 - digit2_accuracy: 0.3600 - digit3_accuracy: 0.4184 - digit4_accuracy: 0.6089 - val_loss: 0.1832 - val_digit0_loss: 0.0263 - val_digit1_loss: 0.0432 - val_digit2_loss: 0.0459 - val_digit3_loss: 0.0413 - val_digit4_loss: 0.0265 - val_digit0_accuracy: 0.7405 - val_digit1_accuracy: 0.5216 - val_digit2_accuracy: 0.4929 - val_digit3_accuracy: 0.5588 - val_digit4_accuracy: 0.7456\n",
      "Epoch 10/25\n",
      "301/301 [==============================] - 175s 581ms/step - loss: 0.2046 - digit0_loss: 0.0309 - digit1_loss: 0.0471 - digit2_loss: 0.0499 - digit3_loss: 0.0453 - digit4_loss: 0.0312 - digit0_accuracy: 0.6627 - digit1_accuracy: 0.4459 - digit2_accuracy: 0.4065 - digit3_accuracy: 0.4724 - digit4_accuracy: 0.6610 - val_loss: 0.1655 - val_digit0_loss: 0.0227 - val_digit1_loss: 0.0397 - val_digit2_loss: 0.0428 - val_digit3_loss: 0.0376 - val_digit4_loss: 0.0227 - val_digit0_accuracy: 0.7770 - val_digit1_accuracy: 0.5762 - val_digit2_accuracy: 0.5371 - val_digit3_accuracy: 0.6049 - val_digit4_accuracy: 0.7860\n"
     ]
    },
    {
     "name": "stdout",
     "output_type": "stream",
     "text": [
      "Epoch 11/25\n",
      "301/301 [==============================] - 196s 652ms/step - loss: 0.1900 - digit0_loss: 0.0280 - digit1_loss: 0.0441 - digit2_loss: 0.0474 - digit3_loss: 0.0424 - digit4_loss: 0.0281 - digit0_accuracy: 0.7009 - digit1_accuracy: 0.4899 - digit2_accuracy: 0.4441 - digit3_accuracy: 0.5159 - digit4_accuracy: 0.7011 - val_loss: 0.1503 - val_digit0_loss: 0.0197 - val_digit1_loss: 0.0365 - val_digit2_loss: 0.0399 - val_digit3_loss: 0.0343 - val_digit4_loss: 0.0199 - val_digit0_accuracy: 0.8098 - val_digit1_accuracy: 0.6175 - val_digit2_accuracy: 0.5741 - val_digit3_accuracy: 0.6426 - val_digit4_accuracy: 0.8118\n",
      "Epoch 12/25\n",
      "301/301 [==============================] - 175s 581ms/step - loss: 0.1770 - digit0_loss: 0.0253 - digit1_loss: 0.0415 - digit2_loss: 0.0447 - digit3_loss: 0.0398 - digit4_loss: 0.0257 - digit0_accuracy: 0.7323 - digit1_accuracy: 0.5275 - digit2_accuracy: 0.4841 - digit3_accuracy: 0.5493 - digit4_accuracy: 0.7324 - val_loss: 0.1387 - val_digit0_loss: 0.0179 - val_digit1_loss: 0.0339 - val_digit2_loss: 0.0373 - val_digit3_loss: 0.0318 - val_digit4_loss: 0.0179 - val_digit0_accuracy: 0.8200 - val_digit1_accuracy: 0.6526 - val_digit2_accuracy: 0.6002 - val_digit3_accuracy: 0.6699 - val_digit4_accuracy: 0.8345\n",
      "Epoch 13/25\n",
      "301/301 [==============================] - 174s 578ms/step - loss: 0.1656 - digit0_loss: 0.0231 - digit1_loss: 0.0390 - digit2_loss: 0.0423 - digit3_loss: 0.0375 - digit4_loss: 0.0237 - digit0_accuracy: 0.7575 - digit1_accuracy: 0.5624 - digit2_accuracy: 0.5173 - digit3_accuracy: 0.5819 - digit4_accuracy: 0.7558 - val_loss: 0.1280 - val_digit0_loss: 0.0162 - val_digit1_loss: 0.0314 - val_digit2_loss: 0.0346 - val_digit3_loss: 0.0297 - val_digit4_loss: 0.0162 - val_digit0_accuracy: 0.8421 - val_digit1_accuracy: 0.6866 - val_digit2_accuracy: 0.6429 - val_digit3_accuracy: 0.6960 - val_digit4_accuracy: 0.8456\n",
      "Epoch 14/25\n",
      "301/301 [==============================] - 168s 558ms/step - loss: 0.1553 - digit0_loss: 0.0215 - digit1_loss: 0.0366 - digit2_loss: 0.0399 - digit3_loss: 0.0354 - digit4_loss: 0.0218 - digit0_accuracy: 0.7784 - digit1_accuracy: 0.5955 - digit2_accuracy: 0.5519 - digit3_accuracy: 0.6071 - digit4_accuracy: 0.7751 - val_loss: 0.1172 - val_digit0_loss: 0.0145 - val_digit1_loss: 0.0290 - val_digit2_loss: 0.0316 - val_digit3_loss: 0.0274 - val_digit4_loss: 0.0147 - val_digit0_accuracy: 0.8535 - val_digit1_accuracy: 0.7076 - val_digit2_accuracy: 0.6754 - val_digit3_accuracy: 0.7191 - val_digit4_accuracy: 0.8616\n",
      "Epoch 15/25\n",
      "301/301 [==============================] - 167s 556ms/step - loss: 0.1463 - digit0_loss: 0.0199 - digit1_loss: 0.0347 - digit2_loss: 0.0380 - digit3_loss: 0.0335 - digit4_loss: 0.0203 - digit0_accuracy: 0.7959 - digit1_accuracy: 0.6196 - digit2_accuracy: 0.5801 - digit3_accuracy: 0.6310 - digit4_accuracy: 0.7949 - val_loss: 0.1080 - val_digit0_loss: 0.0130 - val_digit1_loss: 0.0268 - val_digit2_loss: 0.0297 - val_digit3_loss: 0.0255 - val_digit4_loss: 0.0130 - val_digit0_accuracy: 0.8726 - val_digit1_accuracy: 0.7391 - val_digit2_accuracy: 0.7061 - val_digit3_accuracy: 0.7456 - val_digit4_accuracy: 0.8763\n",
      "Epoch 16/25\n",
      "301/301 [==============================] - 167s 555ms/step - loss: 0.1382 - digit0_loss: 0.0188 - digit1_loss: 0.0328 - digit2_loss: 0.0360 - digit3_loss: 0.0317 - digit4_loss: 0.0190 - digit0_accuracy: 0.8076 - digit1_accuracy: 0.6431 - digit2_accuracy: 0.6059 - digit3_accuracy: 0.6543 - digit4_accuracy: 0.8077 - val_loss: 0.1008 - val_digit0_loss: 0.0120 - val_digit1_loss: 0.0251 - val_digit2_loss: 0.0277 - val_digit3_loss: 0.0236 - val_digit4_loss: 0.0123 - val_digit0_accuracy: 0.8807 - val_digit1_accuracy: 0.7499 - val_digit2_accuracy: 0.7221 - val_digit3_accuracy: 0.7582 - val_digit4_accuracy: 0.8788\n",
      "Epoch 17/25\n",
      "301/301 [==============================] - 170s 564ms/step - loss: 0.1304 - digit0_loss: 0.0175 - digit1_loss: 0.0311 - digit2_loss: 0.0340 - digit3_loss: 0.0301 - digit4_loss: 0.0177 - digit0_accuracy: 0.8227 - digit1_accuracy: 0.6658 - digit2_accuracy: 0.6322 - digit3_accuracy: 0.6748 - digit4_accuracy: 0.8217 - val_loss: 0.0957 - val_digit0_loss: 0.0116 - val_digit1_loss: 0.0236 - val_digit2_loss: 0.0264 - val_digit3_loss: 0.0228 - val_digit4_loss: 0.0113 - val_digit0_accuracy: 0.8820 - val_digit1_accuracy: 0.7669 - val_digit2_accuracy: 0.7410 - val_digit3_accuracy: 0.7663 - val_digit4_accuracy: 0.8883\n",
      "Epoch 18/25\n",
      "301/301 [==============================] - 167s 556ms/step - loss: 0.1240 - digit0_loss: 0.0165 - digit1_loss: 0.0297 - digit2_loss: 0.0325 - digit3_loss: 0.0287 - digit4_loss: 0.0167 - digit0_accuracy: 0.8337 - digit1_accuracy: 0.6841 - digit2_accuracy: 0.6516 - digit3_accuracy: 0.6924 - digit4_accuracy: 0.8327 - val_loss: 0.0887 - val_digit0_loss: 0.0105 - val_digit1_loss: 0.0223 - val_digit2_loss: 0.0243 - val_digit3_loss: 0.0211 - val_digit4_loss: 0.0106 - val_digit0_accuracy: 0.8952 - val_digit1_accuracy: 0.7794 - val_digit2_accuracy: 0.7626 - val_digit3_accuracy: 0.7880 - val_digit4_accuracy: 0.8947\n",
      "Epoch 19/25\n",
      "301/301 [==============================] - 167s 555ms/step - loss: 0.1182 - digit0_loss: 0.0157 - digit1_loss: 0.0283 - digit2_loss: 0.0310 - digit3_loss: 0.0275 - digit4_loss: 0.0157 - digit0_accuracy: 0.8420 - digit1_accuracy: 0.7002 - digit2_accuracy: 0.6707 - digit3_accuracy: 0.7093 - digit4_accuracy: 0.8437 - val_loss: 0.0854 - val_digit0_loss: 0.0101 - val_digit1_loss: 0.0214 - val_digit2_loss: 0.0235 - val_digit3_loss: 0.0203 - val_digit4_loss: 0.0101 - val_digit0_accuracy: 0.8955 - val_digit1_accuracy: 0.7921 - val_digit2_accuracy: 0.7710 - val_digit3_accuracy: 0.7973 - val_digit4_accuracy: 0.9020\n",
      "Epoch 20/25\n",
      "301/301 [==============================] - 178s 590ms/step - loss: 0.1127 - digit0_loss: 0.0148 - digit1_loss: 0.0271 - digit2_loss: 0.0296 - digit3_loss: 0.0263 - digit4_loss: 0.0150 - digit0_accuracy: 0.8535 - digit1_accuracy: 0.7160 - digit2_accuracy: 0.6910 - digit3_accuracy: 0.7240 - digit4_accuracy: 0.8501 - val_loss: 0.0797 - val_digit0_loss: 0.0094 - val_digit1_loss: 0.0201 - val_digit2_loss: 0.0217 - val_digit3_loss: 0.0191 - val_digit4_loss: 0.0093 - val_digit0_accuracy: 0.9071 - val_digit1_accuracy: 0.8057 - val_digit2_accuracy: 0.7959 - val_digit3_accuracy: 0.8127 - val_digit4_accuracy: 0.9074\n",
      "Epoch 21/25\n",
      "301/301 [==============================] - 193s 640ms/step - loss: 0.1081 - digit0_loss: 0.0141 - digit1_loss: 0.0261 - digit2_loss: 0.0284 - digit3_loss: 0.0252 - digit4_loss: 0.0142 - digit0_accuracy: 0.8604 - digit1_accuracy: 0.7287 - digit2_accuracy: 0.7051 - digit3_accuracy: 0.7357 - digit4_accuracy: 0.8590 - val_loss: 0.0761 - val_digit0_loss: 0.0089 - val_digit1_loss: 0.0192 - val_digit2_loss: 0.0210 - val_digit3_loss: 0.0183 - val_digit4_loss: 0.0088 - val_digit0_accuracy: 0.9130 - val_digit1_accuracy: 0.8166 - val_digit2_accuracy: 0.7955 - val_digit3_accuracy: 0.8210 - val_digit4_accuracy: 0.9081\n",
      "Epoch 22/25\n",
      "301/301 [==============================] - 187s 620ms/step - loss: 0.1039 - digit0_loss: 0.0134 - digit1_loss: 0.0251 - digit2_loss: 0.0273 - digit3_loss: 0.0244 - digit4_loss: 0.0136 - digit0_accuracy: 0.8685 - digit1_accuracy: 0.7405 - digit2_accuracy: 0.7187 - digit3_accuracy: 0.7461 - digit4_accuracy: 0.8641 - val_loss: 0.0721 - val_digit0_loss: 0.0084 - val_digit1_loss: 0.0182 - val_digit2_loss: 0.0198 - val_digit3_loss: 0.0173 - val_digit4_loss: 0.0085 - val_digit0_accuracy: 0.9148 - val_digit1_accuracy: 0.8268 - val_digit2_accuracy: 0.8153 - val_digit3_accuracy: 0.8267 - val_digit4_accuracy: 0.9121\n",
      "Epoch 23/25\n",
      "301/301 [==============================] - 197s 653ms/step - loss: 0.0999 - digit0_loss: 0.0129 - digit1_loss: 0.0241 - digit2_loss: 0.0263 - digit3_loss: 0.0234 - digit4_loss: 0.0131 - digit0_accuracy: 0.8733 - digit1_accuracy: 0.7510 - digit2_accuracy: 0.7309 - digit3_accuracy: 0.7590 - digit4_accuracy: 0.8713 - val_loss: 0.0689 - val_digit0_loss: 0.0080 - val_digit1_loss: 0.0174 - val_digit2_loss: 0.0189 - val_digit3_loss: 0.0167 - val_digit4_loss: 0.0079 - val_digit0_accuracy: 0.9205 - val_digit1_accuracy: 0.8310 - val_digit2_accuracy: 0.8224 - val_digit3_accuracy: 0.8335 - val_digit4_accuracy: 0.9184\n",
      "Epoch 24/25\n"
     ]
    },
    {
     "name": "stdout",
     "output_type": "stream",
     "text": [
      "301/301 [==============================] - 182s 604ms/step - loss: 0.0964 - digit0_loss: 0.0124 - digit1_loss: 0.0233 - digit2_loss: 0.0254 - digit3_loss: 0.0227 - digit4_loss: 0.0126 - digit0_accuracy: 0.8788 - digit1_accuracy: 0.7618 - digit2_accuracy: 0.7404 - digit3_accuracy: 0.7674 - digit4_accuracy: 0.8766 - val_loss: 0.0668 - val_digit0_loss: 0.0078 - val_digit1_loss: 0.0170 - val_digit2_loss: 0.0184 - val_digit3_loss: 0.0160 - val_digit4_loss: 0.0076 - val_digit0_accuracy: 0.9197 - val_digit1_accuracy: 0.8386 - val_digit2_accuracy: 0.8271 - val_digit3_accuracy: 0.8421 - val_digit4_accuracy: 0.9201\n",
      "Epoch 25/25\n",
      "301/301 [==============================] - 177s 588ms/step - loss: 0.0934 - digit0_loss: 0.0119 - digit1_loss: 0.0226 - digit2_loss: 0.0247 - digit3_loss: 0.0220 - digit4_loss: 0.0122 - digit0_accuracy: 0.8831 - digit1_accuracy: 0.7706 - digit2_accuracy: 0.7508 - digit3_accuracy: 0.7775 - digit4_accuracy: 0.8797 - val_loss: 0.0635 - val_digit0_loss: 0.0073 - val_digit1_loss: 0.0161 - val_digit2_loss: 0.0174 - val_digit3_loss: 0.0153 - val_digit4_loss: 0.0074 - val_digit0_accuracy: 0.9245 - val_digit1_accuracy: 0.8467 - val_digit2_accuracy: 0.8362 - val_digit3_accuracy: 0.8507 - val_digit4_accuracy: 0.9234\n"
     ]
    }
   ],
   "source": [
    "history = model.fit(x_train, s_train,\n",
    "                    batch_size=BATCH_SIZE,\n",
    "                    epochs=EPOCHS,\n",
    "                    verbose=1,\n",
    "                    validation_data=(x_test, s_test)\n",
    "                   )"
   ]
  },
  {
   "cell_type": "code",
   "execution_count": 14,
   "id": "3c6a2121",
   "metadata": {},
   "outputs": [
    {
     "name": "stdout",
     "output_type": "stream",
     "text": [
      "Epoch 1/25\n",
      "WARNING:tensorflow:AutoGraph could not transform <function Model.make_train_function.<locals>.train_function at 0x7fa8dd68c950> and will run it as-is.\n",
      "Please report this to the TensorFlow team. When filing the bug, set the verbosity to 10 (on Linux, `export AUTOGRAPH_VERBOSITY=10`) and attach the full output.\n",
      "Cause: 'arguments' object has no attribute 'posonlyargs'\n",
      "To silence this warning, decorate the function with @tf.autograph.experimental.do_not_convert\n",
      "WARNING: AutoGraph could not transform <function Model.make_train_function.<locals>.train_function at 0x7fa8dd68c950> and will run it as-is.\n",
      "Please report this to the TensorFlow team. When filing the bug, set the verbosity to 10 (on Linux, `export AUTOGRAPH_VERBOSITY=10`) and attach the full output.\n",
      "Cause: 'arguments' object has no attribute 'posonlyargs'\n",
      "To silence this warning, decorate the function with @tf.autograph.experimental.do_not_convert\n",
      "301/301 [==============================] - ETA: 0s - loss: 2.9269 - digit0_loss: 0.3481 - digit1_loss: 0.7268 - digit2_loss: 0.7856 - digit3_loss: 0.7031 - digit4_loss: 0.3633 - digit0_accuracy: 0.8847 - digit1_accuracy: 0.7775 - digit2_accuracy: 0.7637 - digit3_accuracy: 0.7843 - digit4_accuracy: 0.8804WARNING:tensorflow:AutoGraph could not transform <function Model.make_test_function.<locals>.test_function at 0x7fa8df9d0d40> and will run it as-is.\n",
      "Please report this to the TensorFlow team. When filing the bug, set the verbosity to 10 (on Linux, `export AUTOGRAPH_VERBOSITY=10`) and attach the full output.\n",
      "Cause: 'arguments' object has no attribute 'posonlyargs'\n",
      "To silence this warning, decorate the function with @tf.autograph.experimental.do_not_convert\n",
      "WARNING: AutoGraph could not transform <function Model.make_test_function.<locals>.test_function at 0x7fa8df9d0d40> and will run it as-is.\n",
      "Please report this to the TensorFlow team. When filing the bug, set the verbosity to 10 (on Linux, `export AUTOGRAPH_VERBOSITY=10`) and attach the full output.\n",
      "Cause: 'arguments' object has no attribute 'posonlyargs'\n",
      "To silence this warning, decorate the function with @tf.autograph.experimental.do_not_convert\n",
      "301/301 [==============================] - 183s 603ms/step - loss: 2.9269 - digit0_loss: 0.3481 - digit1_loss: 0.7268 - digit2_loss: 0.7856 - digit3_loss: 0.7031 - digit4_loss: 0.3633 - digit0_accuracy: 0.8847 - digit1_accuracy: 0.7775 - digit2_accuracy: 0.7637 - digit3_accuracy: 0.7843 - digit4_accuracy: 0.8804 - val_loss: 1.9280 - val_digit0_loss: 0.2255 - val_digit1_loss: 0.4924 - val_digit2_loss: 0.5135 - val_digit3_loss: 0.4661 - val_digit4_loss: 0.2304 - val_digit0_accuracy: 0.9225 - val_digit1_accuracy: 0.8540 - val_digit2_accuracy: 0.8462 - val_digit3_accuracy: 0.8545 - val_digit4_accuracy: 0.9243\n",
      "Epoch 2/25\n",
      "301/301 [==============================] - 171s 567ms/step - loss: 2.7736 - digit0_loss: 0.3324 - digit1_loss: 0.6858 - digit2_loss: 0.7421 - digit3_loss: 0.6673 - digit4_loss: 0.3459 - digit0_accuracy: 0.8887 - digit1_accuracy: 0.7872 - digit2_accuracy: 0.7728 - digit3_accuracy: 0.7910 - digit4_accuracy: 0.8850 - val_loss: 1.8281 - val_digit0_loss: 0.2114 - val_digit1_loss: 0.4704 - val_digit2_loss: 0.4850 - val_digit3_loss: 0.4466 - val_digit4_loss: 0.2147 - val_digit0_accuracy: 0.9263 - val_digit1_accuracy: 0.8601 - val_digit2_accuracy: 0.8529 - val_digit3_accuracy: 0.8651 - val_digit4_accuracy: 0.9280\n",
      "Epoch 3/25\n",
      "301/301 [==============================] - 176s 586ms/step - loss: 2.6617 - digit0_loss: 0.3217 - digit1_loss: 0.6554 - digit2_loss: 0.7117 - digit3_loss: 0.6377 - digit4_loss: 0.3351 - digit0_accuracy: 0.8919 - digit1_accuracy: 0.7945 - digit2_accuracy: 0.7808 - digit3_accuracy: 0.8006 - digit4_accuracy: 0.8876 - val_loss: 1.7206 - val_digit0_loss: 0.1988 - val_digit1_loss: 0.4407 - val_digit2_loss: 0.4532 - val_digit3_loss: 0.4167 - val_digit4_loss: 0.2112 - val_digit0_accuracy: 0.9302 - val_digit1_accuracy: 0.8648 - val_digit2_accuracy: 0.8626 - val_digit3_accuracy: 0.8719 - val_digit4_accuracy: 0.9297\n",
      "Epoch 4/25\n",
      "301/301 [==============================] - 167s 555ms/step - loss: 2.5786 - digit0_loss: 0.3140 - digit1_loss: 0.6395 - digit2_loss: 0.6854 - digit3_loss: 0.6177 - digit4_loss: 0.3220 - digit0_accuracy: 0.8934 - digit1_accuracy: 0.8003 - digit2_accuracy: 0.7879 - digit3_accuracy: 0.8056 - digit4_accuracy: 0.8912 - val_loss: 1.7041 - val_digit0_loss: 0.1991 - val_digit1_loss: 0.4286 - val_digit2_loss: 0.4554 - val_digit3_loss: 0.4150 - val_digit4_loss: 0.2059 - val_digit0_accuracy: 0.9342 - val_digit1_accuracy: 0.8701 - val_digit2_accuracy: 0.8636 - val_digit3_accuracy: 0.8735 - val_digit4_accuracy: 0.9297\n",
      "Epoch 5/25\n",
      "301/301 [==============================] - 171s 567ms/step - loss: 2.5018 - digit0_loss: 0.3080 - digit1_loss: 0.6123 - digit2_loss: 0.6687 - digit3_loss: 0.5978 - digit4_loss: 0.3150 - digit0_accuracy: 0.8962 - digit1_accuracy: 0.8058 - digit2_accuracy: 0.7933 - digit3_accuracy: 0.8122 - digit4_accuracy: 0.8932 - val_loss: 1.6233 - val_digit0_loss: 0.1864 - val_digit1_loss: 0.4155 - val_digit2_loss: 0.4304 - val_digit3_loss: 0.3877 - val_digit4_loss: 0.2033 - val_digit0_accuracy: 0.9332 - val_digit1_accuracy: 0.8737 - val_digit2_accuracy: 0.8708 - val_digit3_accuracy: 0.8820 - val_digit4_accuracy: 0.9312\n",
      "Epoch 6/25\n",
      "301/301 [==============================] - 180s 598ms/step - loss: 2.4182 - digit0_loss: 0.3005 - digit1_loss: 0.5998 - digit2_loss: 0.6387 - digit3_loss: 0.5743 - digit4_loss: 0.3048 - digit0_accuracy: 0.8978 - digit1_accuracy: 0.8105 - digit2_accuracy: 0.8002 - digit3_accuracy: 0.8173 - digit4_accuracy: 0.8979 - val_loss: 1.6586 - val_digit0_loss: 0.1973 - val_digit1_loss: 0.4241 - val_digit2_loss: 0.4346 - val_digit3_loss: 0.4012 - val_digit4_loss: 0.2014 - val_digit0_accuracy: 0.9310 - val_digit1_accuracy: 0.8727 - val_digit2_accuracy: 0.8661 - val_digit3_accuracy: 0.8741 - val_digit4_accuracy: 0.9328\n",
      "Epoch 7/25\n",
      "301/301 [==============================] - 184s 612ms/step - loss: 2.3545 - digit0_loss: 0.2886 - digit1_loss: 0.5779 - digit2_loss: 0.6262 - digit3_loss: 0.5633 - digit4_loss: 0.2985 - digit0_accuracy: 0.9014 - digit1_accuracy: 0.8177 - digit2_accuracy: 0.8051 - digit3_accuracy: 0.8219 - digit4_accuracy: 0.8997 - val_loss: 1.5432 - val_digit0_loss: 0.1797 - val_digit1_loss: 0.3991 - val_digit2_loss: 0.3980 - val_digit3_loss: 0.3751 - val_digit4_loss: 0.1915 - val_digit0_accuracy: 0.9385 - val_digit1_accuracy: 0.8800 - val_digit2_accuracy: 0.8800 - val_digit3_accuracy: 0.8859 - val_digit4_accuracy: 0.9346\n",
      "Epoch 8/25\n",
      "301/301 [==============================] - 192s 638ms/step - loss: 2.3030 - digit0_loss: 0.2830 - digit1_loss: 0.5657 - digit2_loss: 0.6141 - digit3_loss: 0.5481 - digit4_loss: 0.2921 - digit0_accuracy: 0.9033 - digit1_accuracy: 0.8204 - digit2_accuracy: 0.8077 - digit3_accuracy: 0.8253 - digit4_accuracy: 0.9013 - val_loss: 1.4951 - val_digit0_loss: 0.1738 - val_digit1_loss: 0.3885 - val_digit2_loss: 0.3886 - val_digit3_loss: 0.3635 - val_digit4_loss: 0.1807 - val_digit0_accuracy: 0.9387 - val_digit1_accuracy: 0.8802 - val_digit2_accuracy: 0.8779 - val_digit3_accuracy: 0.8865 - val_digit4_accuracy: 0.9386\n",
      "Epoch 9/25\n",
      "301/301 [==============================] - 194s 646ms/step - loss: 2.2487 - digit0_loss: 0.2768 - digit1_loss: 0.5531 - digit2_loss: 0.5980 - digit3_loss: 0.5359 - digit4_loss: 0.2849 - digit0_accuracy: 0.9056 - digit1_accuracy: 0.8226 - digit2_accuracy: 0.8121 - digit3_accuracy: 0.8288 - digit4_accuracy: 0.9034 - val_loss: 1.4820 - val_digit0_loss: 0.1707 - val_digit1_loss: 0.3799 - val_digit2_loss: 0.3879 - val_digit3_loss: 0.3611 - val_digit4_loss: 0.1823 - val_digit0_accuracy: 0.9399 - val_digit1_accuracy: 0.8804 - val_digit2_accuracy: 0.8781 - val_digit3_accuracy: 0.8890 - val_digit4_accuracy: 0.9372\n",
      "Epoch 10/25\n",
      "301/301 [==============================] - 173s 574ms/step - loss: 2.2027 - digit0_loss: 0.2746 - digit1_loss: 0.5390 - digit2_loss: 0.5816 - digit3_loss: 0.5273 - digit4_loss: 0.2802 - digit0_accuracy: 0.9054 - digit1_accuracy: 0.8271 - digit2_accuracy: 0.8172 - digit3_accuracy: 0.8312 - digit4_accuracy: 0.9047 - val_loss: 1.5339 - val_digit0_loss: 0.1892 - val_digit1_loss: 0.3939 - val_digit2_loss: 0.3885 - val_digit3_loss: 0.3708 - val_digit4_loss: 0.1915 - val_digit0_accuracy: 0.9327 - val_digit1_accuracy: 0.8802 - val_digit2_accuracy: 0.8755 - val_digit3_accuracy: 0.8835 - val_digit4_accuracy: 0.9351\n"
     ]
    },
    {
     "name": "stdout",
     "output_type": "stream",
     "text": [
      "Epoch 11/25\n",
      "301/301 [==============================] - 175s 582ms/step - loss: 2.1586 - digit0_loss: 0.2704 - digit1_loss: 0.5292 - digit2_loss: 0.5733 - digit3_loss: 0.5130 - digit4_loss: 0.2726 - digit0_accuracy: 0.9081 - digit1_accuracy: 0.8314 - digit2_accuracy: 0.8194 - digit3_accuracy: 0.8345 - digit4_accuracy: 0.9070 - val_loss: 1.4210 - val_digit0_loss: 0.1688 - val_digit1_loss: 0.3651 - val_digit2_loss: 0.3655 - val_digit3_loss: 0.3409 - val_digit4_loss: 0.1806 - val_digit0_accuracy: 0.9415 - val_digit1_accuracy: 0.8899 - val_digit2_accuracy: 0.8852 - val_digit3_accuracy: 0.8961 - val_digit4_accuracy: 0.9393\n",
      "Epoch 12/25\n",
      "301/301 [==============================] - 187s 621ms/step - loss: 2.1212 - digit0_loss: 0.2634 - digit1_loss: 0.5186 - digit2_loss: 0.5637 - digit3_loss: 0.5058 - digit4_loss: 0.2697 - digit0_accuracy: 0.9106 - digit1_accuracy: 0.8346 - digit2_accuracy: 0.8225 - digit3_accuracy: 0.8383 - digit4_accuracy: 0.9090 - val_loss: 1.4142 - val_digit0_loss: 0.1731 - val_digit1_loss: 0.3596 - val_digit2_loss: 0.3664 - val_digit3_loss: 0.3418 - val_digit4_loss: 0.1733 - val_digit0_accuracy: 0.9391 - val_digit1_accuracy: 0.8890 - val_digit2_accuracy: 0.8838 - val_digit3_accuracy: 0.8929 - val_digit4_accuracy: 0.9384\n",
      "Epoch 13/25\n",
      "301/301 [==============================] - 197s 654ms/step - loss: 2.0585 - digit0_loss: 0.2540 - digit1_loss: 0.5077 - digit2_loss: 0.5449 - digit3_loss: 0.4860 - digit4_loss: 0.2659 - digit0_accuracy: 0.9130 - digit1_accuracy: 0.8375 - digit2_accuracy: 0.8271 - digit3_accuracy: 0.8444 - digit4_accuracy: 0.9101 - val_loss: 1.3711 - val_digit0_loss: 0.1626 - val_digit1_loss: 0.3536 - val_digit2_loss: 0.3543 - val_digit3_loss: 0.3331 - val_digit4_loss: 0.1675 - val_digit0_accuracy: 0.9429 - val_digit1_accuracy: 0.8908 - val_digit2_accuracy: 0.8884 - val_digit3_accuracy: 0.8978 - val_digit4_accuracy: 0.9422\n",
      "Epoch 14/25\n",
      "301/301 [==============================] - 222s 739ms/step - loss: 2.0343 - digit0_loss: 0.2535 - digit1_loss: 0.4984 - digit2_loss: 0.5423 - digit3_loss: 0.4788 - digit4_loss: 0.2611 - digit0_accuracy: 0.9126 - digit1_accuracy: 0.8383 - digit2_accuracy: 0.8285 - digit3_accuracy: 0.8457 - digit4_accuracy: 0.9119 - val_loss: 1.3759 - val_digit0_loss: 0.1636 - val_digit1_loss: 0.3548 - val_digit2_loss: 0.3552 - val_digit3_loss: 0.3319 - val_digit4_loss: 0.1704 - val_digit0_accuracy: 0.9441 - val_digit1_accuracy: 0.8904 - val_digit2_accuracy: 0.8877 - val_digit3_accuracy: 0.8957 - val_digit4_accuracy: 0.9414\n",
      "Epoch 15/25\n",
      "301/301 [==============================] - 167s 554ms/step - loss: 1.9873 - digit0_loss: 0.2459 - digit1_loss: 0.4835 - digit2_loss: 0.5249 - digit3_loss: 0.4764 - digit4_loss: 0.2566 - digit0_accuracy: 0.9163 - digit1_accuracy: 0.8434 - digit2_accuracy: 0.8333 - digit3_accuracy: 0.8470 - digit4_accuracy: 0.9135 - val_loss: 1.3631 - val_digit0_loss: 0.1613 - val_digit1_loss: 0.3504 - val_digit2_loss: 0.3524 - val_digit3_loss: 0.3320 - val_digit4_loss: 0.1670 - val_digit0_accuracy: 0.9434 - val_digit1_accuracy: 0.8932 - val_digit2_accuracy: 0.8904 - val_digit3_accuracy: 0.8982 - val_digit4_accuracy: 0.9435\n",
      "Epoch 16/25\n",
      "301/301 [==============================] - 166s 552ms/step - loss: 1.9792 - digit0_loss: 0.2486 - digit1_loss: 0.4836 - digit2_loss: 0.5212 - digit3_loss: 0.4717 - digit4_loss: 0.2542 - digit0_accuracy: 0.9154 - digit1_accuracy: 0.8447 - digit2_accuracy: 0.8352 - digit3_accuracy: 0.8494 - digit4_accuracy: 0.9140 - val_loss: 1.3380 - val_digit0_loss: 0.1578 - val_digit1_loss: 0.3473 - val_digit2_loss: 0.3471 - val_digit3_loss: 0.3204 - val_digit4_loss: 0.1654 - val_digit0_accuracy: 0.9454 - val_digit1_accuracy: 0.8914 - val_digit2_accuracy: 0.8903 - val_digit3_accuracy: 0.9013 - val_digit4_accuracy: 0.9424\n",
      "Epoch 17/25\n",
      "301/301 [==============================] - 166s 552ms/step - loss: 1.9364 - digit0_loss: 0.2422 - digit1_loss: 0.4744 - digit2_loss: 0.5125 - digit3_loss: 0.4591 - digit4_loss: 0.2481 - digit0_accuracy: 0.9173 - digit1_accuracy: 0.8466 - digit2_accuracy: 0.8377 - digit3_accuracy: 0.8525 - digit4_accuracy: 0.9146 - val_loss: 1.3335 - val_digit0_loss: 0.1549 - val_digit1_loss: 0.3440 - val_digit2_loss: 0.3464 - val_digit3_loss: 0.3213 - val_digit4_loss: 0.1669 - val_digit0_accuracy: 0.9465 - val_digit1_accuracy: 0.8926 - val_digit2_accuracy: 0.8915 - val_digit3_accuracy: 0.8954 - val_digit4_accuracy: 0.9424\n",
      "Epoch 18/25\n",
      "301/301 [==============================] - 182s 605ms/step - loss: 1.8963 - digit0_loss: 0.2374 - digit1_loss: 0.4629 - digit2_loss: 0.4969 - digit3_loss: 0.4541 - digit4_loss: 0.2450 - digit0_accuracy: 0.9183 - digit1_accuracy: 0.8511 - digit2_accuracy: 0.8423 - digit3_accuracy: 0.8524 - digit4_accuracy: 0.9162 - val_loss: 1.3221 - val_digit0_loss: 0.1572 - val_digit1_loss: 0.3448 - val_digit2_loss: 0.3405 - val_digit3_loss: 0.3156 - val_digit4_loss: 0.1641 - val_digit0_accuracy: 0.9459 - val_digit1_accuracy: 0.8918 - val_digit2_accuracy: 0.8899 - val_digit3_accuracy: 0.9015 - val_digit4_accuracy: 0.9435\n",
      "Epoch 19/25\n",
      "301/301 [==============================] - 196s 652ms/step - loss: 1.8681 - digit0_loss: 0.2326 - digit1_loss: 0.4580 - digit2_loss: 0.4966 - digit3_loss: 0.4382 - digit4_loss: 0.2426 - digit0_accuracy: 0.9205 - digit1_accuracy: 0.8525 - digit2_accuracy: 0.8430 - digit3_accuracy: 0.8573 - digit4_accuracy: 0.9178 - val_loss: 1.3418 - val_digit0_loss: 0.1629 - val_digit1_loss: 0.3474 - val_digit2_loss: 0.3444 - val_digit3_loss: 0.3170 - val_digit4_loss: 0.1702 - val_digit0_accuracy: 0.9453 - val_digit1_accuracy: 0.8949 - val_digit2_accuracy: 0.8892 - val_digit3_accuracy: 0.9024 - val_digit4_accuracy: 0.9428\n",
      "Epoch 20/25\n",
      "301/301 [==============================] - 194s 646ms/step - loss: 1.8495 - digit0_loss: 0.2360 - digit1_loss: 0.4495 - digit2_loss: 0.4891 - digit3_loss: 0.4362 - digit4_loss: 0.2386 - digit0_accuracy: 0.9191 - digit1_accuracy: 0.8543 - digit2_accuracy: 0.8448 - digit3_accuracy: 0.8588 - digit4_accuracy: 0.9182 - val_loss: 1.3012 - val_digit0_loss: 0.1609 - val_digit1_loss: 0.3266 - val_digit2_loss: 0.3344 - val_digit3_loss: 0.3138 - val_digit4_loss: 0.1655 - val_digit0_accuracy: 0.9438 - val_digit1_accuracy: 0.8980 - val_digit2_accuracy: 0.8948 - val_digit3_accuracy: 0.9009 - val_digit4_accuracy: 0.9440\n",
      "Epoch 21/25\n",
      "301/301 [==============================] - 190s 630ms/step - loss: 1.8237 - digit0_loss: 0.2300 - digit1_loss: 0.4450 - digit2_loss: 0.4811 - digit3_loss: 0.4291 - digit4_loss: 0.2385 - digit0_accuracy: 0.9208 - digit1_accuracy: 0.8574 - digit2_accuracy: 0.8473 - digit3_accuracy: 0.8607 - digit4_accuracy: 0.9183 - val_loss: 1.3024 - val_digit0_loss: 0.1673 - val_digit1_loss: 0.3345 - val_digit2_loss: 0.3299 - val_digit3_loss: 0.3095 - val_digit4_loss: 0.1612 - val_digit0_accuracy: 0.9427 - val_digit1_accuracy: 0.8972 - val_digit2_accuracy: 0.8967 - val_digit3_accuracy: 0.9012 - val_digit4_accuracy: 0.9458\n",
      "Epoch 22/25\n",
      "301/301 [==============================] - 182s 606ms/step - loss: 1.8062 - digit0_loss: 0.2270 - digit1_loss: 0.4432 - digit2_loss: 0.4764 - digit3_loss: 0.4238 - digit4_loss: 0.2359 - digit0_accuracy: 0.9213 - digit1_accuracy: 0.8566 - digit2_accuracy: 0.8473 - digit3_accuracy: 0.8612 - digit4_accuracy: 0.9189 - val_loss: 1.3051 - val_digit0_loss: 0.1561 - val_digit1_loss: 0.3382 - val_digit2_loss: 0.3387 - val_digit3_loss: 0.3130 - val_digit4_loss: 0.1592 - val_digit0_accuracy: 0.9460 - val_digit1_accuracy: 0.8948 - val_digit2_accuracy: 0.8925 - val_digit3_accuracy: 0.9032 - val_digit4_accuracy: 0.9459\n",
      "Epoch 23/25\n",
      "301/301 [==============================] - 193s 640ms/step - loss: 1.7873 - digit0_loss: 0.2272 - digit1_loss: 0.4379 - digit2_loss: 0.4684 - digit3_loss: 0.4211 - digit4_loss: 0.2327 - digit0_accuracy: 0.9227 - digit1_accuracy: 0.8589 - digit2_accuracy: 0.8510 - digit3_accuracy: 0.8636 - digit4_accuracy: 0.9208 - val_loss: 1.2719 - val_digit0_loss: 0.1478 - val_digit1_loss: 0.3294 - val_digit2_loss: 0.3304 - val_digit3_loss: 0.3036 - val_digit4_loss: 0.1606 - val_digit0_accuracy: 0.9488 - val_digit1_accuracy: 0.8987 - val_digit2_accuracy: 0.8986 - val_digit3_accuracy: 0.9062 - val_digit4_accuracy: 0.9451\n",
      "Epoch 24/25\n"
     ]
    },
    {
     "name": "stdout",
     "output_type": "stream",
     "text": [
      "301/301 [==============================] - 171s 570ms/step - loss: 1.7589 - digit0_loss: 0.2200 - digit1_loss: 0.4328 - digit2_loss: 0.4627 - digit3_loss: 0.4135 - digit4_loss: 0.2299 - digit0_accuracy: 0.9233 - digit1_accuracy: 0.8595 - digit2_accuracy: 0.8530 - digit3_accuracy: 0.8647 - digit4_accuracy: 0.9209 - val_loss: 1.2493 - val_digit0_loss: 0.1482 - val_digit1_loss: 0.3232 - val_digit2_loss: 0.3205 - val_digit3_loss: 0.2994 - val_digit4_loss: 0.1580 - val_digit0_accuracy: 0.9469 - val_digit1_accuracy: 0.9005 - val_digit2_accuracy: 0.8991 - val_digit3_accuracy: 0.9065 - val_digit4_accuracy: 0.9460\n",
      "Epoch 25/25\n",
      "301/301 [==============================] - 172s 570ms/step - loss: 1.7462 - digit0_loss: 0.2173 - digit1_loss: 0.4272 - digit2_loss: 0.4614 - digit3_loss: 0.4112 - digit4_loss: 0.2290 - digit0_accuracy: 0.9253 - digit1_accuracy: 0.8623 - digit2_accuracy: 0.8534 - digit3_accuracy: 0.8672 - digit4_accuracy: 0.9213 - val_loss: 1.2972 - val_digit0_loss: 0.1572 - val_digit1_loss: 0.3385 - val_digit2_loss: 0.3343 - val_digit3_loss: 0.3040 - val_digit4_loss: 0.1631 - val_digit0_accuracy: 0.9441 - val_digit1_accuracy: 0.8960 - val_digit2_accuracy: 0.8929 - val_digit3_accuracy: 0.9063 - val_digit4_accuracy: 0.9443\n"
     ]
    }
   ],
   "source": [
    "model_2 = Model(inputs=input_layer, outputs=out)\n",
    "model_2.compile(loss='categorical_crossentropy', optimizer='adam',\n",
    "              metrics=['accuracy'])\n",
    "\n",
    "hist_train_loss_digit = {i:[] for i in range(5)}\n",
    "hist_test_loss_digit = {i:[] for i in range(5)}\n",
    "\n",
    "hist_train_acc_digit = {i:[] for i in range(5)}\n",
    "hist_test_acc_digit = {i:[] for i in range(5)}\n",
    "\n",
    "hist_train_loss = []\n",
    "hist_test_loss = []\n",
    "\n",
    "hist_train_acc = []\n",
    "hist_test_acc = []\n",
    "\n",
    "digit_acc = [[] for _ in range(NUM_OF_LETTERS)]\n",
    "val_digit_acc = [[] for _ in range(NUM_OF_LETTERS)]\n",
    "loss = []\n",
    "val_loss = []\n",
    "\n",
    "history2 = model_2.fit(x_train, s_train,\n",
    "                    batch_size=BATCH_SIZE,\n",
    "                    epochs=EPOCHS,\n",
    "                    verbose=1,\n",
    "                    validation_data=(x_test, s_test)\n",
    "                   )"
   ]
  },
  {
   "cell_type": "code",
   "execution_count": 15,
   "id": "a3def92d",
   "metadata": {},
   "outputs": [],
   "source": [
    "digit_acc = [[] for _ in range(NUM_OF_LETTERS)]\n",
    "val_digit_acc = [[] for _ in range(NUM_OF_LETTERS)]\n",
    "loss = []\n",
    "val_loss = []\n",
    "\n",
    "\n",
    "def plot_diagram(digit_acc_now, val_digit_acc_now, loss_now, val_loss_now):\n",
    "    global digit_acc, val_digit_acc, loss, val_loss\n",
    "    \n",
    "    \n",
    "    for i in range(NUM_OF_LETTERS):\n",
    "        digit_acc[i].extend(digit_acc_now[i])\n",
    "        val_digit_acc[i].extend(val_digit_acc_now[i])\n",
    "    loss.extend(loss_now)\n",
    "    val_loss.extend(val_loss_now)\n",
    "    \n",
    "    for i in range(NUM_OF_LETTERS):\n",
    "        s = {0:'First', 1:'Second', 2:'Third', 3:'Fourth', 4:'Fifth'}[i]\n",
    "        # plt.plot(val_digit_acc[i], label='%s Digit Train' % s)\n",
    "        plt.plot(digit_acc[i], label='%s Digit Test' % s)\n",
    "\n",
    "    plt.title('Model accuracy')\n",
    "    plt.ylabel('Accuracy')\n",
    "    plt.xlabel('Epoch')\n",
    "    plt.legend()\n",
    "    plt.show()\n",
    "\n",
    "    for i in range(NUM_OF_LETTERS):\n",
    "        s = {0:'First', 1:'Second', 2:'Third', 3:'Fourth', 4:'Fifth'}[i]\n",
    "        plt.plot(val_digit_acc[i], label='%s Digit Train' % s)\n",
    "        # plt.plot(digit_acc[i], label='%s Digit Test' % s)\n",
    "\n",
    "    plt.title('Model accuracy')\n",
    "    plt.ylabel('Accuracy')\n",
    "    plt.xlabel('Epoch')\n",
    "    plt.legend()\n",
    "    plt.show()\n",
    "\n",
    "    # Plot training & validation loss values\n",
    "    \n",
    "    plt.plot(val_loss, label='Train')\n",
    "    plt.plot(loss, label='Test')\n",
    "    plt.title('Model loss')\n",
    "    plt.ylabel('Loss')\n",
    "    plt.xlabel('Epoch')\n",
    "    plt.legend()\n",
    "    plt.show()"
   ]
  },
  {
   "cell_type": "code",
   "execution_count": 16,
   "id": "8675d113",
   "metadata": {},
   "outputs": [
    {
     "data": {
      "image/png": "[encoded data removed]",
      "text/plain": [
       "<Figure size 432x288 with 1 Axes>"
      ]
     },
     "metadata": {
      "needs_background": "light"
     },
     "output_type": "display_data"
    },
    {
     "data": {
      "image/png": "[encoded data removed]",
      "text/plain": [
       "<Figure size 432x288 with 1 Axes>"
      ]
     },
     "metadata": {
      "needs_background": "light"
     },
     "output_type": "display_data"
    },
    {
     "data": {
      "image/png": "[encoded data removed]",
      "text/plain": [
       "<Figure size 432x288 with 1 Axes>"
      ]
     },
     "metadata": {
      "needs_background": "light"
     },
     "output_type": "display_data"
    }
   ],
   "source": [
    "plot_diagram(\n",
    "    \n",
    "    [history.history['digit%d_accuracy' % i] for i in range(NUM_OF_LETTERS)],\n",
    "    [history.history['val_digit%d_accuracy' % i] for i in range(NUM_OF_LETTERS)],\n",
    "    history.history['loss'],\n",
    "    history.history['val_loss'],\n",
    ")"
   ]
  },
  {
   "cell_type": "code",
   "execution_count": 20,
   "id": "dcfc8862",
   "metadata": {},
   "outputs": [
    {
     "name": "stdout",
     "output_type": "stream",
     "text": [
      "2815/2815 [==============================] - 54s 19ms/step - loss: 0.0482 - digit0_loss: 0.0054 - digit1_loss: 0.0120 - digit2_loss: 0.0131 - digit3_loss: 0.0116 - digit4_loss: 0.0060 - digit0_accuracy: 0.9737 - digit1_accuracy: 0.9560 - digit2_accuracy: 0.9496 - digit3_accuracy: 0.9568 - digit4_accuracy: 0.9707\n",
      "Train loss:     0.018063\n",
      "Train accuracy: 82.09\n"
     ]
    }
   ],
   "source": [
    "# Score trained model.\n",
    "scores = model.evaluate(x_train, s_train, verbose=1)\n",
    "print('Train loss:     %f' % np.mean(scores[0:5]))\n",
    "acc = 1.\n",
    "for i in range(5):\n",
    "    acc *= scores[6+i]\n",
    "print('Train accuracy: %.2f' % (acc * 100.))\n"
   ]
  },
  {
   "cell_type": "code",
   "execution_count": 21,
   "id": "e054d528",
   "metadata": {},
   "outputs": [
    {
     "name": "stdout",
     "output_type": "stream",
     "text": [
      "311/311 [==============================] - 6s 18ms/step - loss: 0.0622 - digit0_loss: 0.0073 - digit1_loss: 0.0158 - digit2_loss: 0.0166 - digit3_loss: 0.0147 - digit4_loss: 0.0078 - digit0_accuracy: 0.9441 - digit1_accuracy: 0.8960 - digit2_accuracy: 0.8929 - digit3_accuracy: 0.9063 - digit4_accuracy: 0.9443\n",
      "Test loss:     0.023301\n",
      "Test accuracy: 64.64\n"
     ]
    }
   ],
   "source": [
    "scores = model.evaluate(x_test, s_test, verbose=1)\n",
    "print('Test loss:     %f' % np.mean(scores[0:5]))\n",
    "acc = 1.\n",
    "for i in range(5):\n",
    "    acc *= scores[6+i]\n",
    "print('Test accuracy: %.2f' % (acc * 100.))"
   ]
  },
  {
   "cell_type": "code",
   "execution_count": 22,
   "id": "02b3c9ba",
   "metadata": {},
   "outputs": [
    {
     "name": "stdout",
     "output_type": "stream",
     "text": [
      "2815/2815 [==============================] - 54s 19ms/step - loss: 0.6632 - digit0_loss: 0.0792 - digit1_loss: 0.1631 - digit2_loss: 0.1776 - digit3_loss: 0.1578 - digit4_loss: 0.0856 - digit0_accuracy: 0.9737 - digit1_accuracy: 0.9560 - digit2_accuracy: 0.9496 - digit3_accuracy: 0.9568 - digit4_accuracy: 0.9707\n",
      "Train loss:     0.248162\n",
      "Train accuracy: 82.09\n"
     ]
    }
   ],
   "source": [
    "scores = model_2.evaluate(x_train, s_train, verbose=1)\n",
    "print('Train loss:     %f' % np.mean(scores[0:5]))\n",
    "acc = 1.\n",
    "for i in range(5):\n",
    "    acc *= scores[6+i]\n",
    "print('Train accuracy: %.2f' % (acc * 100.))"
   ]
  },
  {
   "cell_type": "code",
   "execution_count": 23,
   "id": "e1c16a37",
   "metadata": {},
   "outputs": [
    {
     "name": "stdout",
     "output_type": "stream",
     "text": [
      "311/311 [==============================] - 6s 18ms/step - loss: 1.2972 - digit0_loss: 0.1572 - digit1_loss: 0.3385 - digit2_loss: 0.3343 - digit3_loss: 0.3040 - digit4_loss: 0.1631 - digit0_accuracy: 0.9441 - digit1_accuracy: 0.8960 - digit2_accuracy: 0.8929 - digit3_accuracy: 0.9063 - digit4_accuracy: 0.9443\n",
      "Test loss:     0.486236\n",
      "Test accuracy: 64.64\n"
     ]
    }
   ],
   "source": [
    "scores = model_2.evaluate(x_test, s_test, verbose=1)\n",
    "print('Test loss:     %f' % np.mean(scores[0:5]))\n",
    "acc = 1.\n",
    "for i in range(5):\n",
    "    acc *= scores[6+i]\n",
    "print('Test accuracy: %.2f' % (acc * 100.))"
   ]
  },
  {
   "cell_type": "code",
   "execution_count": null,
   "id": "97f5789b",
   "metadata": {},
   "outputs": [],
   "source": []
  }
 ],
 "metadata": {
  "kernelspec": {
   "display_name": "tf",
   "language": "python",
   "name": "tf"
  },
  "language_info": {
   "codemirror_mode": {
    "name": "ipython",
    "version": 3
   },
   "file_extension": ".py",
   "mimetype": "text/x-python",
   "name": "python",
   "nbconvert_exporter": "python",
   "pygments_lexer": "ipython3",
   "version": "3.7.10"
  }
 },
 "nbformat": 4,
 "nbformat_minor": 5
}
