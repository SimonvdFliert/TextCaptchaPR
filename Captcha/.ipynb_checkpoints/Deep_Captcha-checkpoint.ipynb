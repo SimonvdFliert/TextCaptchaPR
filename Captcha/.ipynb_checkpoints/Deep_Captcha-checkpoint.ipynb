{
 "cells": [
  {
   "cell_type": "code",
   "execution_count": 34,
   "id": "39deba17",
   "metadata": {},
   "outputs": [],
   "source": [
    "import tensorflow as tf\n",
    "import argparse\n",
    "import json\n",
    "import string\n",
    "import os\n",
    "import shutil\n",
    "import uuid\n",
    "from captcha.image import ImageCaptcha\n",
    "import itertools\n",
    "import os\n",
    "import cv2\n",
    "import numpy as np\n",
    "from random import random, randint, choices\n",
    "from tensorflow import keras\n",
    "from tensorflow.keras.models import Sequential, Model\n",
    "from tensorflow.keras.layers import Dense, Dropout, Activation, Flatten\n",
    "from tensorflow.keras.layers import Conv2D, MaxPooling2D, Input, AveragePooling2D\n",
    "import matplotlib.pyplot as plt\n",
    "from keras.models import load_model\n"
   ]
  },
  {
   "cell_type": "code",
   "execution_count": 90,
   "id": "7d0926bd",
   "metadata": {},
   "outputs": [],
   "source": [
    "# generated CAPTCHAs using Python ImageCaptcha Library\n",
    "alphabet_all = list('abcdefghijklmnopqrstuvwxyzABCDEFGHIJKLMNOPQRSTUVWXYZ0123456789')\n",
    "#alphabet_all = list('qwertyupasdfghjkzxcvbnmo23456789QWERTYUPKJHGFDSAZXCVBNM')\n",
    "alphabet = list('abcdefghijklmnopqrstuvwxyzABCDEFGHIJKLMNOPQRSTUVWXYZ0123456789')\n",
    "num_alphabet = len(alphabet)\n",
    "\n",
    "def _gen_captcha(img_dir, num_of_letters, num_of_repetition, width, height):\n",
    "    if os.path.exists(img_dir):\n",
    "        shutil.rmtree(img_dir)\n",
    "    if not os.path.exists(img_dir):\n",
    "        os.makedirs(img_dir)\n",
    "        \n",
    "    image = ImageCaptcha(width=width, height=height)\n",
    "\n",
    "    for counter in range(num_of_repetition):\n",
    "        i = choices(alphabet_all, k=5)\n",
    "        captcha = ''.join(i)\n",
    "        fn = os.path.join(img_dir, '%s_%s.png' % (captcha, uuid.uuid4()))\n",
    "        image.write(captcha, fn)\n",
    "\n",
    "def gen_dataset(path, num_of_repetition, num_of_letters, width, height):\n",
    "    _gen_captcha(os.path.join(path, 'data'), num_of_letters, num_of_repetition, width, height)\n",
    "    print('Finished Data Generation')"
   ]
  },
  {
   "cell_type": "code",
   "execution_count": 93,
   "id": "3af220ff",
   "metadata": {},
   "outputs": [],
   "source": [
    "BATCH_SIZE = 128\n",
    "NUM_OF_LETTERS = 5\n",
    "EPOCHS = 50\n",
    "IMG_ROW, IMG_COLS = 50, 135\n",
    "# Non-configs\n",
    "PATH = os.getcwd() # get current path\n",
    "DATA_PATH = os.path.join(PATH, 'train')# create new folder for data"
   ]
  },
  {
   "cell_type": "code",
   "execution_count": 94,
   "id": "8d4d048b",
   "metadata": {},
   "outputs": [],
   "source": [
    "# Save model and weights\n",
    "def SaveModel(model, save_dir, model_name):\n",
    "    if not os.path.isdir(save_dir):\n",
    "        os.makedirs(save_dir)\n",
    "    model_path = os.path.join(save_dir, model_name)\n",
    "    model.save(model_path)\n",
    "    print('Saved trained model at %s ' % save_dir)"
   ]
  },
  {
   "cell_type": "code",
   "execution_count": 95,
   "id": "4221c902",
   "metadata": {},
   "outputs": [],
   "source": [
    "#pre-processing\n",
    "def load_data(path, test_split=0.1):\n",
    "    print ('loading dataset...')\n",
    "    y_train = []\n",
    "    y_test = []\n",
    "    x_train = []\n",
    "    x_test = []\n",
    "\n",
    "    # r=root, d=directories, f = files\n",
    "    counter = 0\n",
    "    for r, d, f in os.walk(path):\n",
    "        for fl in f:\n",
    "            if '.png' in fl:\n",
    "                flr = fl.split('_')[0]\n",
    "                counter += 1\n",
    "                label = np.zeros((NUM_OF_LETTERS, num_alphabet))\n",
    "                for i in range(NUM_OF_LETTERS):\n",
    "                    label[i, alphabet.index(flr[i].lower())] = 1\n",
    "#                 label = np.zeros((50, 1))\n",
    "#                 for i in range(5):\n",
    "#                     label[i*5+int(flr[i])] = 1\n",
    "                img = cv2.imread(os.path.join(r, fl))\n",
    "                img = cv2.cvtColor(img, cv2.COLOR_BGR2GRAY)\n",
    "                img = cv2.resize(img, (int(135/2), int(50/2)), interpolation=cv2.INTER_AREA)\n",
    "                img = np.reshape(img, (img.shape[0], img.shape[1], 1))\n",
    "\n",
    "                if random() < test_split:\n",
    "                    y_test.append(label)\n",
    "                    x_test.append(img)\n",
    "                else:\n",
    "                    y_train.append(label)\n",
    "                    x_train.append(img)\n",
    "\n",
    "    print('dataset size:', counter, '(train=%d, test=%d)' % (len(y_train), len(y_test)))\n",
    "    return np.array(x_train), np.array(y_train), np.array(x_test), np.array(y_test)"
   ]
  },
  {
   "cell_type": "code",
   "execution_count": 96,
   "id": "f6ef0694",
   "metadata": {},
   "outputs": [
    {
     "name": "stdout",
     "output_type": "stream",
     "text": [
      "Generating Dataset\n",
      "Finished Data Generation\n"
     ]
    }
   ],
   "source": [
    "if not os.path.exists(DATA_PATH):\n",
    "    print('Generating Dataset')\n",
    "    gen_dataset(DATA_PATH, 50*1000 , NUM_OF_LETTERS, IMG_COLS, IMG_ROW)"
   ]
  },
  {
   "cell_type": "code",
   "execution_count": 97,
   "id": "f8a54f23",
   "metadata": {},
   "outputs": [
    {
     "name": "stdout",
     "output_type": "stream",
     "text": [
      "loading dataset...\n",
      "dataset size: 50000 (train=45054, test=4946)\n"
     ]
    }
   ],
   "source": [
    "x_train, y_train, x_test, y_test = load_data(DATA_PATH)\n",
    "\n",
    "x_train = x_train.astype('float32')\n",
    "x_test = x_test.astype('float32')\n",
    "x_train /= 255\n",
    "x_test /= 255"
   ]
  },
  {
   "cell_type": "code",
   "execution_count": 98,
   "id": "59551eb5",
   "metadata": {},
   "outputs": [
    {
     "name": "stdout",
     "output_type": "stream",
     "text": [
      "(45054, 25, 67, 1)\n",
      "(45054, 5, 62)\n",
      "(4946, 25, 67, 1)\n",
      "(4946, 5, 62)\n"
     ]
    }
   ],
   "source": [
    "print(x_train.shape)\n",
    "print(y_train.shape)\n",
    "print(x_test.shape)\n",
    "print(y_test.shape)"
   ]
  },
  {
   "cell_type": "code",
   "execution_count": 99,
   "id": "1e7ee564",
   "metadata": {},
   "outputs": [],
   "source": [
    "s_train = []\n",
    "s_test = []\n",
    "for i in range(NUM_OF_LETTERS):\n",
    "    s_train.append(y_train[:, i, :])\n",
    "    s_test.append(y_test[:, i, :])"
   ]
  },
  {
   "cell_type": "code",
   "execution_count": 100,
   "id": "2a0ab963",
   "metadata": {},
   "outputs": [],
   "source": [
    "save_dir = os.path.join(PATH, 'saved_models')\n",
    "model_name = ''"
   ]
  },
  {
   "cell_type": "code",
   "execution_count": 115,
   "id": "ab3cdda9",
   "metadata": {},
   "outputs": [],
   "source": [
    "def ModelVGG19(input_shape):\n",
    "    input_layer = Input(input_shape)\n",
    "    x = Conv2D(filters=64, kernel_size=(3, 3), padding='same', activation='relu')(input_layer)\n",
    "    x = Conv2D(filters=64, kernel_size=(3, 3), padding='same', activation='relu')(x)  \n",
    "    x = MaxPooling2D(pool_size=(2, 2), strides=(2,2), padding='same')(x) #strides= (2,2)\n",
    "    \n",
    "    x = Conv2D(filters=128, kernel_size=(3, 3), padding='same', activation='relu')(x)\n",
    "    x = Conv2D(filters=128, kernel_size=(3, 3), padding='same', activation='relu')(x)\n",
    "    x = MaxPooling2D(pool_size=(2, 2), strides=(2,2), padding='same')(x) #strides= (2,2)\n",
    "\n",
    "    x = Conv2D(filters=256, kernel_size=(3, 3), padding='same', activation='relu')(x)\n",
    "    x = Conv2D(filters=256, kernel_size=(3, 3), padding='same', activation='relu')(x)\n",
    "    x = Conv2D(filters=256, kernel_size=(3, 3), padding='same', activation='relu')(x)\n",
    "    x = Conv2D(filters=256, kernel_size=(3, 3), padding='same', activation='relu')(x)\n",
    "    x = MaxPooling2D(pool_size=(2, 2), strides=(2,2), padding='same')(x) #strides= (2,2)\n",
    "\n",
    "    x = Conv2D(filters=512, kernel_size=(3, 3), padding='same', activation='relu')(x)\n",
    "    x = Conv2D(filters=512, kernel_size=(3, 3), padding='same', activation='relu')(x)\n",
    "    x = Conv2D(filters=512, kernel_size=(3, 3), padding='same', activation='relu')(x)\n",
    "    x = Conv2D(filters=512, kernel_size=(3, 3), padding='same', activation='relu')(x)\n",
    "    x = MaxPooling2D(pool_size=(2, 2), strides=(2,2), padding='same')(x) #strides= (2,2)\n",
    "\n",
    "    x = Conv2D(filters=512, kernel_size=(3, 3), padding='same', activation='relu')(x)\n",
    "    x = Conv2D(filters=512, kernel_size=(3, 3), padding='same', activation='relu')(x)\n",
    "    x = Conv2D(filters=512, kernel_size=(3, 3), padding='same', activation='relu')(x)\n",
    "    x = Conv2D(filters=512, kernel_size=(3, 3), padding='same', activation='relu')(x)\n",
    "    x = MaxPooling2D(pool_size=(2, 2), strides=(2,2), padding='same')(x) #strides= (2,2)\n",
    "\n",
    "      \n",
    "    x = Flatten()(x)\n",
    "    x = Dense(4096, activation='relu')(x)\n",
    "    x = Dropout(0.5)(x)\n",
    "    x = Dense(4096, activation='relu')(x)\n",
    "    x = Dropout(0.5)(x)\n",
    "    \n",
    "    out = [Dense(num_alphabet, name='digit%d' % i, activation='softmax')(x) for i in range(NUM_OF_LETTERS)]\n",
    "    # out = Dense(num_alphabet*5, activation='sigmoid')(x)\n",
    "\n",
    "    model = Model(inputs=input_layer, outputs=out)\n",
    "    model.compile(loss='categorical_crossentropy', optimizer='adam', metrics=['accuracy'])\n",
    "    model_name = 'keras_VGG19_trained_model.h5'\n",
    "\n",
    "    return model\n"
   ]
  },
  {
   "cell_type": "code",
   "execution_count": 116,
   "id": "e42e36c5",
   "metadata": {},
   "outputs": [],
   "source": [
    "#architecture\n",
    "def ModelCifar10(input_shape):\n",
    "    input_layer = Input(input_shape)\n",
    "\n",
    "    x = Conv2D(filters=32, kernel_size=(5, 5), padding='same', activation='relu')(input_layer)\n",
    "    x = MaxPooling2D(pool_size=(2, 2))(x)\n",
    "\n",
    "    x = Conv2D(filters=48, kernel_size=(5, 5), padding='same', activation='relu')(x)\n",
    "    x = MaxPooling2D(pool_size=(2, 2))(x)\n",
    "\n",
    "    x = Conv2D(filters=64, kernel_size=(5, 5), padding='same', activation='relu')(x)\n",
    "    x = MaxPooling2D(pool_size=(2, 2))(x)\n",
    "\n",
    "    x = Dropout(0.3)(x)\n",
    "    x = Flatten()(x)\n",
    "    x = Dense(512, activation='relu')(x)\n",
    "    x = Dropout(0.3)(x)\n",
    "\n",
    "    out = [Dense(num_alphabet, name='digit%d' % i, activation='softmax')(x) for i in range(NUM_OF_LETTERS)]\n",
    "    # out = Dense(num_alphabet*5, activation='sigmoid')(x)\n",
    "\n",
    "    model = Model(inputs=input_layer, outputs=out)\n",
    "    model.compile(loss='categorical_crossentropy', optimizer='adam', metrics=['accuracy'])\n",
    "    model_name = 'keras_Cifar10_trained_model.h5'\n",
    "    return model\n",
    "\n",
    "\n",
    "    "
   ]
  },
  {
   "cell_type": "code",
   "execution_count": 117,
   "id": "91c3a587",
   "metadata": {},
   "outputs": [],
   "source": [
    "#LeNet-5 architecture\n",
    "def ModelLeNet(input_shape):\n",
    "    input_layer = Input(input_shape)\n",
    "\n",
    "    x = Conv2D(filters=6, kernel_size=(5, 5), activation='tanh')(input_layer)\n",
    "    x = AveragePooling2D(pool_size=(2, 2),strides=(2, 2))(x)\n",
    "\n",
    "    x = Conv2D(filters=16, kernel_size=(5, 5), padding='valid', activation='tanh')(x)\n",
    "    x = AveragePooling2D(pool_size=(2, 2),strides=(2, 2))(x)\n",
    "\n",
    "    x = Flatten()(x)\n",
    "    x = Dense(120, activation='tanh')(x)\n",
    "    x = Dense(84, activation='tanh')(x)\n",
    "\n",
    "    out = [Dense(num_alphabet, name='digit%d' % i, activation='softmax')(x) for i in range(NUM_OF_LETTERS)]\n",
    "    \n",
    "    model = Model(inputs=input_layer, outputs=out)\n",
    "    model.compile(loss='categorical_crossentropy',\n",
    "                  optimizer='adam',\n",
    "                  metrics=['accuracy'])\n",
    "    model_name = 'keras_LeNet_trained_model.h5'\n",
    "    return model\n",
    "\n",
    "\n"
   ]
  },
  {
   "cell_type": "code",
   "execution_count": 101,
   "id": "9fecdb0d",
   "metadata": {},
   "outputs": [],
   "source": [
    "# model = ModelCifar10((25, 67, 1))\n",
    "# model = ModelVGG19((25, 67, 1))\n",
    "model_name = 'keras_LeNet_trained_model.h5'\n",
    "model = ModelLeNet((25, 67, 1))\n"
   ]
  },
  {
   "cell_type": "code",
   "execution_count": 102,
   "id": "14caab0a",
   "metadata": {
    "scrolled": true
   },
   "outputs": [
    {
     "name": "stdout",
     "output_type": "stream",
     "text": [
      "Model: \"model_7\"\n",
      "__________________________________________________________________________________________________\n",
      "Layer (type)                    Output Shape         Param #     Connected to                     \n",
      "==================================================================================================\n",
      "input_8 (InputLayer)            [(None, 25, 67, 1)]  0                                            \n",
      "__________________________________________________________________________________________________\n",
      "conv2d_29 (Conv2D)              (None, 21, 63, 6)    156         input_8[0][0]                    \n",
      "__________________________________________________________________________________________________\n",
      "average_pooling2d_10 (AveragePo (None, 10, 31, 6)    0           conv2d_29[0][0]                  \n",
      "__________________________________________________________________________________________________\n",
      "conv2d_30 (Conv2D)              (None, 6, 27, 16)    2416        average_pooling2d_10[0][0]       \n",
      "__________________________________________________________________________________________________\n",
      "average_pooling2d_11 (AveragePo (None, 3, 13, 16)    0           conv2d_30[0][0]                  \n",
      "__________________________________________________________________________________________________\n",
      "flatten_7 (Flatten)             (None, 624)          0           average_pooling2d_11[0][0]       \n",
      "__________________________________________________________________________________________________\n",
      "dense_13 (Dense)                (None, 120)          75000       flatten_7[0][0]                  \n",
      "__________________________________________________________________________________________________\n",
      "dense_14 (Dense)                (None, 84)           10164       dense_13[0][0]                   \n",
      "__________________________________________________________________________________________________\n",
      "digit0 (Dense)                  (None, 62)           5270        dense_14[0][0]                   \n",
      "__________________________________________________________________________________________________\n",
      "digit1 (Dense)                  (None, 62)           5270        dense_14[0][0]                   \n",
      "__________________________________________________________________________________________________\n",
      "digit2 (Dense)                  (None, 62)           5270        dense_14[0][0]                   \n",
      "__________________________________________________________________________________________________\n",
      "digit3 (Dense)                  (None, 62)           5270        dense_14[0][0]                   \n",
      "__________________________________________________________________________________________________\n",
      "digit4 (Dense)                  (None, 62)           5270        dense_14[0][0]                   \n",
      "==================================================================================================\n",
      "Total params: 114,086\n",
      "Trainable params: 114,086\n",
      "Non-trainable params: 0\n",
      "__________________________________________________________________________________________________\n"
     ]
    }
   ],
   "source": [
    "model.summary()"
   ]
  },
  {
   "cell_type": "code",
   "execution_count": 75,
   "id": "bb92d84d",
   "metadata": {},
   "outputs": [],
   "source": [
    "# model_path = os.path.join(save_dir, model_name)\n",
    "# model = keras.models.load_model(model_path)"
   ]
  },
  {
   "cell_type": "code",
   "execution_count": 76,
   "id": "9a95293b",
   "metadata": {},
   "outputs": [],
   "source": [
    "# # initiate Adam optimizer\n",
    "\n",
    "# model.compile(loss='categorical_crossentropy',\n",
    "#               optimizer='adam',\n",
    "#               metrics=['accuracy'])\n",
    "\n",
    "\n",
    "# model.summary() "
   ]
  },
  {
   "cell_type": "code",
   "execution_count": 103,
   "id": "40aa36d2",
   "metadata": {},
   "outputs": [],
   "source": [
    "hist_train_loss_digit = {i:[] for i in range(5)}\n",
    "hist_test_loss_digit = {i:[] for i in range(5)}\n",
    "\n",
    "hist_train_acc_digit = {i:[] for i in range(5)}\n",
    "hist_test_acc_digit = {i:[] for i in range(5)}\n",
    "\n",
    "hist_train_loss = []\n",
    "hist_test_loss = []\n",
    "\n",
    "hist_train_acc = []\n",
    "hist_test_acc = []"
   ]
  },
  {
   "cell_type": "code",
   "execution_count": 104,
   "id": "9c91024b",
   "metadata": {},
   "outputs": [],
   "source": [
    "digit_acc = [[] for _ in range(NUM_OF_LETTERS)]\n",
    "val_digit_acc = [[] for _ in range(NUM_OF_LETTERS)]\n",
    "loss = []\n",
    "val_loss = []"
   ]
  },
  {
   "cell_type": "code",
   "execution_count": 105,
   "id": "a119dc87",
   "metadata": {},
   "outputs": [
    {
     "name": "stdout",
     "output_type": "stream",
     "text": [
      "Epoch 1/50\n"
     ]
    },
    {
     "name": "stderr",
     "output_type": "stream",
     "text": [
      "2021-12-24 16:26:20.064636: I tensorflow/core/grappler/optimizers/custom_graph_optimizer_registry.cc:112] Plugin optimizer for device_type GPU is enabled.\n"
     ]
    },
    {
     "name": "stdout",
     "output_type": "stream",
     "text": [
      "352/352 [==============================] - ETA: 0s - loss: 17.8989 - digit0_loss: 3.5854 - digit1_loss: 3.5756 - digit2_loss: 3.5805 - digit3_loss: 3.5818 - digit4_loss: 3.5756 - digit0_accuracy: 0.0382 - digit1_accuracy: 0.0374 - digit2_accuracy: 0.0380 - digit3_accuracy: 0.0367 - digit4_accuracy: 0.0380"
     ]
    },
    {
     "name": "stderr",
     "output_type": "stream",
     "text": [
      "2021-12-24 16:26:31.136712: I tensorflow/core/grappler/optimizers/custom_graph_optimizer_registry.cc:112] Plugin optimizer for device_type GPU is enabled.\n"
     ]
    },
    {
     "name": "stdout",
     "output_type": "stream",
     "text": [
      "352/352 [==============================] - 12s 33ms/step - loss: 17.8989 - digit0_loss: 3.5854 - digit1_loss: 3.5756 - digit2_loss: 3.5805 - digit3_loss: 3.5818 - digit4_loss: 3.5756 - digit0_accuracy: 0.0382 - digit1_accuracy: 0.0374 - digit2_accuracy: 0.0380 - digit3_accuracy: 0.0367 - digit4_accuracy: 0.0380 - val_loss: 17.3766 - val_digit0_loss: 3.4841 - val_digit1_loss: 3.4792 - val_digit2_loss: 3.5011 - val_digit3_loss: 3.4550 - val_digit4_loss: 3.4573 - val_digit0_accuracy: 0.0629 - val_digit1_accuracy: 0.0689 - val_digit2_accuracy: 0.0489 - val_digit3_accuracy: 0.0667 - val_digit4_accuracy: 0.0791\n",
      "Epoch 2/50\n",
      "352/352 [==============================] - 11s 32ms/step - loss: 16.4751 - digit0_loss: 3.2509 - digit1_loss: 3.3508 - digit2_loss: 3.3598 - digit3_loss: 3.3175 - digit4_loss: 3.1961 - digit0_accuracy: 0.1127 - digit1_accuracy: 0.0922 - digit2_accuracy: 0.0933 - digit3_accuracy: 0.0996 - digit4_accuracy: 0.1246 - val_loss: 15.8566 - val_digit0_loss: 3.0860 - val_digit1_loss: 3.2672 - val_digit2_loss: 3.2768 - val_digit3_loss: 3.2005 - val_digit4_loss: 3.0261 - val_digit0_accuracy: 0.1391 - val_digit1_accuracy: 0.1068 - val_digit2_accuracy: 0.1033 - val_digit3_accuracy: 0.1195 - val_digit4_accuracy: 0.1595\n",
      "Epoch 3/50\n",
      "352/352 [==============================] - 11s 32ms/step - loss: 15.4396 - digit0_loss: 2.9720 - digit1_loss: 3.1855 - digit2_loss: 3.1969 - digit3_loss: 3.1510 - digit4_loss: 2.9342 - digit0_accuracy: 0.1670 - digit1_accuracy: 0.1257 - digit2_accuracy: 0.1219 - digit3_accuracy: 0.1300 - digit4_accuracy: 0.1781 - val_loss: 15.2718 - val_digit0_loss: 2.9074 - val_digit1_loss: 3.1653 - val_digit2_loss: 3.1873 - val_digit3_loss: 3.1163 - val_digit4_loss: 2.8954 - val_digit0_accuracy: 0.1739 - val_digit1_accuracy: 0.1187 - val_digit2_accuracy: 0.1177 - val_digit3_accuracy: 0.1375 - val_digit4_accuracy: 0.1832\n",
      "Epoch 4/50\n",
      "352/352 [==============================] - 11s 32ms/step - loss: 14.9461 - digit0_loss: 2.8087 - digit1_loss: 3.1069 - digit2_loss: 3.1261 - digit3_loss: 3.0781 - digit4_loss: 2.8262 - digit0_accuracy: 0.2034 - digit1_accuracy: 0.1416 - digit2_accuracy: 0.1383 - digit3_accuracy: 0.1468 - digit4_accuracy: 0.2042 - val_loss: 14.9114 - val_digit0_loss: 2.7704 - val_digit1_loss: 3.1173 - val_digit2_loss: 3.1379 - val_digit3_loss: 3.0681 - val_digit4_loss: 2.8176 - val_digit0_accuracy: 0.2052 - val_digit1_accuracy: 0.1328 - val_digit2_accuracy: 0.1294 - val_digit3_accuracy: 0.1405 - val_digit4_accuracy: 0.2032\n",
      "Epoch 5/50\n",
      "352/352 [==============================] - 11s 32ms/step - loss: 14.6179 - digit0_loss: 2.6965 - digit1_loss: 3.0611 - digit2_loss: 3.0808 - digit3_loss: 3.0275 - digit4_loss: 2.7520 - digit0_accuracy: 0.2286 - digit1_accuracy: 0.1524 - digit2_accuracy: 0.1486 - digit3_accuracy: 0.1582 - digit4_accuracy: 0.2221 - val_loss: 14.6702 - val_digit0_loss: 2.6915 - val_digit1_loss: 3.0933 - val_digit2_loss: 3.1092 - val_digit3_loss: 3.0322 - val_digit4_loss: 2.7440 - val_digit0_accuracy: 0.2256 - val_digit1_accuracy: 0.1391 - val_digit2_accuracy: 0.1371 - val_digit3_accuracy: 0.1512 - val_digit4_accuracy: 0.2248\n",
      "Epoch 6/50\n",
      "352/352 [==============================] - 11s 32ms/step - loss: 14.3668 - digit0_loss: 2.6203 - digit1_loss: 3.0261 - digit2_loss: 3.0468 - digit3_loss: 2.9897 - digit4_loss: 2.6839 - digit0_accuracy: 0.2499 - digit1_accuracy: 0.1602 - digit2_accuracy: 0.1541 - digit3_accuracy: 0.1650 - digit4_accuracy: 0.2417 - val_loss: 14.5356 - val_digit0_loss: 2.6404 - val_digit1_loss: 3.0799 - val_digit2_loss: 3.0938 - val_digit3_loss: 3.0090 - val_digit4_loss: 2.7125 - val_digit0_accuracy: 0.2414 - val_digit1_accuracy: 0.1381 - val_digit2_accuracy: 0.1415 - val_digit3_accuracy: 0.1591 - val_digit4_accuracy: 0.2335\n",
      "Epoch 7/50\n",
      "352/352 [==============================] - 11s 32ms/step - loss: 14.1599 - digit0_loss: 2.5625 - digit1_loss: 2.9929 - digit2_loss: 3.0163 - digit3_loss: 2.9568 - digit4_loss: 2.6313 - digit0_accuracy: 0.2626 - digit1_accuracy: 0.1676 - digit2_accuracy: 0.1622 - digit3_accuracy: 0.1714 - digit4_accuracy: 0.2550 - val_loss: 14.3276 - val_digit0_loss: 2.5908 - val_digit1_loss: 3.0485 - val_digit2_loss: 3.0647 - val_digit3_loss: 2.9782 - val_digit4_loss: 2.6455 - val_digit0_accuracy: 0.2515 - val_digit1_accuracy: 0.1500 - val_digit2_accuracy: 0.1524 - val_digit3_accuracy: 0.1674 - val_digit4_accuracy: 0.2487\n",
      "Epoch 8/50\n",
      "352/352 [==============================] - 11s 32ms/step - loss: 13.9398 - digit0_loss: 2.5010 - digit1_loss: 2.9548 - digit2_loss: 2.9841 - digit3_loss: 2.9200 - digit4_loss: 2.5798 - digit0_accuracy: 0.2787 - digit1_accuracy: 0.1747 - digit2_accuracy: 0.1705 - digit3_accuracy: 0.1810 - digit4_accuracy: 0.2704 - val_loss: 14.1820 - val_digit0_loss: 2.5550 - val_digit1_loss: 3.0176 - val_digit2_loss: 3.0515 - val_digit3_loss: 2.9494 - val_digit4_loss: 2.6084 - val_digit0_accuracy: 0.2651 - val_digit1_accuracy: 0.1579 - val_digit2_accuracy: 0.1569 - val_digit3_accuracy: 0.1710 - val_digit4_accuracy: 0.2576\n",
      "Epoch 9/50\n",
      "352/352 [==============================] - 11s 32ms/step - loss: 13.7041 - digit0_loss: 2.4346 - digit1_loss: 2.9114 - digit2_loss: 2.9510 - digit3_loss: 2.8802 - digit4_loss: 2.5270 - digit0_accuracy: 0.2960 - digit1_accuracy: 0.1826 - digit2_accuracy: 0.1775 - digit3_accuracy: 0.1897 - digit4_accuracy: 0.2819 - val_loss: 13.9570 - val_digit0_loss: 2.4753 - val_digit1_loss: 2.9833 - val_digit2_loss: 3.0113 - val_digit3_loss: 2.9186 - val_digit4_loss: 2.5685 - val_digit0_accuracy: 0.2851 - val_digit1_accuracy: 0.1626 - val_digit2_accuracy: 0.1617 - val_digit3_accuracy: 0.1773 - val_digit4_accuracy: 0.2675\n",
      "Epoch 10/50\n",
      "352/352 [==============================] - 11s 32ms/step - loss: 13.4726 - digit0_loss: 2.3723 - digit1_loss: 2.8700 - digit2_loss: 2.9148 - digit3_loss: 2.8375 - digit4_loss: 2.4781 - digit0_accuracy: 0.3097 - digit1_accuracy: 0.1937 - digit2_accuracy: 0.1859 - digit3_accuracy: 0.1996 - digit4_accuracy: 0.2952 - val_loss: 13.7166 - val_digit0_loss: 2.4156 - val_digit1_loss: 2.9381 - val_digit2_loss: 2.9729 - val_digit3_loss: 2.8740 - val_digit4_loss: 2.5159 - val_digit0_accuracy: 0.2926 - val_digit1_accuracy: 0.1706 - val_digit2_accuracy: 0.1640 - val_digit3_accuracy: 0.1850 - val_digit4_accuracy: 0.2802\n",
      "Epoch 11/50\n",
      "352/352 [==============================] - 11s 32ms/step - loss: 13.2229 - digit0_loss: 2.3039 - digit1_loss: 2.8229 - digit2_loss: 2.8766 - digit3_loss: 2.7923 - digit4_loss: 2.4273 - digit0_accuracy: 0.3266 - digit1_accuracy: 0.2020 - digit2_accuracy: 0.1932 - digit3_accuracy: 0.2084 - digit4_accuracy: 0.3074 - val_loss: 13.5461 - val_digit0_loss: 2.3698 - val_digit1_loss: 2.9085 - val_digit2_loss: 2.9467 - val_digit3_loss: 2.8431 - val_digit4_loss: 2.4780 - val_digit0_accuracy: 0.3132 - val_digit1_accuracy: 0.1739 - val_digit2_accuracy: 0.1747 - val_digit3_accuracy: 0.1854 - val_digit4_accuracy: 0.2907\n",
      "Epoch 12/50\n",
      "352/352 [==============================] - 11s 32ms/step - loss: 12.9803 - digit0_loss: 2.2414 - digit1_loss: 2.7807 - digit2_loss: 2.8341 - digit3_loss: 2.7473 - digit4_loss: 2.3769 - digit0_accuracy: 0.3427 - digit1_accuracy: 0.2087 - digit2_accuracy: 0.2043 - digit3_accuracy: 0.2173 - digit4_accuracy: 0.3210 - val_loss: 13.3065 - val_digit0_loss: 2.3063 - val_digit1_loss: 2.8553 - val_digit2_loss: 2.9025 - val_digit3_loss: 2.8107 - val_digit4_loss: 2.4318 - val_digit0_accuracy: 0.3215 - val_digit1_accuracy: 0.1803 - val_digit2_accuracy: 0.1791 - val_digit3_accuracy: 0.1957 - val_digit4_accuracy: 0.2962\n",
      "Epoch 13/50\n",
      "352/352 [==============================] - 11s 32ms/step - loss: 12.7449 - digit0_loss: 2.1788 - digit1_loss: 2.7374 - digit2_loss: 2.7955 - digit3_loss: 2.7028 - digit4_loss: 2.3303 - digit0_accuracy: 0.3569 - digit1_accuracy: 0.2200 - digit2_accuracy: 0.2123 - digit3_accuracy: 0.2257 - digit4_accuracy: 0.3318 - val_loss: 13.1261 - val_digit0_loss: 2.2734 - val_digit1_loss: 2.8209 - val_digit2_loss: 2.8711 - val_digit3_loss: 2.7637 - val_digit4_loss: 2.3971 - val_digit0_accuracy: 0.3267 - val_digit1_accuracy: 0.1862 - val_digit2_accuracy: 0.1860 - val_digit3_accuracy: 0.2014 - val_digit4_accuracy: 0.3057\n",
      "Epoch 14/50\n"
     ]
    },
    {
     "name": "stdout",
     "output_type": "stream",
     "text": [
      "352/352 [==============================] - 11s 32ms/step - loss: 12.5140 - digit0_loss: 2.1200 - digit1_loss: 2.7004 - digit2_loss: 2.7550 - digit3_loss: 2.6588 - digit4_loss: 2.2797 - digit0_accuracy: 0.3734 - digit1_accuracy: 0.2259 - digit2_accuracy: 0.2194 - digit3_accuracy: 0.2359 - digit4_accuracy: 0.3424 - val_loss: 12.8760 - val_digit0_loss: 2.2081 - val_digit1_loss: 2.7797 - val_digit2_loss: 2.8382 - val_digit3_loss: 2.7047 - val_digit4_loss: 2.3453 - val_digit0_accuracy: 0.3443 - val_digit1_accuracy: 0.1971 - val_digit2_accuracy: 0.1923 - val_digit3_accuracy: 0.2178 - val_digit4_accuracy: 0.3178\n",
      "Epoch 15/50\n",
      "352/352 [==============================] - 11s 32ms/step - loss: 12.2877 - digit0_loss: 2.0671 - digit1_loss: 2.6597 - digit2_loss: 2.7142 - digit3_loss: 2.6130 - digit4_loss: 2.2337 - digit0_accuracy: 0.3863 - digit1_accuracy: 0.2357 - digit2_accuracy: 0.2288 - digit3_accuracy: 0.2463 - digit4_accuracy: 0.3572 - val_loss: 12.7018 - val_digit0_loss: 2.1701 - val_digit1_loss: 2.7421 - val_digit2_loss: 2.8129 - val_digit3_loss: 2.6870 - val_digit4_loss: 2.2897 - val_digit0_accuracy: 0.3449 - val_digit1_accuracy: 0.2046 - val_digit2_accuracy: 0.2030 - val_digit3_accuracy: 0.2208 - val_digit4_accuracy: 0.3328\n",
      "Epoch 16/50\n",
      "352/352 [==============================] - 11s 32ms/step - loss: 12.0848 - digit0_loss: 2.0228 - digit1_loss: 2.6232 - digit2_loss: 2.6781 - digit3_loss: 2.5753 - digit4_loss: 2.1855 - digit0_accuracy: 0.3957 - digit1_accuracy: 0.2439 - digit2_accuracy: 0.2384 - digit3_accuracy: 0.2572 - digit4_accuracy: 0.3671 - val_loss: 12.5337 - val_digit0_loss: 2.1607 - val_digit1_loss: 2.7068 - val_digit2_loss: 2.7641 - val_digit3_loss: 2.6293 - val_digit4_loss: 2.2729 - val_digit0_accuracy: 0.3510 - val_digit1_accuracy: 0.2180 - val_digit2_accuracy: 0.2127 - val_digit3_accuracy: 0.2368 - val_digit4_accuracy: 0.3381\n",
      "Epoch 17/50\n",
      "352/352 [==============================] - 11s 32ms/step - loss: 11.8912 - digit0_loss: 1.9847 - digit1_loss: 2.5862 - digit2_loss: 2.6416 - digit3_loss: 2.5366 - digit4_loss: 2.1420 - digit0_accuracy: 0.4073 - digit1_accuracy: 0.2544 - digit2_accuracy: 0.2461 - digit3_accuracy: 0.2663 - digit4_accuracy: 0.3803 - val_loss: 12.4054 - val_digit0_loss: 2.1190 - val_digit1_loss: 2.6880 - val_digit2_loss: 2.7493 - val_digit3_loss: 2.6148 - val_digit4_loss: 2.2343 - val_digit0_accuracy: 0.3635 - val_digit1_accuracy: 0.2234 - val_digit2_accuracy: 0.2180 - val_digit3_accuracy: 0.2351 - val_digit4_accuracy: 0.3522\n",
      "Epoch 18/50\n",
      "352/352 [==============================] - 11s 32ms/step - loss: 11.7199 - digit0_loss: 1.9449 - digit1_loss: 2.5572 - digit2_loss: 2.6106 - digit3_loss: 2.5031 - digit4_loss: 2.1041 - digit0_accuracy: 0.4169 - digit1_accuracy: 0.2612 - digit2_accuracy: 0.2541 - digit3_accuracy: 0.2732 - digit4_accuracy: 0.3888 - val_loss: 12.2298 - val_digit0_loss: 2.0643 - val_digit1_loss: 2.6667 - val_digit2_loss: 2.7134 - val_digit3_loss: 2.5777 - val_digit4_loss: 2.2077 - val_digit0_accuracy: 0.3829 - val_digit1_accuracy: 0.2277 - val_digit2_accuracy: 0.2252 - val_digit3_accuracy: 0.2495 - val_digit4_accuracy: 0.3542\n",
      "Epoch 19/50\n",
      "352/352 [==============================] - 11s 32ms/step - loss: 11.5317 - digit0_loss: 1.9093 - digit1_loss: 2.5210 - digit2_loss: 2.5750 - digit3_loss: 2.4632 - digit4_loss: 2.0632 - digit0_accuracy: 0.4296 - digit1_accuracy: 0.2732 - digit2_accuracy: 0.2626 - digit3_accuracy: 0.2884 - digit4_accuracy: 0.4015 - val_loss: 12.0705 - val_digit0_loss: 2.0539 - val_digit1_loss: 2.6294 - val_digit2_loss: 2.6862 - val_digit3_loss: 2.5386 - val_digit4_loss: 2.1626 - val_digit0_accuracy: 0.3852 - val_digit1_accuracy: 0.2380 - val_digit2_accuracy: 0.2347 - val_digit3_accuracy: 0.2622 - val_digit4_accuracy: 0.3728\n",
      "Epoch 20/50\n",
      "352/352 [==============================] - 11s 32ms/step - loss: 11.3758 - digit0_loss: 1.8756 - digit1_loss: 2.4919 - digit2_loss: 2.5460 - digit3_loss: 2.4335 - digit4_loss: 2.0288 - digit0_accuracy: 0.4375 - digit1_accuracy: 0.2793 - digit2_accuracy: 0.2722 - digit3_accuracy: 0.2924 - digit4_accuracy: 0.4113 - val_loss: 11.8941 - val_digit0_loss: 2.0034 - val_digit1_loss: 2.5958 - val_digit2_loss: 2.6835 - val_digit3_loss: 2.5003 - val_digit4_loss: 2.1112 - val_digit0_accuracy: 0.4046 - val_digit1_accuracy: 0.2517 - val_digit2_accuracy: 0.2295 - val_digit3_accuracy: 0.2683 - val_digit4_accuracy: 0.3765\n",
      "Epoch 21/50\n",
      "352/352 [==============================] - 11s 32ms/step - loss: 11.2079 - digit0_loss: 1.8444 - digit1_loss: 2.4570 - digit2_loss: 2.5160 - digit3_loss: 2.4000 - digit4_loss: 1.9904 - digit0_accuracy: 0.4449 - digit1_accuracy: 0.2877 - digit2_accuracy: 0.2774 - digit3_accuracy: 0.3011 - digit4_accuracy: 0.4187 - val_loss: 11.8710 - val_digit0_loss: 2.0042 - val_digit1_loss: 2.5627 - val_digit2_loss: 2.6704 - val_digit3_loss: 2.4990 - val_digit4_loss: 2.1348 - val_digit0_accuracy: 0.4021 - val_digit1_accuracy: 0.2560 - val_digit2_accuracy: 0.2266 - val_digit3_accuracy: 0.2709 - val_digit4_accuracy: 0.3736\n",
      "Epoch 22/50\n",
      "352/352 [==============================] - 11s 32ms/step - loss: 11.0526 - digit0_loss: 1.8132 - digit1_loss: 2.4269 - digit2_loss: 2.4860 - digit3_loss: 2.3675 - digit4_loss: 1.9590 - digit0_accuracy: 0.4537 - digit1_accuracy: 0.2966 - digit2_accuracy: 0.2860 - digit3_accuracy: 0.3121 - digit4_accuracy: 0.4276 - val_loss: 11.7199 - val_digit0_loss: 1.9774 - val_digit1_loss: 2.5479 - val_digit2_loss: 2.6280 - val_digit3_loss: 2.4649 - val_digit4_loss: 2.1018 - val_digit0_accuracy: 0.4141 - val_digit1_accuracy: 0.2634 - val_digit2_accuracy: 0.2473 - val_digit3_accuracy: 0.2796 - val_digit4_accuracy: 0.3823\n",
      "Epoch 23/50\n",
      "352/352 [==============================] - 11s 32ms/step - loss: 10.9194 - digit0_loss: 1.7893 - digit1_loss: 2.3997 - digit2_loss: 2.4613 - digit3_loss: 2.3407 - digit4_loss: 1.9284 - digit0_accuracy: 0.4602 - digit1_accuracy: 0.3048 - digit2_accuracy: 0.2914 - digit3_accuracy: 0.3177 - digit4_accuracy: 0.4354 - val_loss: 11.5932 - val_digit0_loss: 1.9470 - val_digit1_loss: 2.5282 - val_digit2_loss: 2.6138 - val_digit3_loss: 2.4553 - val_digit4_loss: 2.0489 - val_digit0_accuracy: 0.4171 - val_digit1_accuracy: 0.2713 - val_digit2_accuracy: 0.2521 - val_digit3_accuracy: 0.2887 - val_digit4_accuracy: 0.3967\n",
      "Epoch 24/50\n",
      "352/352 [==============================] - 11s 32ms/step - loss: 10.7959 - digit0_loss: 1.7638 - digit1_loss: 2.3744 - digit2_loss: 2.4359 - digit3_loss: 2.3197 - digit4_loss: 1.9021 - digit0_accuracy: 0.4678 - digit1_accuracy: 0.3093 - digit2_accuracy: 0.2981 - digit3_accuracy: 0.3228 - digit4_accuracy: 0.4446 - val_loss: 11.4782 - val_digit0_loss: 1.9211 - val_digit1_loss: 2.5084 - val_digit2_loss: 2.5844 - val_digit3_loss: 2.4245 - val_digit4_loss: 2.0398 - val_digit0_accuracy: 0.4272 - val_digit1_accuracy: 0.2738 - val_digit2_accuracy: 0.2634 - val_digit3_accuracy: 0.2909 - val_digit4_accuracy: 0.4013\n",
      "Epoch 25/50\n",
      "352/352 [==============================] - 11s 32ms/step - loss: 10.6806 - digit0_loss: 1.7473 - digit1_loss: 2.3516 - digit2_loss: 2.4135 - digit3_loss: 2.2951 - digit4_loss: 1.8732 - digit0_accuracy: 0.4742 - digit1_accuracy: 0.3174 - digit2_accuracy: 0.3048 - digit3_accuracy: 0.3296 - digit4_accuracy: 0.4497 - val_loss: 11.3782 - val_digit0_loss: 1.9331 - val_digit1_loss: 2.4829 - val_digit2_loss: 2.5538 - val_digit3_loss: 2.4041 - val_digit4_loss: 2.0043 - val_digit0_accuracy: 0.4250 - val_digit1_accuracy: 0.2829 - val_digit2_accuracy: 0.2647 - val_digit3_accuracy: 0.2958 - val_digit4_accuracy: 0.4116\n",
      "Epoch 26/50\n",
      "352/352 [==============================] - 11s 32ms/step - loss: 10.5456 - digit0_loss: 1.7193 - digit1_loss: 2.3264 - digit2_loss: 2.3870 - digit3_loss: 2.2666 - digit4_loss: 1.8463 - digit0_accuracy: 0.4783 - digit1_accuracy: 0.3251 - digit2_accuracy: 0.3122 - digit3_accuracy: 0.3370 - digit4_accuracy: 0.4571 - val_loss: 11.3117 - val_digit0_loss: 1.8879 - val_digit1_loss: 2.4859 - val_digit2_loss: 2.5329 - val_digit3_loss: 2.4106 - val_digit4_loss: 1.9944 - val_digit0_accuracy: 0.4367 - val_digit1_accuracy: 0.2820 - val_digit2_accuracy: 0.2703 - val_digit3_accuracy: 0.3041 - val_digit4_accuracy: 0.4114\n",
      "Epoch 27/50\n"
     ]
    },
    {
     "name": "stdout",
     "output_type": "stream",
     "text": [
      "352/352 [==============================] - 11s 31ms/step - loss: 10.4462 - digit0_loss: 1.7029 - digit1_loss: 2.3045 - digit2_loss: 2.3687 - digit3_loss: 2.2474 - digit4_loss: 1.8226 - digit0_accuracy: 0.4834 - digit1_accuracy: 0.3270 - digit2_accuracy: 0.3172 - digit3_accuracy: 0.3413 - digit4_accuracy: 0.4620 - val_loss: 11.2401 - val_digit0_loss: 1.8832 - val_digit1_loss: 2.4619 - val_digit2_loss: 2.5415 - val_digit3_loss: 2.3833 - val_digit4_loss: 1.9703 - val_digit0_accuracy: 0.4323 - val_digit1_accuracy: 0.2877 - val_digit2_accuracy: 0.2727 - val_digit3_accuracy: 0.3065 - val_digit4_accuracy: 0.4149\n",
      "Epoch 28/50\n",
      "352/352 [==============================] - 11s 32ms/step - loss: 10.3230 - digit0_loss: 1.6745 - digit1_loss: 2.2827 - digit2_loss: 2.3464 - digit3_loss: 2.2231 - digit4_loss: 1.7963 - digit0_accuracy: 0.4928 - digit1_accuracy: 0.3367 - digit2_accuracy: 0.3224 - digit3_accuracy: 0.3471 - digit4_accuracy: 0.4694 - val_loss: 11.0966 - val_digit0_loss: 1.8552 - val_digit1_loss: 2.4303 - val_digit2_loss: 2.5122 - val_digit3_loss: 2.3477 - val_digit4_loss: 1.9512 - val_digit0_accuracy: 0.4371 - val_digit1_accuracy: 0.2948 - val_digit2_accuracy: 0.2746 - val_digit3_accuracy: 0.3186 - val_digit4_accuracy: 0.4266\n",
      "Epoch 29/50\n",
      "352/352 [==============================] - 11s 32ms/step - loss: 10.2284 - digit0_loss: 1.6585 - digit1_loss: 2.2648 - digit2_loss: 2.3292 - digit3_loss: 2.2067 - digit4_loss: 1.7693 - digit0_accuracy: 0.4952 - digit1_accuracy: 0.3410 - digit2_accuracy: 0.3248 - digit3_accuracy: 0.3520 - digit4_accuracy: 0.4784 - val_loss: 11.0252 - val_digit0_loss: 1.8453 - val_digit1_loss: 2.4330 - val_digit2_loss: 2.4922 - val_digit3_loss: 2.3289 - val_digit4_loss: 1.9258 - val_digit0_accuracy: 0.4499 - val_digit1_accuracy: 0.2920 - val_digit2_accuracy: 0.2790 - val_digit3_accuracy: 0.3144 - val_digit4_accuracy: 0.4242\n",
      "Epoch 30/50\n",
      "352/352 [==============================] - 11s 32ms/step - loss: 10.1301 - digit0_loss: 1.6416 - digit1_loss: 2.2443 - digit2_loss: 2.3110 - digit3_loss: 2.1850 - digit4_loss: 1.7482 - digit0_accuracy: 0.5018 - digit1_accuracy: 0.3447 - digit2_accuracy: 0.3307 - digit3_accuracy: 0.3594 - digit4_accuracy: 0.4849 - val_loss: 10.9973 - val_digit0_loss: 1.8445 - val_digit1_loss: 2.4186 - val_digit2_loss: 2.4773 - val_digit3_loss: 2.3314 - val_digit4_loss: 1.9254 - val_digit0_accuracy: 0.4444 - val_digit1_accuracy: 0.2966 - val_digit2_accuracy: 0.2952 - val_digit3_accuracy: 0.3306 - val_digit4_accuracy: 0.4300\n",
      "Epoch 31/50\n",
      "352/352 [==============================] - 11s 32ms/step - loss: 10.0462 - digit0_loss: 1.6271 - digit1_loss: 2.2294 - digit2_loss: 2.2938 - digit3_loss: 2.1684 - digit4_loss: 1.7276 - digit0_accuracy: 0.5067 - digit1_accuracy: 0.3510 - digit2_accuracy: 0.3360 - digit3_accuracy: 0.3610 - digit4_accuracy: 0.4891 - val_loss: 10.9199 - val_digit0_loss: 1.8413 - val_digit1_loss: 2.4109 - val_digit2_loss: 2.4737 - val_digit3_loss: 2.2975 - val_digit4_loss: 1.8966 - val_digit0_accuracy: 0.4474 - val_digit1_accuracy: 0.3033 - val_digit2_accuracy: 0.2970 - val_digit3_accuracy: 0.3352 - val_digit4_accuracy: 0.4393\n",
      "Epoch 32/50\n",
      "352/352 [==============================] - 11s 31ms/step - loss: 9.9531 - digit0_loss: 1.6092 - digit1_loss: 2.2122 - digit2_loss: 2.2749 - digit3_loss: 2.1480 - digit4_loss: 1.7088 - digit0_accuracy: 0.5111 - digit1_accuracy: 0.3530 - digit2_accuracy: 0.3410 - digit3_accuracy: 0.3673 - digit4_accuracy: 0.4934 - val_loss: 10.8422 - val_digit0_loss: 1.8129 - val_digit1_loss: 2.4001 - val_digit2_loss: 2.4634 - val_digit3_loss: 2.2941 - val_digit4_loss: 1.8716 - val_digit0_accuracy: 0.4594 - val_digit1_accuracy: 0.3025 - val_digit2_accuracy: 0.2954 - val_digit3_accuracy: 0.3320 - val_digit4_accuracy: 0.4462\n",
      "Epoch 33/50\n",
      "352/352 [==============================] - 11s 32ms/step - loss: 9.8570 - digit0_loss: 1.5921 - digit1_loss: 2.1936 - digit2_loss: 2.2587 - digit3_loss: 2.1266 - digit4_loss: 1.6861 - digit0_accuracy: 0.5160 - digit1_accuracy: 0.3592 - digit2_accuracy: 0.3433 - digit3_accuracy: 0.3745 - digit4_accuracy: 0.4992 - val_loss: 10.7332 - val_digit0_loss: 1.7707 - val_digit1_loss: 2.3843 - val_digit2_loss: 2.4476 - val_digit3_loss: 2.2673 - val_digit4_loss: 1.8634 - val_digit0_accuracy: 0.4679 - val_digit1_accuracy: 0.3063 - val_digit2_accuracy: 0.3059 - val_digit3_accuracy: 0.3429 - val_digit4_accuracy: 0.4527\n",
      "Epoch 34/50\n",
      "352/352 [==============================] - 11s 32ms/step - loss: 9.7608 - digit0_loss: 1.5707 - digit1_loss: 2.1749 - digit2_loss: 2.2385 - digit3_loss: 2.1085 - digit4_loss: 1.6683 - digit0_accuracy: 0.5201 - digit1_accuracy: 0.3651 - digit2_accuracy: 0.3476 - digit3_accuracy: 0.3777 - digit4_accuracy: 0.5067 - val_loss: 10.7258 - val_digit0_loss: 1.7874 - val_digit1_loss: 2.3699 - val_digit2_loss: 2.4227 - val_digit3_loss: 2.2659 - val_digit4_loss: 1.8799 - val_digit0_accuracy: 0.4620 - val_digit1_accuracy: 0.3099 - val_digit2_accuracy: 0.3057 - val_digit3_accuracy: 0.3435 - val_digit4_accuracy: 0.4470\n",
      "Epoch 35/50\n",
      "352/352 [==============================] - 11s 32ms/step - loss: 9.6913 - digit0_loss: 1.5586 - digit1_loss: 2.1601 - digit2_loss: 2.2261 - digit3_loss: 2.0969 - digit4_loss: 1.6497 - digit0_accuracy: 0.5233 - digit1_accuracy: 0.3668 - digit2_accuracy: 0.3537 - digit3_accuracy: 0.3832 - digit4_accuracy: 0.5095 - val_loss: 10.6233 - val_digit0_loss: 1.7763 - val_digit1_loss: 2.3722 - val_digit2_loss: 2.4158 - val_digit3_loss: 2.2427 - val_digit4_loss: 1.8162 - val_digit0_accuracy: 0.4614 - val_digit1_accuracy: 0.3144 - val_digit2_accuracy: 0.3077 - val_digit3_accuracy: 0.3560 - val_digit4_accuracy: 0.4573\n",
      "Epoch 36/50\n",
      "352/352 [==============================] - 12s 33ms/step - loss: 9.6063 - digit0_loss: 1.5442 - digit1_loss: 2.1410 - digit2_loss: 2.2111 - digit3_loss: 2.0762 - digit4_loss: 1.6338 - digit0_accuracy: 0.5268 - digit1_accuracy: 0.3726 - digit2_accuracy: 0.3569 - digit3_accuracy: 0.3891 - digit4_accuracy: 0.5151 - val_loss: 10.5424 - val_digit0_loss: 1.7474 - val_digit1_loss: 2.3434 - val_digit2_loss: 2.4153 - val_digit3_loss: 2.2181 - val_digit4_loss: 1.8182 - val_digit0_accuracy: 0.4711 - val_digit1_accuracy: 0.3122 - val_digit2_accuracy: 0.3144 - val_digit3_accuracy: 0.3498 - val_digit4_accuracy: 0.4573\n",
      "Epoch 37/50\n",
      "352/352 [==============================] - 11s 32ms/step - loss: 9.5252 - digit0_loss: 1.5297 - digit1_loss: 2.1260 - digit2_loss: 2.1937 - digit3_loss: 2.0595 - digit4_loss: 1.6164 - digit0_accuracy: 0.5317 - digit1_accuracy: 0.3766 - digit2_accuracy: 0.3615 - digit3_accuracy: 0.3935 - digit4_accuracy: 0.5210 - val_loss: 10.4929 - val_digit0_loss: 1.7581 - val_digit1_loss: 2.3284 - val_digit2_loss: 2.3861 - val_digit3_loss: 2.2227 - val_digit4_loss: 1.7976 - val_digit0_accuracy: 0.4709 - val_digit1_accuracy: 0.3227 - val_digit2_accuracy: 0.3168 - val_digit3_accuracy: 0.3571 - val_digit4_accuracy: 0.4644\n",
      "Epoch 38/50\n",
      "352/352 [==============================] - 12s 33ms/step - loss: 9.4504 - digit0_loss: 1.5171 - digit1_loss: 2.1120 - digit2_loss: 2.1771 - digit3_loss: 2.0443 - digit4_loss: 1.6001 - digit0_accuracy: 0.5349 - digit1_accuracy: 0.3824 - digit2_accuracy: 0.3675 - digit3_accuracy: 0.3950 - digit4_accuracy: 0.5257 - val_loss: 10.4512 - val_digit0_loss: 1.7483 - val_digit1_loss: 2.3350 - val_digit2_loss: 2.3961 - val_digit3_loss: 2.1884 - val_digit4_loss: 1.7834 - val_digit0_accuracy: 0.4683 - val_digit1_accuracy: 0.3215 - val_digit2_accuracy: 0.3213 - val_digit3_accuracy: 0.3649 - val_digit4_accuracy: 0.4745\n",
      "Epoch 39/50\n",
      "352/352 [==============================] - 11s 32ms/step - loss: 9.3761 - digit0_loss: 1.5021 - digit1_loss: 2.0969 - digit2_loss: 2.1613 - digit3_loss: 2.0279 - digit4_loss: 1.5879 - digit0_accuracy: 0.5402 - digit1_accuracy: 0.3855 - digit2_accuracy: 0.3714 - digit3_accuracy: 0.4033 - digit4_accuracy: 0.5265 - val_loss: 10.3796 - val_digit0_loss: 1.7288 - val_digit1_loss: 2.3088 - val_digit2_loss: 2.3581 - val_digit3_loss: 2.2039 - val_digit4_loss: 1.7799 - val_digit0_accuracy: 0.4784 - val_digit1_accuracy: 0.3334 - val_digit2_accuracy: 0.3308 - val_digit3_accuracy: 0.3583 - val_digit4_accuracy: 0.4729\n",
      "Epoch 40/50\n"
     ]
    },
    {
     "name": "stdout",
     "output_type": "stream",
     "text": [
      "352/352 [==============================] - 11s 32ms/step - loss: 9.2931 - digit0_loss: 1.4881 - digit1_loss: 2.0813 - digit2_loss: 2.1463 - digit3_loss: 2.0108 - digit4_loss: 1.5666 - digit0_accuracy: 0.5439 - digit1_accuracy: 0.3902 - digit2_accuracy: 0.3749 - digit3_accuracy: 0.4078 - digit4_accuracy: 0.5309 - val_loss: 10.3920 - val_digit0_loss: 1.7438 - val_digit1_loss: 2.3419 - val_digit2_loss: 2.3885 - val_digit3_loss: 2.1647 - val_digit4_loss: 1.7532 - val_digit0_accuracy: 0.4719 - val_digit1_accuracy: 0.3245 - val_digit2_accuracy: 0.3237 - val_digit3_accuracy: 0.3730 - val_digit4_accuracy: 0.4794\n",
      "Epoch 41/50\n",
      "352/352 [==============================] - 11s 32ms/step - loss: 9.2267 - digit0_loss: 1.4805 - digit1_loss: 2.0640 - digit2_loss: 2.1363 - digit3_loss: 1.9930 - digit4_loss: 1.5530 - digit0_accuracy: 0.5459 - digit1_accuracy: 0.3956 - digit2_accuracy: 0.3775 - digit3_accuracy: 0.4150 - digit4_accuracy: 0.5367 - val_loss: 10.2359 - val_digit0_loss: 1.6887 - val_digit1_loss: 2.2946 - val_digit2_loss: 2.3493 - val_digit3_loss: 2.1509 - val_digit4_loss: 1.7524 - val_digit0_accuracy: 0.4885 - val_digit1_accuracy: 0.3298 - val_digit2_accuracy: 0.3247 - val_digit3_accuracy: 0.3763 - val_digit4_accuracy: 0.4695\n",
      "Epoch 42/50\n",
      "352/352 [==============================] - 11s 32ms/step - loss: 9.1568 - digit0_loss: 1.4668 - digit1_loss: 2.0507 - digit2_loss: 2.1199 - digit3_loss: 1.9795 - digit4_loss: 1.5399 - digit0_accuracy: 0.5488 - digit1_accuracy: 0.3988 - digit2_accuracy: 0.3809 - digit3_accuracy: 0.4165 - digit4_accuracy: 0.5411 - val_loss: 10.2230 - val_digit0_loss: 1.7128 - val_digit1_loss: 2.2652 - val_digit2_loss: 2.3122 - val_digit3_loss: 2.1801 - val_digit4_loss: 1.7529 - val_digit0_accuracy: 0.4806 - val_digit1_accuracy: 0.3354 - val_digit2_accuracy: 0.3356 - val_digit3_accuracy: 0.3617 - val_digit4_accuracy: 0.4782\n",
      "Epoch 43/50\n",
      "352/352 [==============================] - 11s 32ms/step - loss: 9.0727 - digit0_loss: 1.4474 - digit1_loss: 2.0347 - digit2_loss: 2.1067 - digit3_loss: 1.9607 - digit4_loss: 1.5231 - digit0_accuracy: 0.5560 - digit1_accuracy: 0.4050 - digit2_accuracy: 0.3848 - digit3_accuracy: 0.4202 - digit4_accuracy: 0.5428 - val_loss: 10.1709 - val_digit0_loss: 1.6841 - val_digit1_loss: 2.2805 - val_digit2_loss: 2.3659 - val_digit3_loss: 2.1261 - val_digit4_loss: 1.7142 - val_digit0_accuracy: 0.4939 - val_digit1_accuracy: 0.3306 - val_digit2_accuracy: 0.3166 - val_digit3_accuracy: 0.3801 - val_digit4_accuracy: 0.4919\n",
      "Epoch 44/50\n",
      "352/352 [==============================] - 11s 32ms/step - loss: 9.0082 - digit0_loss: 1.4394 - digit1_loss: 2.0202 - digit2_loss: 2.0917 - digit3_loss: 1.9481 - digit4_loss: 1.5088 - digit0_accuracy: 0.5560 - digit1_accuracy: 0.4083 - digit2_accuracy: 0.3887 - digit3_accuracy: 0.4257 - digit4_accuracy: 0.5471 - val_loss: 10.0876 - val_digit0_loss: 1.6659 - val_digit1_loss: 2.2743 - val_digit2_loss: 2.3098 - val_digit3_loss: 2.1210 - val_digit4_loss: 1.7166 - val_digit0_accuracy: 0.4966 - val_digit1_accuracy: 0.3431 - val_digit2_accuracy: 0.3378 - val_digit3_accuracy: 0.3904 - val_digit4_accuracy: 0.4905\n",
      "Epoch 45/50\n",
      "352/352 [==============================] - 11s 32ms/step - loss: 8.9573 - digit0_loss: 1.4337 - digit1_loss: 2.0102 - digit2_loss: 2.0817 - digit3_loss: 1.9337 - digit4_loss: 1.4980 - digit0_accuracy: 0.5589 - digit1_accuracy: 0.4074 - digit2_accuracy: 0.3932 - digit3_accuracy: 0.4297 - digit4_accuracy: 0.5512 - val_loss: 10.1290 - val_digit0_loss: 1.6782 - val_digit1_loss: 2.2618 - val_digit2_loss: 2.3153 - val_digit3_loss: 2.1479 - val_digit4_loss: 1.7258 - val_digit0_accuracy: 0.4939 - val_digit1_accuracy: 0.3403 - val_digit2_accuracy: 0.3362 - val_digit3_accuracy: 0.3732 - val_digit4_accuracy: 0.4816\n",
      "Epoch 46/50\n",
      "352/352 [==============================] - 11s 32ms/step - loss: 8.8943 - digit0_loss: 1.4222 - digit1_loss: 1.9944 - digit2_loss: 2.0689 - digit3_loss: 1.9245 - digit4_loss: 1.4843 - digit0_accuracy: 0.5623 - digit1_accuracy: 0.4129 - digit2_accuracy: 0.3992 - digit3_accuracy: 0.4316 - digit4_accuracy: 0.5553 - val_loss: 10.0275 - val_digit0_loss: 1.6686 - val_digit1_loss: 2.2294 - val_digit2_loss: 2.3002 - val_digit3_loss: 2.0970 - val_digit4_loss: 1.7322 - val_digit0_accuracy: 0.4941 - val_digit1_accuracy: 0.3526 - val_digit2_accuracy: 0.3368 - val_digit3_accuracy: 0.3947 - val_digit4_accuracy: 0.4790\n",
      "Epoch 47/50\n",
      "352/352 [==============================] - 11s 32ms/step - loss: 8.8097 - digit0_loss: 1.4053 - digit1_loss: 1.9812 - digit2_loss: 2.0521 - digit3_loss: 1.9027 - digit4_loss: 1.4684 - digit0_accuracy: 0.5678 - digit1_accuracy: 0.4176 - digit2_accuracy: 0.4005 - digit3_accuracy: 0.4362 - digit4_accuracy: 0.5568 - val_loss: 9.9287 - val_digit0_loss: 1.6439 - val_digit1_loss: 2.2292 - val_digit2_loss: 2.2703 - val_digit3_loss: 2.1016 - val_digit4_loss: 1.6837 - val_digit0_accuracy: 0.5006 - val_digit1_accuracy: 0.3506 - val_digit2_accuracy: 0.3478 - val_digit3_accuracy: 0.3884 - val_digit4_accuracy: 0.5028\n",
      "Epoch 48/50\n",
      "352/352 [==============================] - 11s 32ms/step - loss: 8.7527 - digit0_loss: 1.3999 - digit1_loss: 1.9662 - digit2_loss: 2.0369 - digit3_loss: 1.8951 - digit4_loss: 1.4547 - digit0_accuracy: 0.5671 - digit1_accuracy: 0.4209 - digit2_accuracy: 0.4064 - digit3_accuracy: 0.4393 - digit4_accuracy: 0.5626 - val_loss: 9.8227 - val_digit0_loss: 1.6441 - val_digit1_loss: 2.2016 - val_digit2_loss: 2.2549 - val_digit3_loss: 2.0658 - val_digit4_loss: 1.6563 - val_digit0_accuracy: 0.4978 - val_digit1_accuracy: 0.3532 - val_digit2_accuracy: 0.3492 - val_digit3_accuracy: 0.3989 - val_digit4_accuracy: 0.5107\n",
      "Epoch 49/50\n",
      "352/352 [==============================] - 11s 32ms/step - loss: 8.6955 - digit0_loss: 1.3874 - digit1_loss: 1.9536 - digit2_loss: 2.0264 - digit3_loss: 1.8834 - digit4_loss: 1.4447 - digit0_accuracy: 0.5714 - digit1_accuracy: 0.4237 - digit2_accuracy: 0.4080 - digit3_accuracy: 0.4420 - digit4_accuracy: 0.5643 - val_loss: 9.8334 - val_digit0_loss: 1.6256 - val_digit1_loss: 2.1971 - val_digit2_loss: 2.2571 - val_digit3_loss: 2.0965 - val_digit4_loss: 1.6570 - val_digit0_accuracy: 0.5024 - val_digit1_accuracy: 0.3569 - val_digit2_accuracy: 0.3528 - val_digit3_accuracy: 0.3926 - val_digit4_accuracy: 0.5077\n",
      "Epoch 50/50\n",
      "352/352 [==============================] - 11s 32ms/step - loss: 8.6437 - digit0_loss: 1.3772 - digit1_loss: 1.9473 - digit2_loss: 2.0158 - digit3_loss: 1.8675 - digit4_loss: 1.4359 - digit0_accuracy: 0.5749 - digit1_accuracy: 0.4267 - digit2_accuracy: 0.4088 - digit3_accuracy: 0.4487 - digit4_accuracy: 0.5705 - val_loss: 9.7666 - val_digit0_loss: 1.6302 - val_digit1_loss: 2.1934 - val_digit2_loss: 2.2384 - val_digit3_loss: 2.0491 - val_digit4_loss: 1.6555 - val_digit0_accuracy: 0.5020 - val_digit1_accuracy: 0.3597 - val_digit2_accuracy: 0.3579 - val_digit3_accuracy: 0.4066 - val_digit4_accuracy: 0.5079\n"
     ]
    }
   ],
   "source": [
    "history = model.fit(x_train, s_train,\n",
    "                    batch_size=BATCH_SIZE,\n",
    "                    epochs=EPOCHS,\n",
    "                    verbose=1,\n",
    "                    validation_data=(x_test, s_test)\n",
    "                   )"
   ]
  },
  {
   "cell_type": "code",
   "execution_count": 106,
   "id": "a3def92d",
   "metadata": {},
   "outputs": [],
   "source": [
    "digit_acc = [[] for _ in range(NUM_OF_LETTERS)]\n",
    "val_digit_acc = [[] for _ in range(NUM_OF_LETTERS)]\n",
    "loss = []\n",
    "val_loss = []\n",
    "\n",
    "\n",
    "def plot_diagram(digit_acc_now, val_digit_acc_now, loss_now, val_loss_now):\n",
    "    global digit_acc, val_digit_acc, loss, val_loss\n",
    "    \n",
    "    \n",
    "    for i in range(NUM_OF_LETTERS):\n",
    "        digit_acc[i].extend(digit_acc_now[i])\n",
    "        val_digit_acc[i].extend(val_digit_acc_now[i])\n",
    "    loss.extend(loss_now)\n",
    "    val_loss.extend(val_loss_now)\n",
    "    \n",
    "    for i in range(NUM_OF_LETTERS):\n",
    "        s = {0:'First', 1:'Second', 2:'Third', 3:'Fourth', 4:'Fifth'}[i]\n",
    "        # plt.plot(val_digit_acc[i], label='%s Digit Train' % s)\n",
    "        plt.plot(digit_acc[i], label='%s Digit Test' % s)\n",
    "\n",
    "    plt.title('Model accuracy')\n",
    "    plt.ylabel('Accuracy')\n",
    "    plt.xlabel('Epoch')\n",
    "    plt.legend()\n",
    "    plt.show()\n",
    "\n",
    "    for i in range(NUM_OF_LETTERS):\n",
    "        s = {0:'First', 1:'Second', 2:'Third', 3:'Fourth', 4:'Fifth'}[i]\n",
    "        plt.plot(val_digit_acc[i], label='%s Digit Train' % s)\n",
    "        # plt.plot(digit_acc[i], label='%s Digit Test' % s)\n",
    "\n",
    "    plt.title('Model accuracy')\n",
    "    plt.ylabel('Accuracy')\n",
    "    plt.xlabel('Epoch')\n",
    "    plt.legend()\n",
    "    plt.show()\n",
    "\n",
    "    # Plot training & validation loss values\n",
    "    \n",
    "    plt.plot(val_loss, label='Train')\n",
    "    plt.plot(loss, label='Test')\n",
    "    plt.title('Model loss')\n",
    "    plt.ylabel('Loss')\n",
    "    plt.xlabel('Epoch')\n",
    "    plt.legend()\n",
    "    plt.show()"
   ]
  },
  {
   "cell_type": "code",
   "execution_count": 107,
   "id": "8675d113",
   "metadata": {
    "scrolled": false
   },
   "outputs": [
    {
     "data": {
      "image/png": "[encoded data removed]",
      "text/plain": [
       "<Figure size 432x288 with 1 Axes>"
      ]
     },
     "metadata": {
      "needs_background": "light"
     },
     "output_type": "display_data"
    },
    {
     "data": {
      "image/png": "[encoded data removed]",
      "text/plain": [
       "<Figure size 432x288 with 1 Axes>"
      ]
     },
     "metadata": {
      "needs_background": "light"
     },
     "output_type": "display_data"
    },
    {
     "data": {
      "image/png": "[encoded data removed]",
      "text/plain": [
       "<Figure size 432x288 with 1 Axes>"
      ]
     },
     "metadata": {
      "needs_background": "light"
     },
     "output_type": "display_data"
    }
   ],
   "source": [
    "plot_diagram(\n",
    "    \n",
    "    [history.history['digit%d_accuracy' % i] for i in range(NUM_OF_LETTERS)],\n",
    "    [history.history['val_digit%d_accuracy' % i] for i in range(NUM_OF_LETTERS)],\n",
    "    history.history['loss'],\n",
    "    history.history['val_loss'],\n",
    ")"
   ]
  },
  {
   "cell_type": "code",
   "execution_count": 113,
   "id": "eb972380",
   "metadata": {},
   "outputs": [],
   "source": [
    "\n",
    "\n"
   ]
  },
  {
   "cell_type": "code",
   "execution_count": 114,
   "id": "695fa497",
   "metadata": {},
   "outputs": [
    {
     "name": "stdout",
     "output_type": "stream",
     "text": [
      "Saved trained model at /Users/xiao/Documents/GitHub/TextCaptchaPR/Captcha/saved_models \n"
     ]
    }
   ],
   "source": [
    "save_dir = os.path.join(PATH, 'saved_models')\n",
    "SaveModel(model, save_dir, model_name)"
   ]
  },
  {
   "cell_type": "code",
   "execution_count": 108,
   "id": "dcfc8862",
   "metadata": {},
   "outputs": [
    {
     "name": "stdout",
     "output_type": "stream",
     "text": [
      "1408/1408 [==============================] - 28s 20ms/step - loss: 8.3718 - digit0_loss: 1.3368 - digit1_loss: 1.8840 - digit2_loss: 1.9615 - digit3_loss: 1.8071 - digit4_loss: 1.3825 - digit0_accuracy: 0.5869 - digit1_accuracy: 0.4458 - digit2_accuracy: 0.4269 - digit3_accuracy: 0.4668 - digit4_accuracy: 0.5851\n",
      "Train loss:     3.072234\n",
      "Train accuracy: 3.05\n"
     ]
    }
   ],
   "source": [
    "# Score trained model.\n",
    "scores = model.evaluate(x_train, s_train, verbose=1)\n",
    "print('Train loss:     %f' % np.mean(scores[0:5]))\n",
    "acc = 1.\n",
    "for i in range(5):\n",
    "    acc *= scores[6+i]\n",
    "print('Train accuracy: %.2f' % (acc * 100.))\n"
   ]
  },
  {
   "cell_type": "code",
   "execution_count": 109,
   "id": "e054d528",
   "metadata": {},
   "outputs": [
    {
     "name": "stdout",
     "output_type": "stream",
     "text": [
      "155/155 [==============================] - 3s 20ms/step - loss: 9.7666 - digit0_loss: 1.6302 - digit1_loss: 2.1934 - digit2_loss: 2.2384 - digit3_loss: 2.0491 - digit4_loss: 1.6555 - digit0_accuracy: 0.5020 - digit1_accuracy: 0.3597 - digit2_accuracy: 0.3579 - digit3_accuracy: 0.4066 - digit4_accuracy: 0.5079\n",
      "Test loss:     3.575559\n",
      "Test accuracy: 1.33\n"
     ]
    }
   ],
   "source": [
    "scores = model.evaluate(x_test, s_test, verbose=1)\n",
    "print('Test loss:     %f' % np.mean(scores[0:5]))\n",
    "acc = 1.\n",
    "for i in range(5):\n",
    "    acc *= scores[6+i]\n",
    "print('Test accuracy: %.2f' % (acc * 100.))"
   ]
  },
  {
   "cell_type": "code",
   "execution_count": null,
   "id": "9380c907",
   "metadata": {},
   "outputs": [],
   "source": []
  },
  {
   "cell_type": "code",
   "execution_count": null,
   "id": "0d6897b0",
   "metadata": {},
   "outputs": [],
   "source": []
  }
 ],
 "metadata": {
  "kernelspec": {
   "display_name": "Python 3.9 (tensorflow)",
   "language": "python",
   "name": "tensorflow"
  },
  "language_info": {
   "codemirror_mode": {
    "name": "ipython",
    "version": 3
   },
   "file_extension": ".py",
   "mimetype": "text/x-python",
   "name": "python",
   "nbconvert_exporter": "python",
   "pygments_lexer": "ipython3",
   "version": "3.9.7"
  }
 },
 "nbformat": 4,
 "nbformat_minor": 5
}
