{
 "cells": [
  {
   "cell_type": "code",
   "execution_count": 1,
   "id": "39deba17",
   "metadata": {},
   "outputs": [
    {
     "name": "stdout",
     "output_type": "stream",
     "text": [
      "Init Plugin\n",
      "Init Graph Optimizer\n",
      "Init Kernel\n"
     ]
    }
   ],
   "source": [
    "import tensorflow as tf\n",
    "import argparse\n",
    "import json\n",
    "import string\n",
    "import os\n",
    "import shutil\n",
    "import uuid\n",
    "from captcha.image import ImageCaptcha\n",
    "import itertools\n",
    "import os\n",
    "import cv2\n",
    "import numpy as np\n",
    "from random import random, randint, choices\n",
    "from tensorflow import keras\n",
    "from tensorflow.keras.models import Sequential, Model\n",
    "from tensorflow.keras.layers import Dense, Dropout, Activation, Flatten\n",
    "from tensorflow.keras.layers import Conv2D, MaxPooling2D, Input, AveragePooling2D\n",
    "import matplotlib.pyplot as plt\n",
    "from keras.models import load_model\n"
   ]
  },
  {
   "cell_type": "code",
   "execution_count": 2,
   "id": "7d0926bd",
   "metadata": {},
   "outputs": [],
   "source": [
    "# generated CAPTCHAs using Python ImageCaptcha Library\n",
    "alphabet_all = list('qwertyuiopasdfghjklzxcvbnm0123456789QWERTYUIOPLKJHGFDSAZXCVBNM')\n",
    "alphabet = list('qwertyuiopasdfghjklzxcvbnm0123456789QWERTYUIOPLKJHGFDSAZXCVBNM')#QWERTYUIOPLKJHGFDSAZXCVBNM')\n",
    "num_alphabet = len(alphabet)\n",
    "\n",
    "def _gen_captcha(img_dir, num_of_letters, num_of_repetition, width, height):\n",
    "    if os.path.exists(img_dir):\n",
    "        shutil.rmtree(img_dir)\n",
    "    if not os.path.exists(img_dir):\n",
    "        os.makedirs(img_dir)\n",
    "        \n",
    "    image = ImageCaptcha(width=width, height=height)\n",
    "\n",
    "    for counter in range(num_of_repetition):\n",
    "        i = choices(alphabet_all, k=5)\n",
    "        captcha = ''.join(i)\n",
    "        fn = os.path.join(img_dir, '%s_%s.png' % (captcha, uuid.uuid4()))\n",
    "        image.write(captcha, fn)\n",
    "\n",
    "def gen_dataset(path, num_of_repetition, num_of_letters, width, height):\n",
    "    _gen_captcha(os.path.join(path, 'data'), num_of_letters, num_of_repetition, width, height)\n",
    "    print('Finished Data Generation')"
   ]
  },
  {
   "cell_type": "code",
   "execution_count": 3,
   "id": "3af220ff",
   "metadata": {},
   "outputs": [],
   "source": [
    "BATCH_SIZE = 128\n",
    "NUM_OF_LETTERS = 5\n",
    "EPOCHS = 25\n",
    "IMG_ROW, IMG_COLS = 50, 135\n",
    "# Non-configs\n",
    "PATH = os.getcwd() # get current path\n",
    "DATA_PATH = os.path.join(PATH, 'train')# create new folder for data"
   ]
  },
  {
   "cell_type": "code",
   "execution_count": 4,
   "id": "8d4d048b",
   "metadata": {},
   "outputs": [],
   "source": [
    "# Save model and weights\n",
    "def SaveModel(model, save_dir, model_name):\n",
    "    if not os.path.isdir(save_dir):\n",
    "        os.makedirs(save_dir)\n",
    "    model_path = os.path.join(save_dir, model_name)\n",
    "    model.save(model_path)\n",
    "    print('Saved trained model at %s ' % save_dir)"
   ]
  },
  {
   "cell_type": "code",
   "execution_count": 5,
   "id": "4221c902",
   "metadata": {},
   "outputs": [],
   "source": [
    "#pre-processing\n",
    "def load_data(path, test_split=0.1):\n",
    "    print ('loading dataset...')\n",
    "    y_train = []\n",
    "    y_test = []\n",
    "    x_train = []\n",
    "    x_test = []\n",
    "\n",
    "    # r=root, d=directories, f = files\n",
    "    counter = 0\n",
    "    for r, d, f in os.walk(path):\n",
    "        for fl in f:\n",
    "            if '.png' in fl:\n",
    "                flr = fl.split('_')[0]\n",
    "                counter += 1\n",
    "                label = np.zeros((NUM_OF_LETTERS, num_alphabet))\n",
    "                for i in range(NUM_OF_LETTERS):\n",
    "                    label[i, alphabet.index(flr[i].lower())] = 1\n",
    "#                 label = np.zeros((50, 1))\n",
    "#                 for i in range(5):\n",
    "#                     label[i*5+int(flr[i])] = 1\n",
    "                img = cv2.imread(os.path.join(r, fl))\n",
    "                img = cv2.cvtColor(img, cv2.COLOR_BGR2GRAY)\n",
    "                img = cv2.resize(img, (int(135/2), int(50/2)), interpolation=cv2.INTER_AREA)\n",
    "                img = np.reshape(img, (img.shape[0], img.shape[1], 1))\n",
    "\n",
    "                if random() < test_split:\n",
    "                    y_test.append(label)\n",
    "                    x_test.append(img)\n",
    "                else:\n",
    "                    y_train.append(label)\n",
    "                    x_train.append(img)\n",
    "\n",
    "    print('dataset size:', counter, '(train=%d, test=%d)' % (len(y_train), len(y_test)))\n",
    "    return np.array(x_train), np.array(y_train), np.array(x_test), np.array(y_test)"
   ]
  },
  {
   "cell_type": "code",
   "execution_count": 40,
   "id": "f6ef0694",
   "metadata": {},
   "outputs": [
    {
     "name": "stdout",
     "output_type": "stream",
     "text": [
      "Generating Dataset\n",
      "Finished Data Generation\n"
     ]
    }
   ],
   "source": [
    "if not os.path.exists(DATA_PATH):\n",
    "    print('Generating Dataset')\n",
    "    gen_dataset(DATA_PATH, 100*1000 , NUM_OF_LETTERS, IMG_COLS, IMG_ROW)"
   ]
  },
  {
   "cell_type": "code",
   "execution_count": 6,
   "id": "f8a54f23",
   "metadata": {},
   "outputs": [
    {
     "name": "stdout",
     "output_type": "stream",
     "text": [
      "loading dataset...\n",
      "dataset size: 100000 (train=90202, test=9798)\n"
     ]
    }
   ],
   "source": [
    "x_train, y_train, x_test, y_test = load_data(DATA_PATH)\n",
    "\n",
    "x_train = x_train.astype('float32')\n",
    "x_test = x_test.astype('float32')\n",
    "x_train /= 255\n",
    "x_test /= 255"
   ]
  },
  {
   "cell_type": "code",
   "execution_count": 7,
   "id": "59551eb5",
   "metadata": {},
   "outputs": [
    {
     "name": "stdout",
     "output_type": "stream",
     "text": [
      "(90202, 25, 67, 1)\n",
      "(90202, 5, 36)\n",
      "(9798, 25, 67, 1)\n",
      "(9798, 5, 36)\n"
     ]
    }
   ],
   "source": [
    "print(x_train.shape)\n",
    "print(y_train.shape)\n",
    "print(x_test.shape)\n",
    "print(y_test.shape)"
   ]
  },
  {
   "cell_type": "code",
   "execution_count": 8,
   "id": "1e7ee564",
   "metadata": {},
   "outputs": [],
   "source": [
    "s_train = []\n",
    "s_test = []\n",
    "for i in range(NUM_OF_LETTERS):\n",
    "    s_train.append(y_train[:, i, :])\n",
    "    s_test.append(y_test[:, i, :])"
   ]
  },
  {
   "cell_type": "code",
   "execution_count": 9,
   "id": "2a0ab963",
   "metadata": {},
   "outputs": [],
   "source": [
    "save_dir = os.path.join(PATH, 'saved_models')\n",
    "model_name = ''"
   ]
  },
  {
   "cell_type": "code",
   "execution_count": 10,
   "id": "ab3cdda9",
   "metadata": {},
   "outputs": [],
   "source": [
    "def ModelVGG19(input_shape):\n",
    "    input_layer = Input(input_shape)\n",
    "    x = Conv2D(filters=64, kernel_size=(3, 3), padding='same', activation='relu')(input_layer)\n",
    "    x = Conv2D(filters=64, kernel_size=(3, 3), padding='same', activation='relu')(x)  \n",
    "    x = MaxPooling2D(pool_size=(2, 2), strides=(2,2), padding='same')(x) #strides= (2,2)\n",
    "    \n",
    "    x = Conv2D(filters=128, kernel_size=(3, 3), padding='same', activation='relu')(x)\n",
    "    x = Conv2D(filters=128, kernel_size=(3, 3), padding='same', activation='relu')(x)\n",
    "    x = MaxPooling2D(pool_size=(2, 2), strides=(2,2), padding='same')(x) #strides= (2,2)\n",
    "\n",
    "    x = Conv2D(filters=256, kernel_size=(3, 3), padding='same', activation='relu')(x)\n",
    "    x = Conv2D(filters=256, kernel_size=(3, 3), padding='same', activation='relu')(x)\n",
    "    x = Conv2D(filters=256, kernel_size=(3, 3), padding='same', activation='relu')(x)\n",
    "    x = Conv2D(filters=256, kernel_size=(3, 3), padding='same', activation='relu')(x)\n",
    "    x = MaxPooling2D(pool_size=(2, 2), strides=(2,2), padding='same')(x) #strides= (2,2)\n",
    "\n",
    "    x = Conv2D(filters=512, kernel_size=(3, 3), padding='same', activation='relu')(x)\n",
    "    x = Conv2D(filters=512, kernel_size=(3, 3), padding='same', activation='relu')(x)\n",
    "    x = Conv2D(filters=512, kernel_size=(3, 3), padding='same', activation='relu')(x)\n",
    "    x = Conv2D(filters=512, kernel_size=(3, 3), padding='same', activation='relu')(x)\n",
    "    x = MaxPooling2D(pool_size=(2, 2), strides=(2,2), padding='same')(x) #strides= (2,2)\n",
    "\n",
    "    x = Conv2D(filters=512, kernel_size=(3, 3), padding='same', activation='relu')(x)\n",
    "    x = Conv2D(filters=512, kernel_size=(3, 3), padding='same', activation='relu')(x)\n",
    "    x = Conv2D(filters=512, kernel_size=(3, 3), padding='same', activation='relu')(x)\n",
    "    x = Conv2D(filters=512, kernel_size=(3, 3), padding='same', activation='relu')(x)\n",
    "    x = MaxPooling2D(pool_size=(2, 2), strides=(2,2), padding='same')(x) #strides= (2,2)\n",
    "\n",
    "      \n",
    "    x = Flatten()(x)\n",
    "    x = Dense(4096, activation='relu')(x)\n",
    "    x = Dropout(0.5)(x)\n",
    "    x = Dense(4096, activation='relu')(x)\n",
    "    x = Dropout(0.5)(x)\n",
    "    \n",
    "    out = [Dense(num_alphabet, name='digit%d' % i, activation='softmax')(x) for i in range(NUM_OF_LETTERS)]\n",
    "    # out = Dense(num_alphabet*5, activation='sigmoid')(x)\n",
    "\n",
    "    model = Model(inputs=input_layer, outputs=out)\n",
    "    model.compile(loss='categorical_crossentropy', optimizer='adam', metrics=['accuracy'])\n",
    "    model_name = 'keras_VGG19_trained_model.h5'\n",
    "\n",
    "    return model\n"
   ]
  },
  {
   "cell_type": "code",
   "execution_count": 11,
   "id": "e42e36c5",
   "metadata": {},
   "outputs": [],
   "source": [
    "#architecture\n",
    "def ModelCifar10():\n",
    "    input_layer = Input((25, 67, 1))\n",
    "    x = Conv2D(filters=32, kernel_size=(5, 5), padding='same', activation='relu')(input_layer)\n",
    "    x = MaxPooling2D(pool_size=(2, 2))(x)\n",
    "\n",
    "    x = Conv2D(filters=48, kernel_size=(5, 5), padding='same', activation='relu')(x)\n",
    "    x = MaxPooling2D(pool_size=(2, 2))(x)\n",
    "\n",
    "    x = Conv2D(filters=64, kernel_size=(5, 5), padding='same', activation='relu')(x)\n",
    "    x = MaxPooling2D(pool_size=(2, 2))(x)\n",
    "\n",
    "    x = Dropout(0.3)(x)\n",
    "    x = Flatten()(x)\n",
    "    x = Dense(512, activation='relu')(x)\n",
    "    x = Dropout(0.3)(x)\n",
    "\n",
    "    out = [Dense(num_alphabet, name='digit%d' % i, activation='softmax')(x) for i in range(NUM_OF_LETTERS)]\n",
    "    # out = Dense(num_alphabet*5, activation='sigmoid')(x)\n",
    "\n",
    "    model = Model(inputs=input_layer, outputs=out)\n",
    "    model.compile(loss='categorical_crossentropy', optimizer='adam', metrics=['accuracy'])\n",
    "    model_name = 'keras_Cifar10_trained_model.h5'\n",
    "    return model\n",
    "\n",
    "\n",
    "    "
   ]
  },
  {
   "cell_type": "code",
   "execution_count": 12,
   "id": "91c3a587",
   "metadata": {},
   "outputs": [],
   "source": [
    "#LeNet-5 architecture\n",
    "def ModelLeNet():\n",
    "    input_layer = Input((25, 67, 1))\n",
    "    x = Conv2D(filters=6, kernel_size=(5, 5), activation='tanh')(input_layer)\n",
    "    x = AveragePooling2D(pool_size=(2, 2),strides=(2, 2))(x)\n",
    "\n",
    "    x = Conv2D(filters=16, kernel_size=(5, 5), padding='valid', activation='tanh')(x)\n",
    "    x = AveragePooling2D(pool_size=(2, 2),strides=(2, 2))(x)\n",
    "\n",
    "    x = Flatten()(x)\n",
    "    x = Dense(120, activation='tanh')(x)\n",
    "    x = Dense(84, activation='tanh')(x)\n",
    "\n",
    "    out = [Dense(num_alphabet, name='digit%d' % i, activation='softmax')(x) for i in range(NUM_OF_LETTERS)]\n",
    "    \n",
    "    model = Model(inputs=input_layer, outputs=out)\n",
    "    model.compile(loss='categorical_crossentropy',\n",
    "                  optimizer='adam',\n",
    "                  metrics=['accuracy'])\n",
    "    model_name = 'keras_LeNet_trained_model.h5'\n",
    "    return model\n",
    "\n",
    "\n"
   ]
  },
  {
   "cell_type": "code",
   "execution_count": 13,
   "id": "9fecdb0d",
   "metadata": {},
   "outputs": [
    {
     "name": "stdout",
     "output_type": "stream",
     "text": [
      "Metal device set to: Apple M1 Pro\n"
     ]
    },
    {
     "name": "stderr",
     "output_type": "stream",
     "text": [
      "2021-12-24 13:13:04.518778: I tensorflow/core/common_runtime/pluggable_device/pluggable_device_factory.cc:305] Could not identify NUMA node of platform GPU ID 0, defaulting to 0. Your kernel may not have been built with NUMA support.\n",
      "2021-12-24 13:13:04.519162: I tensorflow/core/common_runtime/pluggable_device/pluggable_device_factory.cc:271] Created TensorFlow device (/job:localhost/replica:0/task:0/device:GPU:0 with 0 MB memory) -> physical PluggableDevice (device: 0, name: METAL, pci bus id: <undefined>)\n"
     ]
    }
   ],
   "source": [
    "# model = ModelCifar10()\n",
    "model = ModelVGG19((25, 67, 1))\n",
    "# model = ModelLeNet()\n"
   ]
  },
  {
   "cell_type": "code",
   "execution_count": 15,
   "id": "14caab0a",
   "metadata": {},
   "outputs": [
    {
     "name": "stdout",
     "output_type": "stream",
     "text": [
      "Model: \"model\"\n",
      "__________________________________________________________________________________________________\n",
      "Layer (type)                    Output Shape         Param #     Connected to                     \n",
      "==================================================================================================\n",
      "input_1 (InputLayer)            [(None, 25, 67, 1)]  0                                            \n",
      "__________________________________________________________________________________________________\n",
      "conv2d (Conv2D)                 (None, 25, 67, 64)   640         input_1[0][0]                    \n",
      "__________________________________________________________________________________________________\n",
      "conv2d_1 (Conv2D)               (None, 25, 67, 64)   36928       conv2d[0][0]                     \n",
      "__________________________________________________________________________________________________\n",
      "max_pooling2d (MaxPooling2D)    (None, 13, 34, 64)   0           conv2d_1[0][0]                   \n",
      "__________________________________________________________________________________________________\n",
      "conv2d_2 (Conv2D)               (None, 13, 34, 128)  73856       max_pooling2d[0][0]              \n",
      "__________________________________________________________________________________________________\n",
      "conv2d_3 (Conv2D)               (None, 13, 34, 128)  147584      conv2d_2[0][0]                   \n",
      "__________________________________________________________________________________________________\n",
      "max_pooling2d_1 (MaxPooling2D)  (None, 7, 17, 128)   0           conv2d_3[0][0]                   \n",
      "__________________________________________________________________________________________________\n",
      "conv2d_4 (Conv2D)               (None, 7, 17, 256)   295168      max_pooling2d_1[0][0]            \n",
      "__________________________________________________________________________________________________\n",
      "conv2d_5 (Conv2D)               (None, 7, 17, 256)   590080      conv2d_4[0][0]                   \n",
      "__________________________________________________________________________________________________\n",
      "conv2d_6 (Conv2D)               (None, 7, 17, 256)   590080      conv2d_5[0][0]                   \n",
      "__________________________________________________________________________________________________\n",
      "conv2d_7 (Conv2D)               (None, 7, 17, 256)   590080      conv2d_6[0][0]                   \n",
      "__________________________________________________________________________________________________\n",
      "max_pooling2d_2 (MaxPooling2D)  (None, 4, 9, 256)    0           conv2d_7[0][0]                   \n",
      "__________________________________________________________________________________________________\n",
      "conv2d_8 (Conv2D)               (None, 4, 9, 512)    1180160     max_pooling2d_2[0][0]            \n",
      "__________________________________________________________________________________________________\n",
      "conv2d_9 (Conv2D)               (None, 4, 9, 512)    2359808     conv2d_8[0][0]                   \n",
      "__________________________________________________________________________________________________\n",
      "conv2d_10 (Conv2D)              (None, 4, 9, 512)    2359808     conv2d_9[0][0]                   \n",
      "__________________________________________________________________________________________________\n",
      "conv2d_11 (Conv2D)              (None, 4, 9, 512)    2359808     conv2d_10[0][0]                  \n",
      "__________________________________________________________________________________________________\n",
      "max_pooling2d_3 (MaxPooling2D)  (None, 2, 5, 512)    0           conv2d_11[0][0]                  \n",
      "__________________________________________________________________________________________________\n",
      "conv2d_12 (Conv2D)              (None, 2, 5, 512)    2359808     max_pooling2d_3[0][0]            \n",
      "__________________________________________________________________________________________________\n",
      "conv2d_13 (Conv2D)              (None, 2, 5, 512)    2359808     conv2d_12[0][0]                  \n",
      "__________________________________________________________________________________________________\n",
      "conv2d_14 (Conv2D)              (None, 2, 5, 512)    2359808     conv2d_13[0][0]                  \n",
      "__________________________________________________________________________________________________\n",
      "conv2d_15 (Conv2D)              (None, 2, 5, 512)    2359808     conv2d_14[0][0]                  \n",
      "__________________________________________________________________________________________________\n",
      "max_pooling2d_4 (MaxPooling2D)  (None, 1, 3, 512)    0           conv2d_15[0][0]                  \n",
      "__________________________________________________________________________________________________\n",
      "flatten (Flatten)               (None, 1536)         0           max_pooling2d_4[0][0]            \n",
      "__________________________________________________________________________________________________\n",
      "dense (Dense)                   (None, 4096)         6295552     flatten[0][0]                    \n",
      "__________________________________________________________________________________________________\n",
      "dropout (Dropout)               (None, 4096)         0           dense[0][0]                      \n",
      "__________________________________________________________________________________________________\n",
      "dense_1 (Dense)                 (None, 4096)         16781312    dropout[0][0]                    \n",
      "__________________________________________________________________________________________________\n",
      "dropout_1 (Dropout)             (None, 4096)         0           dense_1[0][0]                    \n",
      "__________________________________________________________________________________________________\n",
      "digit0 (Dense)                  (None, 36)           147492      dropout_1[0][0]                  \n",
      "__________________________________________________________________________________________________\n",
      "digit1 (Dense)                  (None, 36)           147492      dropout_1[0][0]                  \n",
      "__________________________________________________________________________________________________\n",
      "digit2 (Dense)                  (None, 36)           147492      dropout_1[0][0]                  \n",
      "__________________________________________________________________________________________________\n",
      "digit3 (Dense)                  (None, 36)           147492      dropout_1[0][0]                  \n",
      "__________________________________________________________________________________________________\n",
      "digit4 (Dense)                  (None, 36)           147492      dropout_1[0][0]                  \n",
      "==================================================================================================\n",
      "Total params: 43,837,556\n",
      "Trainable params: 43,837,556\n",
      "Non-trainable params: 0\n",
      "__________________________________________________________________________________________________\n"
     ]
    }
   ],
   "source": [
    "model.summary()"
   ]
  },
  {
   "cell_type": "code",
   "execution_count": 46,
   "id": "bb92d84d",
   "metadata": {},
   "outputs": [],
   "source": [
    "# model_path = os.path.join(save_dir, model_name)\n",
    "# model = keras.models.load_model(model_path)"
   ]
  },
  {
   "cell_type": "code",
   "execution_count": 125,
   "id": "9a95293b",
   "metadata": {},
   "outputs": [],
   "source": [
    "# # initiate Adam optimizer\n",
    "\n",
    "# model.compile(loss='categorical_crossentropy',\n",
    "#               optimizer='adam',\n",
    "#               metrics=['accuracy'])\n",
    "\n",
    "\n",
    "# model.summary() "
   ]
  },
  {
   "cell_type": "code",
   "execution_count": 16,
   "id": "40aa36d2",
   "metadata": {},
   "outputs": [],
   "source": [
    "hist_train_loss_digit = {i:[] for i in range(5)}\n",
    "hist_test_loss_digit = {i:[] for i in range(5)}\n",
    "\n",
    "hist_train_acc_digit = {i:[] for i in range(5)}\n",
    "hist_test_acc_digit = {i:[] for i in range(5)}\n",
    "\n",
    "hist_train_loss = []\n",
    "hist_test_loss = []\n",
    "\n",
    "hist_train_acc = []\n",
    "hist_test_acc = []"
   ]
  },
  {
   "cell_type": "code",
   "execution_count": 17,
   "id": "9c91024b",
   "metadata": {},
   "outputs": [],
   "source": [
    "digit_acc = [[] for _ in range(NUM_OF_LETTERS)]\n",
    "val_digit_acc = [[] for _ in range(NUM_OF_LETTERS)]\n",
    "loss = []\n",
    "val_loss = []"
   ]
  },
  {
   "cell_type": "code",
   "execution_count": 18,
   "id": "a119dc87",
   "metadata": {},
   "outputs": [
    {
     "name": "stderr",
     "output_type": "stream",
     "text": [
      "2021-12-24 13:13:31.686006: I tensorflow/compiler/mlir/mlir_graph_optimization_pass.cc:176] None of the MLIR Optimization Passes are enabled (registered 2)\n",
      "2021-12-24 13:13:31.688317: W tensorflow/core/platform/profile_utils/cpu_utils.cc:128] Failed to get CPU frequency: 0 Hz\n"
     ]
    },
    {
     "name": "stdout",
     "output_type": "stream",
     "text": [
      "Epoch 1/25\n"
     ]
    },
    {
     "name": "stderr",
     "output_type": "stream",
     "text": [
      "2021-12-24 13:13:32.278460: I tensorflow/core/grappler/optimizers/custom_graph_optimizer_registry.cc:112] Plugin optimizer for device_type GPU is enabled.\n"
     ]
    },
    {
     "name": "stdout",
     "output_type": "stream",
     "text": [
      "705/705 [==============================] - ETA: 0s - loss: 17.7730 - digit0_loss: 3.5555 - digit1_loss: 3.5532 - digit2_loss: 3.5532 - digit3_loss: 3.5564 - digit4_loss: 3.5548 - digit0_accuracy: 0.0326 - digit1_accuracy: 0.0320 - digit2_accuracy: 0.0329 - digit3_accuracy: 0.0314 - digit4_accuracy: 0.0322"
     ]
    },
    {
     "name": "stderr",
     "output_type": "stream",
     "text": [
      "2021-12-24 13:16:18.095747: I tensorflow/core/grappler/optimizers/custom_graph_optimizer_registry.cc:112] Plugin optimizer for device_type GPU is enabled.\n"
     ]
    },
    {
     "name": "stdout",
     "output_type": "stream",
     "text": [
      "705/705 [==============================] - 171s 240ms/step - loss: 17.7730 - digit0_loss: 3.5555 - digit1_loss: 3.5532 - digit2_loss: 3.5532 - digit3_loss: 3.5564 - digit4_loss: 3.5548 - digit0_accuracy: 0.0326 - digit1_accuracy: 0.0320 - digit2_accuracy: 0.0329 - digit3_accuracy: 0.0314 - digit4_accuracy: 0.0322 - val_loss: 17.7411 - val_digit0_loss: 3.5476 - val_digit1_loss: 3.5482 - val_digit2_loss: 3.5515 - val_digit3_loss: 3.5464 - val_digit4_loss: 3.5475 - val_digit0_accuracy: 0.0316 - val_digit1_accuracy: 0.0306 - val_digit2_accuracy: 0.0309 - val_digit3_accuracy: 0.0288 - val_digit4_accuracy: 0.0331\n",
      "Epoch 2/25\n",
      "705/705 [==============================] - 163s 232ms/step - loss: 17.7351 - digit0_loss: 3.5473 - digit1_loss: 3.5459 - digit2_loss: 3.5458 - digit3_loss: 3.5485 - digit4_loss: 3.5477 - digit0_accuracy: 0.0328 - digit1_accuracy: 0.0324 - digit2_accuracy: 0.0316 - digit3_accuracy: 0.0329 - digit4_accuracy: 0.0324 - val_loss: 17.7377 - val_digit0_loss: 3.5463 - val_digit1_loss: 3.5471 - val_digit2_loss: 3.5525 - val_digit3_loss: 3.5459 - val_digit4_loss: 3.5459 - val_digit0_accuracy: 0.0305 - val_digit1_accuracy: 0.0325 - val_digit2_accuracy: 0.0302 - val_digit3_accuracy: 0.0347 - val_digit4_accuracy: 0.0348\n",
      "Epoch 3/25\n",
      "705/705 [==============================] - 163s 231ms/step - loss: 17.7342 - digit0_loss: 3.5471 - digit1_loss: 3.5456 - digit2_loss: 3.5457 - digit3_loss: 3.5484 - digit4_loss: 3.5474 - digit0_accuracy: 0.0318 - digit1_accuracy: 0.0324 - digit2_accuracy: 0.0320 - digit3_accuracy: 0.0314 - digit4_accuracy: 0.0325 - val_loss: 17.7382 - val_digit0_loss: 3.5471 - val_digit1_loss: 3.5471 - val_digit2_loss: 3.5508 - val_digit3_loss: 3.5464 - val_digit4_loss: 3.5469 - val_digit0_accuracy: 0.0314 - val_digit1_accuracy: 0.0324 - val_digit2_accuracy: 0.0315 - val_digit3_accuracy: 0.0298 - val_digit4_accuracy: 0.0331\n",
      "Epoch 4/25\n",
      "705/705 [==============================] - 164s 233ms/step - loss: 17.7338 - digit0_loss: 3.5469 - digit1_loss: 3.5456 - digit2_loss: 3.5455 - digit3_loss: 3.5484 - digit4_loss: 3.5474 - digit0_accuracy: 0.0320 - digit1_accuracy: 0.0324 - digit2_accuracy: 0.0323 - digit3_accuracy: 0.0316 - digit4_accuracy: 0.0322 - val_loss: 17.7371 - val_digit0_loss: 3.5463 - val_digit1_loss: 3.5466 - val_digit2_loss: 3.5510 - val_digit3_loss: 3.5461 - val_digit4_loss: 3.5471 - val_digit0_accuracy: 0.0327 - val_digit1_accuracy: 0.0321 - val_digit2_accuracy: 0.0305 - val_digit3_accuracy: 0.0338 - val_digit4_accuracy: 0.0306\n",
      "Epoch 5/25\n",
      "705/705 [==============================] - 165s 234ms/step - loss: 17.7332 - digit0_loss: 3.5468 - digit1_loss: 3.5453 - digit2_loss: 3.5454 - digit3_loss: 3.5483 - digit4_loss: 3.5474 - digit0_accuracy: 0.0330 - digit1_accuracy: 0.0320 - digit2_accuracy: 0.0322 - digit3_accuracy: 0.0321 - digit4_accuracy: 0.0319 - val_loss: 17.7368 - val_digit0_loss: 3.5469 - val_digit1_loss: 3.5469 - val_digit2_loss: 3.5511 - val_digit3_loss: 3.5451 - val_digit4_loss: 3.5468 - val_digit0_accuracy: 0.0308 - val_digit1_accuracy: 0.0324 - val_digit2_accuracy: 0.0315 - val_digit3_accuracy: 0.0317 - val_digit4_accuracy: 0.0331\n",
      "Epoch 6/25\n",
      "705/705 [==============================] - 163s 231ms/step - loss: 17.7328 - digit0_loss: 3.5469 - digit1_loss: 3.5454 - digit2_loss: 3.5452 - digit3_loss: 3.5480 - digit4_loss: 3.5473 - digit0_accuracy: 0.0326 - digit1_accuracy: 0.0320 - digit2_accuracy: 0.0318 - digit3_accuracy: 0.0318 - digit4_accuracy: 0.0330 - val_loss: 17.7369 - val_digit0_loss: 3.5465 - val_digit1_loss: 3.5473 - val_digit2_loss: 3.5509 - val_digit3_loss: 3.5457 - val_digit4_loss: 3.5465 - val_digit0_accuracy: 0.0329 - val_digit1_accuracy: 0.0312 - val_digit2_accuracy: 0.0315 - val_digit3_accuracy: 0.0317 - val_digit4_accuracy: 0.0331\n",
      "Epoch 7/25\n",
      "705/705 [==============================] - 162s 230ms/step - loss: 17.7324 - digit0_loss: 3.5467 - digit1_loss: 3.5453 - digit2_loss: 3.5453 - digit3_loss: 3.5481 - digit4_loss: 3.5471 - digit0_accuracy: 0.0327 - digit1_accuracy: 0.0325 - digit2_accuracy: 0.0317 - digit3_accuracy: 0.0315 - digit4_accuracy: 0.0328 - val_loss: 17.7369 - val_digit0_loss: 3.5464 - val_digit1_loss: 3.5467 - val_digit2_loss: 3.5507 - val_digit3_loss: 3.5466 - val_digit4_loss: 3.5465 - val_digit0_accuracy: 0.0329 - val_digit1_accuracy: 0.0328 - val_digit2_accuracy: 0.0345 - val_digit3_accuracy: 0.0306 - val_digit4_accuracy: 0.0331\n",
      "Epoch 8/25\n",
      "705/705 [==============================] - 163s 231ms/step - loss: 17.7319 - digit0_loss: 3.5466 - digit1_loss: 3.5451 - digit2_loss: 3.5452 - digit3_loss: 3.5478 - digit4_loss: 3.5471 - digit0_accuracy: 0.0326 - digit1_accuracy: 0.0325 - digit2_accuracy: 0.0321 - digit3_accuracy: 0.0323 - digit4_accuracy: 0.0330 - val_loss: 17.7353 - val_digit0_loss: 3.5456 - val_digit1_loss: 3.5466 - val_digit2_loss: 3.5511 - val_digit3_loss: 3.5456 - val_digit4_loss: 3.5465 - val_digit0_accuracy: 0.0329 - val_digit1_accuracy: 0.0314 - val_digit2_accuracy: 0.0311 - val_digit3_accuracy: 0.0316 - val_digit4_accuracy: 0.0318\n",
      "Epoch 9/25\n",
      "705/705 [==============================] - 163s 232ms/step - loss: 17.7316 - digit0_loss: 3.5466 - digit1_loss: 3.5451 - digit2_loss: 3.5451 - digit3_loss: 3.5478 - digit4_loss: 3.5470 - digit0_accuracy: 0.0324 - digit1_accuracy: 0.0329 - digit2_accuracy: 0.0324 - digit3_accuracy: 0.0321 - digit4_accuracy: 0.0319 - val_loss: 17.7347 - val_digit0_loss: 3.5460 - val_digit1_loss: 3.5467 - val_digit2_loss: 3.5504 - val_digit3_loss: 3.5454 - val_digit4_loss: 3.5462 - val_digit0_accuracy: 0.0314 - val_digit1_accuracy: 0.0307 - val_digit2_accuracy: 0.0315 - val_digit3_accuracy: 0.0320 - val_digit4_accuracy: 0.0331\n",
      "Epoch 10/25\n",
      "705/705 [==============================] - 164s 233ms/step - loss: 17.7318 - digit0_loss: 3.5465 - digit1_loss: 3.5451 - digit2_loss: 3.5450 - digit3_loss: 3.5480 - digit4_loss: 3.5471 - digit0_accuracy: 0.0330 - digit1_accuracy: 0.0322 - digit2_accuracy: 0.0323 - digit3_accuracy: 0.0318 - digit4_accuracy: 0.0319 - val_loss: 17.7353 - val_digit0_loss: 3.5457 - val_digit1_loss: 3.5466 - val_digit2_loss: 3.5511 - val_digit3_loss: 3.5456 - val_digit4_loss: 3.5463 - val_digit0_accuracy: 0.0329 - val_digit1_accuracy: 0.0321 - val_digit2_accuracy: 0.0305 - val_digit3_accuracy: 0.0338 - val_digit4_accuracy: 0.0331\n",
      "Epoch 11/25\n",
      "705/705 [==============================] - 163s 232ms/step - loss: 17.7314 - digit0_loss: 3.5464 - digit1_loss: 3.5451 - digit2_loss: 3.5450 - digit3_loss: 3.5478 - digit4_loss: 3.5470 - digit0_accuracy: 0.0333 - digit1_accuracy: 0.0314 - digit2_accuracy: 0.0314 - digit3_accuracy: 0.0321 - digit4_accuracy: 0.0325 - val_loss: 17.7349 - val_digit0_loss: 3.5463 - val_digit1_loss: 3.5465 - val_digit2_loss: 3.5503 - val_digit3_loss: 3.5454 - val_digit4_loss: 3.5464 - val_digit0_accuracy: 0.0308 - val_digit1_accuracy: 0.0334 - val_digit2_accuracy: 0.0346 - val_digit3_accuracy: 0.0328 - val_digit4_accuracy: 0.0331\n",
      "Epoch 12/25\n",
      "705/705 [==============================] - 163s 232ms/step - loss: 17.7312 - digit0_loss: 3.5464 - digit1_loss: 3.5451 - digit2_loss: 3.5448 - digit3_loss: 3.5478 - digit4_loss: 3.5470 - digit0_accuracy: 0.0325 - digit1_accuracy: 0.0329 - digit2_accuracy: 0.0326 - digit3_accuracy: 0.0324 - digit4_accuracy: 0.0321 - val_loss: 17.7342 - val_digit0_loss: 3.5457 - val_digit1_loss: 3.5465 - val_digit2_loss: 3.5509 - val_digit3_loss: 3.5452 - val_digit4_loss: 3.5458 - val_digit0_accuracy: 0.0305 - val_digit1_accuracy: 0.0306 - val_digit2_accuracy: 0.0315 - val_digit3_accuracy: 0.0332 - val_digit4_accuracy: 0.0337\n",
      "Epoch 13/25\n",
      "705/705 [==============================] - 163s 232ms/step - loss: 17.7312 - digit0_loss: 3.5464 - digit1_loss: 3.5451 - digit2_loss: 3.5449 - digit3_loss: 3.5478 - digit4_loss: 3.5470 - digit0_accuracy: 0.0328 - digit1_accuracy: 0.0326 - digit2_accuracy: 0.0334 - digit3_accuracy: 0.0314 - digit4_accuracy: 0.0319 - val_loss: 17.7355 - val_digit0_loss: 3.5460 - val_digit1_loss: 3.5466 - val_digit2_loss: 3.5509 - val_digit3_loss: 3.5455 - val_digit4_loss: 3.5464 - val_digit0_accuracy: 0.0314 - val_digit1_accuracy: 0.0334 - val_digit2_accuracy: 0.0319 - val_digit3_accuracy: 0.0328 - val_digit4_accuracy: 0.0331\n",
      "Epoch 14/25\n"
     ]
    },
    {
     "name": "stdout",
     "output_type": "stream",
     "text": [
      "705/705 [==============================] - 164s 232ms/step - loss: 17.7312 - digit0_loss: 3.5465 - digit1_loss: 3.5449 - digit2_loss: 3.5450 - digit3_loss: 3.5478 - digit4_loss: 3.5470 - digit0_accuracy: 0.0329 - digit1_accuracy: 0.0334 - digit2_accuracy: 0.0322 - digit3_accuracy: 0.0317 - digit4_accuracy: 0.0322 - val_loss: 17.7355 - val_digit0_loss: 3.5459 - val_digit1_loss: 3.5466 - val_digit2_loss: 3.5508 - val_digit3_loss: 3.5456 - val_digit4_loss: 3.5466 - val_digit0_accuracy: 0.0329 - val_digit1_accuracy: 0.0313 - val_digit2_accuracy: 0.0350 - val_digit3_accuracy: 0.0321 - val_digit4_accuracy: 0.0331\n",
      "Epoch 15/25\n",
      "705/705 [==============================] - 164s 233ms/step - loss: 17.7307 - digit0_loss: 3.5462 - digit1_loss: 3.5451 - digit2_loss: 3.5449 - digit3_loss: 3.5476 - digit4_loss: 3.5469 - digit0_accuracy: 0.0331 - digit1_accuracy: 0.0325 - digit2_accuracy: 0.0325 - digit3_accuracy: 0.0322 - digit4_accuracy: 0.0328 - val_loss: 17.7349 - val_digit0_loss: 3.5458 - val_digit1_loss: 3.5465 - val_digit2_loss: 3.5511 - val_digit3_loss: 3.5454 - val_digit4_loss: 3.5461 - val_digit0_accuracy: 0.0328 - val_digit1_accuracy: 0.0328 - val_digit2_accuracy: 0.0350 - val_digit3_accuracy: 0.0338 - val_digit4_accuracy: 0.0306\n",
      "Epoch 16/25\n",
      "705/705 [==============================] - 164s 233ms/step - loss: 17.7306 - digit0_loss: 3.5462 - digit1_loss: 3.5449 - digit2_loss: 3.5449 - digit3_loss: 3.5478 - digit4_loss: 3.5469 - digit0_accuracy: 0.0323 - digit1_accuracy: 0.0337 - digit2_accuracy: 0.0322 - digit3_accuracy: 0.0317 - digit4_accuracy: 0.0331 - val_loss: 17.7348 - val_digit0_loss: 3.5459 - val_digit1_loss: 3.5464 - val_digit2_loss: 3.5507 - val_digit3_loss: 3.5458 - val_digit4_loss: 3.5460 - val_digit0_accuracy: 0.0307 - val_digit1_accuracy: 0.0312 - val_digit2_accuracy: 0.0346 - val_digit3_accuracy: 0.0294 - val_digit4_accuracy: 0.0331\n",
      "Epoch 17/25\n",
      "705/705 [==============================] - 162s 229ms/step - loss: 17.7305 - digit0_loss: 3.5463 - digit1_loss: 3.5449 - digit2_loss: 3.5449 - digit3_loss: 3.5476 - digit4_loss: 3.5468 - digit0_accuracy: 0.0330 - digit1_accuracy: 0.0325 - digit2_accuracy: 0.0316 - digit3_accuracy: 0.0318 - digit4_accuracy: 0.0326 - val_loss: 17.7348 - val_digit0_loss: 3.5460 - val_digit1_loss: 3.5464 - val_digit2_loss: 3.5506 - val_digit3_loss: 3.5457 - val_digit4_loss: 3.5462 - val_digit0_accuracy: 0.0308 - val_digit1_accuracy: 0.0331 - val_digit2_accuracy: 0.0350 - val_digit3_accuracy: 0.0347 - val_digit4_accuracy: 0.0331\n",
      "Epoch 18/25\n",
      "705/705 [==============================] - 163s 231ms/step - loss: 17.7304 - digit0_loss: 3.5463 - digit1_loss: 3.5449 - digit2_loss: 3.5449 - digit3_loss: 3.5477 - digit4_loss: 3.5466 - digit0_accuracy: 0.0328 - digit1_accuracy: 0.0319 - digit2_accuracy: 0.0311 - digit3_accuracy: 0.0315 - digit4_accuracy: 0.0338 - val_loss: 17.7336 - val_digit0_loss: 3.5455 - val_digit1_loss: 3.5465 - val_digit2_loss: 3.5504 - val_digit3_loss: 3.5450 - val_digit4_loss: 3.5461 - val_digit0_accuracy: 0.0329 - val_digit1_accuracy: 0.0314 - val_digit2_accuracy: 0.0285 - val_digit3_accuracy: 0.0338 - val_digit4_accuracy: 0.0337\n",
      "Epoch 19/25\n",
      "705/705 [==============================] - 162s 230ms/step - loss: 17.7302 - digit0_loss: 3.5463 - digit1_loss: 3.5447 - digit2_loss: 3.5447 - digit3_loss: 3.5477 - digit4_loss: 3.5468 - digit0_accuracy: 0.0330 - digit1_accuracy: 0.0320 - digit2_accuracy: 0.0328 - digit3_accuracy: 0.0316 - digit4_accuracy: 0.0325 - val_loss: 17.7342 - val_digit0_loss: 3.5456 - val_digit1_loss: 3.5465 - val_digit2_loss: 3.5505 - val_digit3_loss: 3.5456 - val_digit4_loss: 3.5460 - val_digit0_accuracy: 0.0329 - val_digit1_accuracy: 0.0332 - val_digit2_accuracy: 0.0345 - val_digit3_accuracy: 0.0338 - val_digit4_accuracy: 0.0337\n",
      "Epoch 20/25\n",
      "705/705 [==============================] - 163s 231ms/step - loss: 17.7297 - digit0_loss: 3.5462 - digit1_loss: 3.5447 - digit2_loss: 3.5447 - digit3_loss: 3.5475 - digit4_loss: 3.5466 - digit0_accuracy: 0.0328 - digit1_accuracy: 0.0315 - digit2_accuracy: 0.0319 - digit3_accuracy: 0.0310 - digit4_accuracy: 0.0331 - val_loss: 17.7347 - val_digit0_loss: 3.5460 - val_digit1_loss: 3.5466 - val_digit2_loss: 3.5502 - val_digit3_loss: 3.5457 - val_digit4_loss: 3.5461 - val_digit0_accuracy: 0.0329 - val_digit1_accuracy: 0.0324 - val_digit2_accuracy: 0.0350 - val_digit3_accuracy: 0.0288 - val_digit4_accuracy: 0.0331\n",
      "Epoch 21/25\n",
      "705/705 [==============================] - 163s 231ms/step - loss: 17.7300 - digit0_loss: 3.5463 - digit1_loss: 3.5448 - digit2_loss: 3.5448 - digit3_loss: 3.5475 - digit4_loss: 3.5468 - digit0_accuracy: 0.0329 - digit1_accuracy: 0.0328 - digit2_accuracy: 0.0322 - digit3_accuracy: 0.0316 - digit4_accuracy: 0.0325 - val_loss: 17.7347 - val_digit0_loss: 3.5461 - val_digit1_loss: 3.5463 - val_digit2_loss: 3.5506 - val_digit3_loss: 3.5456 - val_digit4_loss: 3.5461 - val_digit0_accuracy: 0.0329 - val_digit1_accuracy: 0.0312 - val_digit2_accuracy: 0.0311 - val_digit3_accuracy: 0.0302 - val_digit4_accuracy: 0.0331\n",
      "Epoch 22/25\n",
      "705/705 [==============================] - 163s 231ms/step - loss: 17.7299 - digit0_loss: 3.5463 - digit1_loss: 3.5447 - digit2_loss: 3.5447 - digit3_loss: 3.5476 - digit4_loss: 3.5466 - digit0_accuracy: 0.0326 - digit1_accuracy: 0.0326 - digit2_accuracy: 0.0319 - digit3_accuracy: 0.0316 - digit4_accuracy: 0.0327 - val_loss: 17.7343 - val_digit0_loss: 3.5458 - val_digit1_loss: 3.5463 - val_digit2_loss: 3.5507 - val_digit3_loss: 3.5456 - val_digit4_loss: 3.5459 - val_digit0_accuracy: 0.0329 - val_digit1_accuracy: 0.0332 - val_digit2_accuracy: 0.0319 - val_digit3_accuracy: 0.0330 - val_digit4_accuracy: 0.0335\n",
      "Epoch 23/25\n",
      "705/705 [==============================] - 162s 230ms/step - loss: 17.7299 - digit0_loss: 3.5461 - digit1_loss: 3.5448 - digit2_loss: 3.5447 - digit3_loss: 3.5476 - digit4_loss: 3.5467 - digit0_accuracy: 0.0337 - digit1_accuracy: 0.0324 - digit2_accuracy: 0.0320 - digit3_accuracy: 0.0319 - digit4_accuracy: 0.0324 - val_loss: 17.7346 - val_digit0_loss: 3.5460 - val_digit1_loss: 3.5465 - val_digit2_loss: 3.5506 - val_digit3_loss: 3.5454 - val_digit4_loss: 3.5461 - val_digit0_accuracy: 0.0329 - val_digit1_accuracy: 0.0332 - val_digit2_accuracy: 0.0315 - val_digit3_accuracy: 0.0330 - val_digit4_accuracy: 0.0290\n",
      "Epoch 24/25\n",
      "705/705 [==============================] - 162s 230ms/step - loss: 17.7297 - digit0_loss: 3.5462 - digit1_loss: 3.5447 - digit2_loss: 3.5447 - digit3_loss: 3.5474 - digit4_loss: 3.5467 - digit0_accuracy: 0.0335 - digit1_accuracy: 0.0325 - digit2_accuracy: 0.0322 - digit3_accuracy: 0.0320 - digit4_accuracy: 0.0316 - val_loss: 17.7346 - val_digit0_loss: 3.5460 - val_digit1_loss: 3.5464 - val_digit2_loss: 3.5505 - val_digit3_loss: 3.5456 - val_digit4_loss: 3.5460 - val_digit0_accuracy: 0.0305 - val_digit1_accuracy: 0.0324 - val_digit2_accuracy: 0.0319 - val_digit3_accuracy: 0.0302 - val_digit4_accuracy: 0.0331\n",
      "Epoch 25/25\n",
      "705/705 [==============================] - 162s 230ms/step - loss: 17.7296 - digit0_loss: 3.5460 - digit1_loss: 3.5448 - digit2_loss: 3.5447 - digit3_loss: 3.5475 - digit4_loss: 3.5466 - digit0_accuracy: 0.0326 - digit1_accuracy: 0.0323 - digit2_accuracy: 0.0320 - digit3_accuracy: 0.0310 - digit4_accuracy: 0.0333 - val_loss: 17.7346 - val_digit0_loss: 3.5458 - val_digit1_loss: 3.5465 - val_digit2_loss: 3.5510 - val_digit3_loss: 3.5453 - val_digit4_loss: 3.5460 - val_digit0_accuracy: 0.0329 - val_digit1_accuracy: 0.0334 - val_digit2_accuracy: 0.0324 - val_digit3_accuracy: 0.0338 - val_digit4_accuracy: 0.0331\n"
     ]
    }
   ],
   "source": [
    "history = model.fit(x_train, s_train,\n",
    "                    batch_size=BATCH_SIZE,\n",
    "                    epochs=EPOCHS,\n",
    "                    verbose=1,\n",
    "                    validation_data=(x_test, s_test)\n",
    "                   )"
   ]
  },
  {
   "cell_type": "code",
   "execution_count": 19,
   "id": "a3def92d",
   "metadata": {},
   "outputs": [],
   "source": [
    "digit_acc = [[] for _ in range(NUM_OF_LETTERS)]\n",
    "val_digit_acc = [[] for _ in range(NUM_OF_LETTERS)]\n",
    "loss = []\n",
    "val_loss = []\n",
    "\n",
    "\n",
    "def plot_diagram(digit_acc_now, val_digit_acc_now, loss_now, val_loss_now):\n",
    "    global digit_acc, val_digit_acc, loss, val_loss\n",
    "    \n",
    "    \n",
    "    for i in range(NUM_OF_LETTERS):\n",
    "        digit_acc[i].extend(digit_acc_now[i])\n",
    "        val_digit_acc[i].extend(val_digit_acc_now[i])\n",
    "    loss.extend(loss_now)\n",
    "    val_loss.extend(val_loss_now)\n",
    "    \n",
    "    for i in range(NUM_OF_LETTERS):\n",
    "        s = {0:'First', 1:'Second', 2:'Third', 3:'Fourth', 4:'Fifth'}[i]\n",
    "        # plt.plot(val_digit_acc[i], label='%s Digit Train' % s)\n",
    "        plt.plot(digit_acc[i], label='%s Digit Test' % s)\n",
    "\n",
    "    plt.title('Model accuracy')\n",
    "    plt.ylabel('Accuracy')\n",
    "    plt.xlabel('Epoch')\n",
    "    plt.legend()\n",
    "    plt.show()\n",
    "\n",
    "    for i in range(NUM_OF_LETTERS):\n",
    "        s = {0:'First', 1:'Second', 2:'Third', 3:'Fourth', 4:'Fifth'}[i]\n",
    "        plt.plot(val_digit_acc[i], label='%s Digit Train' % s)\n",
    "        # plt.plot(digit_acc[i], label='%s Digit Test' % s)\n",
    "\n",
    "    plt.title('Model accuracy')\n",
    "    plt.ylabel('Accuracy')\n",
    "    plt.xlabel('Epoch')\n",
    "    plt.legend()\n",
    "    plt.show()\n",
    "\n",
    "    # Plot training & validation loss values\n",
    "    \n",
    "    plt.plot(val_loss, label='Train')\n",
    "    plt.plot(loss, label='Test')\n",
    "    plt.title('Model loss')\n",
    "    plt.ylabel('Loss')\n",
    "    plt.xlabel('Epoch')\n",
    "    plt.legend()\n",
    "    plt.show()"
   ]
  },
  {
   "cell_type": "code",
   "execution_count": 20,
   "id": "8675d113",
   "metadata": {
    "scrolled": false
   },
   "outputs": [
    {
     "data": {
      "image/png": "[encoded data removed]",
      "text/plain": [
       "<Figure size 432x288 with 1 Axes>"
      ]
     },
     "metadata": {
      "needs_background": "light"
     },
     "output_type": "display_data"
    },
    {
     "data": {
      "image/png": "[encoded data removed]",
      "text/plain": [
       "<Figure size 432x288 with 1 Axes>"
      ]
     },
     "metadata": {
      "needs_background": "light"
     },
     "output_type": "display_data"
    },
    {
     "data": {
      "image/png": "[encoded data removed]",
      "text/plain": [
       "<Figure size 432x288 with 1 Axes>"
      ]
     },
     "metadata": {
      "needs_background": "light"
     },
     "output_type": "display_data"
    }
   ],
   "source": [
    "plot_diagram(\n",
    "    \n",
    "    [history.history['digit%d_accuracy' % i] for i in range(NUM_OF_LETTERS)],\n",
    "    [history.history['val_digit%d_accuracy' % i] for i in range(NUM_OF_LETTERS)],\n",
    "    history.history['loss'],\n",
    "    history.history['val_loss'],\n",
    ")"
   ]
  },
  {
   "cell_type": "code",
   "execution_count": 24,
   "id": "eb972380",
   "metadata": {},
   "outputs": [],
   "source": [
    "\n"
   ]
  },
  {
   "cell_type": "code",
   "execution_count": 25,
   "id": "695fa497",
   "metadata": {},
   "outputs": [
    {
     "name": "stdout",
     "output_type": "stream",
     "text": [
      "Saved trained model at /Users/xiao/Documents/GitHub/TextCaptchaPR/Captcha/saved_models \n"
     ]
    }
   ],
   "source": [
    "save_dir = os.path.join(PATH, 'saved_models')\n",
    "SaveModel(model, save_dir, model_name)"
   ]
  },
  {
   "cell_type": "code",
   "execution_count": 26,
   "id": "dcfc8862",
   "metadata": {},
   "outputs": [
    {
     "name": "stdout",
     "output_type": "stream",
     "text": [
      "2819/2819 [==============================] - 80s 29ms/step - loss: 17.7274 - digit0_loss: 3.5457 - digit1_loss: 3.5443 - digit2_loss: 3.5442 - digit3_loss: 3.5471 - digit4_loss: 3.5462 - digit0_accuracy: 0.0339 - digit1_accuracy: 0.0333 - digit2_accuracy: 0.0328 - digit3_accuracy: 0.0328 - digit4_accuracy: 0.0338\n",
      "Train loss:     6.381739\n",
      "Train accuracy: 0.00\n"
     ]
    }
   ],
   "source": [
    "# Score trained model.\n",
    "scores = model.evaluate(x_train, s_train, verbose=1)\n",
    "print('Train loss:     %f' % np.mean(scores[0:5]))\n",
    "acc = 1.\n",
    "for i in range(5):\n",
    "    acc *= scores[6+i]\n",
    "print('Train accuracy: %.2f' % (acc * 100.))\n"
   ]
  },
  {
   "cell_type": "code",
   "execution_count": 27,
   "id": "e054d528",
   "metadata": {},
   "outputs": [
    {
     "name": "stdout",
     "output_type": "stream",
     "text": [
      "307/307 [==============================] - 9s 30ms/step - loss: 17.7346 - digit0_loss: 3.5458 - digit1_loss: 3.5465 - digit2_loss: 3.5510 - digit3_loss: 3.5453 - digit4_loss: 3.5460 - digit0_accuracy: 0.0329 - digit1_accuracy: 0.0334 - digit2_accuracy: 0.0324 - digit3_accuracy: 0.0338 - digit4_accuracy: 0.0331\n",
      "Test loss:     6.384643\n",
      "Test accuracy: 0.00\n"
     ]
    }
   ],
   "source": [
    "scores = model.evaluate(x_test, s_test, verbose=1)\n",
    "print('Test loss:     %f' % np.mean(scores[0:5]))\n",
    "acc = 1.\n",
    "for i in range(5):\n",
    "    acc *= scores[6+i]\n",
    "print('Test accuracy: %.2f' % (acc * 100.))"
   ]
  },
  {
   "cell_type": "code",
   "execution_count": 29,
   "id": "e0a6dee7",
   "metadata": {},
   "outputs": [
    {
     "name": "stdout",
     "output_type": "stream",
     "text": [
      "Model: \"model_10\"\n",
      "__________________________________________________________________________________________________\n",
      "Layer (type)                    Output Shape         Param #     Connected to                     \n",
      "==================================================================================================\n",
      "input_12 (InputLayer)           [(None, 25, 67, 1)]  0                                            \n",
      "__________________________________________________________________________________________________\n",
      "conv2d_27 (Conv2D)              (None, 25, 67, 32)   832         input_12[0][0]                   \n",
      "__________________________________________________________________________________________________\n",
      "max_pooling2d_18 (MaxPooling2D) (None, 12, 33, 32)   0           conv2d_27[0][0]                  \n",
      "__________________________________________________________________________________________________\n",
      "conv2d_28 (Conv2D)              (None, 12, 33, 48)   38448       max_pooling2d_18[0][0]           \n",
      "__________________________________________________________________________________________________\n",
      "max_pooling2d_19 (MaxPooling2D) (None, 6, 16, 48)    0           conv2d_28[0][0]                  \n",
      "__________________________________________________________________________________________________\n",
      "conv2d_29 (Conv2D)              (None, 6, 16, 64)    76864       max_pooling2d_19[0][0]           \n",
      "__________________________________________________________________________________________________\n",
      "max_pooling2d_20 (MaxPooling2D) (None, 3, 8, 64)     0           conv2d_29[0][0]                  \n",
      "__________________________________________________________________________________________________\n",
      "dropout_12 (Dropout)            (None, 3, 8, 64)     0           max_pooling2d_20[0][0]           \n",
      "__________________________________________________________________________________________________\n",
      "flatten_10 (Flatten)            (None, 1536)         0           dropout_12[0][0]                 \n",
      "__________________________________________________________________________________________________\n",
      "dense_14 (Dense)                (None, 512)          786944      flatten_10[0][0]                 \n",
      "__________________________________________________________________________________________________\n",
      "dropout_13 (Dropout)            (None, 512)          0           dense_14[0][0]                   \n",
      "__________________________________________________________________________________________________\n",
      "digit0 (Dense)                  (None, 36)           18468       dropout_13[0][0]                 \n",
      "__________________________________________________________________________________________________\n",
      "digit1 (Dense)                  (None, 36)           18468       dropout_13[0][0]                 \n",
      "__________________________________________________________________________________________________\n",
      "digit2 (Dense)                  (None, 36)           18468       dropout_13[0][0]                 \n",
      "__________________________________________________________________________________________________\n",
      "digit3 (Dense)                  (None, 36)           18468       dropout_13[0][0]                 \n",
      "__________________________________________________________________________________________________\n",
      "digit4 (Dense)                  (None, 36)           18468       dropout_13[0][0]                 \n",
      "==================================================================================================\n",
      "Total params: 995,428\n",
      "Trainable params: 995,428\n",
      "Non-trainable params: 0\n",
      "__________________________________________________________________________________________________\n"
     ]
    }
   ],
   "source": [
    "model1=load_model(\"saved_models/keras_Cifar10_trained_model.h5\")\n",
    "model1.summary()"
   ]
  },
  {
   "cell_type": "code",
   "execution_count": 32,
   "id": "447e7a3e",
   "metadata": {
    "scrolled": true
   },
   "outputs": [
    {
     "name": "stdout",
     "output_type": "stream",
     "text": [
      "\r",
      "   1/2819 [..............................] - ETA: 3:52:23 - loss: 1.6732 - digit0_loss: 0.3628 - digit1_loss: 0.5267 - digit2_loss: 0.2637 - digit3_loss: 0.3848 - digit4_loss: 0.1351 - digit0_accuracy: 0.8125 - digit1_accuracy: 0.8438 - digit2_accuracy: 0.9688 - digit3_accuracy: 0.8750 - digit4_accuracy: 0.9688"
     ]
    },
    {
     "name": "stderr",
     "output_type": "stream",
     "text": [
      "2021-12-24 15:24:50.709161: I tensorflow/core/grappler/optimizers/custom_graph_optimizer_registry.cc:112] Plugin optimizer for device_type GPU is enabled.\n"
     ]
    },
    {
     "name": "stdout",
     "output_type": "stream",
     "text": [
      "2819/2819 [==============================] - 58s 19ms/step - loss: 2.2160 - digit0_loss: 0.2944 - digit1_loss: 0.5364 - digit2_loss: 0.5766 - digit3_loss: 0.5227 - digit4_loss: 0.2858 - digit0_accuracy: 0.9069 - digit1_accuracy: 0.8444 - digit2_accuracy: 0.8394 - digit3_accuracy: 0.8457 - digit4_accuracy: 0.9104\n",
      "Train loss:     0.829222\n",
      "Train accuracy: 49.48\n",
      "307/307 [==============================] - 6s 19ms/step - loss: 2.2465 - digit0_loss: 0.2994 - digit1_loss: 0.5354 - digit2_loss: 0.5808 - digit3_loss: 0.5274 - digit4_loss: 0.3035 - digit0_accuracy: 0.9052 - digit1_accuracy: 0.8495 - digit2_accuracy: 0.8370 - digit3_accuracy: 0.8492 - digit4_accuracy: 0.9022\n",
      "Test loss:     0.837923\n",
      "Test accuracy: 49.31\n"
     ]
    }
   ],
   "source": [
    "# Score trained model.\n",
    "scores = model1.evaluate(x_train, s_train, verbose=1)\n",
    "print('Train loss:     %f' % np.mean(scores[0:5]))\n",
    "acc = 1.\n",
    "for i in range(5):\n",
    "    acc *= scores[6+i]\n",
    "print('Train accuracy: %.2f' % (acc * 100.))\n",
    "\n",
    "scores = model1.evaluate(x_test, s_test, verbose=1)\n",
    "print('Test loss:     %f' % np.mean(scores[0:5]))\n",
    "acc = 1.\n",
    "for i in range(5):\n",
    "    acc *= scores[6+i]\n",
    "print('Test accuracy: %.2f' % (acc * 100.))"
   ]
  },
  {
   "cell_type": "code",
   "execution_count": 30,
   "id": "4f547884",
   "metadata": {
    "scrolled": true
   },
   "outputs": [
    {
     "name": "stdout",
     "output_type": "stream",
     "text": [
      "Model: \"model_4\"\n",
      "__________________________________________________________________________________________________\n",
      "Layer (type)                    Output Shape         Param #     Connected to                     \n",
      "==================================================================================================\n",
      "input_6 (InputLayer)            [(None, 25, 67, 1)]  0                                            \n",
      "__________________________________________________________________________________________________\n",
      "conv2d_12 (Conv2D)              (None, 21, 63, 6)    156         input_6[0][0]                    \n",
      "__________________________________________________________________________________________________\n",
      "average_pooling2d_2 (AveragePoo (None, 10, 31, 6)    0           conv2d_12[0][0]                  \n",
      "__________________________________________________________________________________________________\n",
      "conv2d_13 (Conv2D)              (None, 6, 27, 16)    2416        average_pooling2d_2[0][0]        \n",
      "__________________________________________________________________________________________________\n",
      "average_pooling2d_3 (AveragePoo (None, 3, 13, 16)    0           conv2d_13[0][0]                  \n",
      "__________________________________________________________________________________________________\n",
      "flatten_4 (Flatten)             (None, 624)          0           average_pooling2d_3[0][0]        \n",
      "__________________________________________________________________________________________________\n",
      "dense_5 (Dense)                 (None, 120)          75000       flatten_4[0][0]                  \n",
      "__________________________________________________________________________________________________\n",
      "dense_6 (Dense)                 (None, 84)           10164       dense_5[0][0]                    \n",
      "__________________________________________________________________________________________________\n",
      "digit0 (Dense)                  (None, 36)           3060        dense_6[0][0]                    \n",
      "__________________________________________________________________________________________________\n",
      "digit1 (Dense)                  (None, 36)           3060        dense_6[0][0]                    \n",
      "__________________________________________________________________________________________________\n",
      "digit2 (Dense)                  (None, 36)           3060        dense_6[0][0]                    \n",
      "__________________________________________________________________________________________________\n",
      "digit3 (Dense)                  (None, 36)           3060        dense_6[0][0]                    \n",
      "__________________________________________________________________________________________________\n",
      "digit4 (Dense)                  (None, 36)           3060        dense_6[0][0]                    \n",
      "==================================================================================================\n",
      "Total params: 103,036\n",
      "Trainable params: 103,036\n",
      "Non-trainable params: 0\n",
      "__________________________________________________________________________________________________\n"
     ]
    }
   ],
   "source": [
    "model2=load_model(\"saved_models/keras_LeNet_trained_model.h5\")\n",
    "model2.summary()"
   ]
  },
  {
   "cell_type": "code",
   "execution_count": 33,
   "id": "07c8563e",
   "metadata": {},
   "outputs": [
    {
     "name": "stdout",
     "output_type": "stream",
     "text": [
      "\r",
      "   1/2819 [..............................] - ETA: 19:33 - loss: 9.6178 - digit0_loss: 1.6808 - digit1_loss: 2.2526 - digit2_loss: 2.2413 - digit3_loss: 1.5699 - digit4_loss: 1.8732 - digit0_accuracy: 0.5000 - digit1_accuracy: 0.3125 - digit2_accuracy: 0.4375 - digit3_accuracy: 0.5000 - digit4_accuracy: 0.4688"
     ]
    },
    {
     "name": "stderr",
     "output_type": "stream",
     "text": [
      "2021-12-24 15:26:32.004546: I tensorflow/core/grappler/optimizers/custom_graph_optimizer_registry.cc:112] Plugin optimizer for device_type GPU is enabled.\n"
     ]
    },
    {
     "name": "stdout",
     "output_type": "stream",
     "text": [
      "2819/2819 [==============================] - 52s 18ms/step - loss: 9.7929 - digit0_loss: 1.5981 - digit1_loss: 2.2108 - digit2_loss: 2.1834 - digit3_loss: 2.0816 - digit4_loss: 1.7189 - digit0_accuracy: 0.5127 - digit1_accuracy: 0.3520 - digit2_accuracy: 0.3634 - digit3_accuracy: 0.3880 - digit4_accuracy: 0.4860\n",
      "Train loss:     3.573365\n",
      "Train accuracy: 1.24\n",
      "307/307 [==============================] - 6s 18ms/step - loss: 9.8179 - digit0_loss: 1.5980 - digit1_loss: 2.2174 - digit2_loss: 2.1961 - digit3_loss: 2.0552 - digit4_loss: 1.7512 - digit0_accuracy: 0.5165 - digit1_accuracy: 0.3517 - digit2_accuracy: 0.3603 - digit3_accuracy: 0.4006 - digit4_accuracy: 0.4808\n",
      "Test loss:     3.576925\n",
      "Test accuracy: 1.26\n"
     ]
    }
   ],
   "source": [
    "# Score trained model.\n",
    "scores = model2.evaluate(x_train, s_train, verbose=1)\n",
    "print('Train loss:     %f' % np.mean(scores[0:5]))\n",
    "acc = 1.\n",
    "for i in range(5):\n",
    "    acc *= scores[6+i]\n",
    "print('Train accuracy: %.2f' % (acc * 100.))\n",
    "\n",
    "scores = model2.evaluate(x_test, s_test, verbose=1)\n",
    "print('Test loss:     %f' % np.mean(scores[0:5]))\n",
    "acc = 1.\n",
    "for i in range(5):\n",
    "    acc *= scores[6+i]\n",
    "print('Test accuracy: %.2f' % (acc * 100.))"
   ]
  },
  {
   "cell_type": "code",
   "execution_count": null,
   "id": "ebd0c8ee",
   "metadata": {},
   "outputs": [],
   "source": []
  }
 ],
 "metadata": {
  "kernelspec": {
   "display_name": "Python 3.9 (tensorflow)",
   "language": "python",
   "name": "tensorflow"
  },
  "language_info": {
   "codemirror_mode": {
    "name": "ipython",
    "version": 3
   },
   "file_extension": ".py",
   "mimetype": "text/x-python",
   "name": "python",
   "nbconvert_exporter": "python",
   "pygments_lexer": "ipython3",
   "version": "3.9.7"
  }
 },
 "nbformat": 4,
 "nbformat_minor": 5
}
