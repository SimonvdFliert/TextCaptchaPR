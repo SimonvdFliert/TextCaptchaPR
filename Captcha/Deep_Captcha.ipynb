{
 "cells": [
  {
   "cell_type": "code",
   "execution_count": 1,
   "id": "39deba17",
   "metadata": {},
   "outputs": [],
   "source": [
    "import tensorflow as tf\n",
    "import argparse\n",
    "import json\n",
    "import string\n",
    "import os\n",
    "import shutil\n",
    "import uuid\n",
    "from captcha.image import ImageCaptcha\n",
    "import itertools\n",
    "import os\n",
    "import cv2\n",
    "import numpy as np\n",
    "from random import random, randint, choices\n",
    "from tensorflow import keras\n",
    "from tensorflow.keras.models import Sequential, Model\n",
    "from tensorflow.keras.layers import Dense, Dropout, Activation, Flatten\n",
    "from tensorflow.keras.layers import Conv2D, MaxPooling2D, Input, AveragePooling2D, BatchNormalization\n",
    "import matplotlib.pyplot as plt\n",
    "from keras.models import load_model\n"
   ]
  },
  {
   "cell_type": "code",
   "execution_count": 2,
   "id": "7d0926bd",
   "metadata": {},
   "outputs": [],
   "source": [
    "# generated CAPTCHAs using Python ImageCaptcha Library\n",
    "alphabet_all = list('abcdefghijklmnopqrstuvwxyzABCDEFGHIJKLMNOPQRSTUVWXYZ0123456789')\n",
    "#alphabet_all = list('qwertyupasdfghjkzxcvbnmo23456789QWERTYUPKJHGFDSAZXCVBNM')\n",
    "alphabet = list('abcdefghijklmnopqrstuvwxyzABCDEFGHIJKLMNOPQRSTUVWXYZ0123456789')\n",
    "num_alphabet = len(alphabet)\n",
    "\n",
    "def _gen_captcha(img_dir, num_of_letters, num_of_repetition, width, height):\n",
    "    if os.path.exists(img_dir):\n",
    "        shutil.rmtree(img_dir)\n",
    "    if not os.path.exists(img_dir):\n",
    "        os.makedirs(img_dir)\n",
    "        \n",
    "    image = ImageCaptcha(width=width, height=height)\n",
    "\n",
    "    for counter in range(num_of_repetition):\n",
    "        i = choices(alphabet_all, k=5)\n",
    "        captcha = ''.join(i)\n",
    "        fn = os.path.join(img_dir, '%s_%s.png' % (captcha, uuid.uuid4()))\n",
    "        image.write(captcha, fn)\n",
    "\n",
    "def gen_dataset(path, num_of_repetition, num_of_letters, width, height):\n",
    "    _gen_captcha(os.path.join(path, 'data'), num_of_letters, num_of_repetition, width, height)\n",
    "    print('Finished Data Generation')"
   ]
  },
  {
   "cell_type": "code",
   "execution_count": 3,
   "id": "3af220ff",
   "metadata": {},
   "outputs": [],
   "source": [
    "BATCH_SIZE = 128\n",
    "NUM_OF_LETTERS = 5\n",
    "EPOCHS = 50\n",
    "IMG_ROW, IMG_COLS = 50, 135\n",
    "# Non-configs\n",
    "PATH = os.getcwd() # get current path\n",
    "DATA_PATH = os.path.join(PATH, 'train')# create new folder for data"
   ]
  },
  {
   "cell_type": "code",
   "execution_count": 4,
   "id": "352891ec",
   "metadata": {},
   "outputs": [
    {
     "name": "stdout",
     "output_type": "stream",
     "text": [
      "c:\\Users\\Simon\\Desktop\\Code\\TextCaptchaPR\\Captcha\n"
     ]
    }
   ],
   "source": [
    "print(PATH)"
   ]
  },
  {
   "cell_type": "code",
   "execution_count": 5,
   "id": "8d4d048b",
   "metadata": {},
   "outputs": [],
   "source": [
    "# Save model and weights\n",
    "def SaveModel(model, save_dir, model_name):\n",
    "    if not os.path.isdir(save_dir):\n",
    "        os.makedirs(save_dir)\n",
    "    model_path = os.path.join(save_dir, model_name)\n",
    "    model.save(model_path)\n",
    "    print('Saved trained model at %s ' % save_dir)"
   ]
  },
  {
   "cell_type": "code",
   "execution_count": 6,
   "id": "4221c902",
   "metadata": {},
   "outputs": [],
   "source": [
    "#pre-processing\n",
    "def load_data(path, test_split=0.1):\n",
    "    print ('loading dataset...')\n",
    "    y_train = []\n",
    "    y_test = []\n",
    "    x_train = []\n",
    "    x_test = []\n",
    "\n",
    "    # r=root, d=directories, f = files\n",
    "    counter = 0\n",
    "    for r, d, f in os.walk(path):\n",
    "        for fl in f:\n",
    "            if '.png' in fl:\n",
    "                flr = fl.split('_')[0]\n",
    "                counter += 1\n",
    "                label = np.zeros((NUM_OF_LETTERS, num_alphabet))\n",
    "                for i in range(NUM_OF_LETTERS):\n",
    "                    label[i, alphabet.index(flr[i].lower())] = 1\n",
    "#                 label = np.zeros((50, 1))\n",
    "#                 for i in range(5):\n",
    "#                     label[i*5+int(flr[i])] = 1\n",
    "                img = cv2.imread(os.path.join(r, fl))\n",
    "                img = cv2.cvtColor(img, cv2.COLOR_BGR2GRAY)\n",
    "                img = cv2.resize(img, (int(135/2), int(50/2)), interpolation=cv2.INTER_AREA)\n",
    "                img = np.reshape(img, (img.shape[0], img.shape[1], 1))\n",
    "\n",
    "                if random() < test_split:\n",
    "                    y_test.append(label)\n",
    "                    x_test.append(img)\n",
    "                else:\n",
    "                    y_train.append(label)\n",
    "                    x_train.append(img)\n",
    "\n",
    "    print('dataset size:', counter, '(train=%d, test=%d)' % (len(y_train), len(y_test)))\n",
    "    return np.array(x_train), np.array(y_train), np.array(x_test), np.array(y_test)"
   ]
  },
  {
   "cell_type": "code",
   "execution_count": 7,
   "id": "f6ef0694",
   "metadata": {},
   "outputs": [],
   "source": [
    "if not os.path.exists(DATA_PATH):\n",
    "    print('Generating Dataset')\n",
    "    gen_dataset(DATA_PATH, 50*1000 , NUM_OF_LETTERS, IMG_COLS, IMG_ROW)"
   ]
  },
  {
   "cell_type": "markdown",
   "id": "5d331170",
   "metadata": {},
   "source": [
    "# Frequency check\n",
    "\n",
    "\n",
    "The frequency of alphanumer characters was tested here. The code for these tests and its output is shown in DataExploration.ipynb."
   ]
  },
  {
   "cell_type": "markdown",
   "id": "ae2408f3",
   "metadata": {},
   "source": [
    "# Continuing with Model creation"
   ]
  },
  {
   "cell_type": "code",
   "execution_count": 8,
   "id": "f8a54f23",
   "metadata": {},
   "outputs": [
    {
     "name": "stdout",
     "output_type": "stream",
     "text": [
      "loading dataset...\n",
      "dataset size: 50000 (train=44942, test=5058)\n"
     ]
    }
   ],
   "source": [
    "x_train, y_train, x_test, y_test = load_data(DATA_PATH)\n",
    "\n",
    "x_train = x_train.astype('float32')\n",
    "x_test = x_test.astype('float32')\n",
    "x_train /= 255\n",
    "x_test /= 255"
   ]
  },
  {
   "cell_type": "code",
   "execution_count": 9,
   "id": "59551eb5",
   "metadata": {},
   "outputs": [
    {
     "name": "stdout",
     "output_type": "stream",
     "text": [
      "(44942, 25, 67, 1)\n",
      "(44942, 5, 62)\n",
      "(5058, 25, 67, 1)\n",
      "(5058, 5, 62)\n"
     ]
    }
   ],
   "source": [
    "print(x_train.shape)\n",
    "print(y_train.shape)\n",
    "print(x_test.shape)\n",
    "print(y_test.shape)"
   ]
  },
  {
   "cell_type": "code",
   "execution_count": 10,
   "id": "1e7ee564",
   "metadata": {},
   "outputs": [],
   "source": [
    "s_train = []\n",
    "s_test = []\n",
    "for i in range(NUM_OF_LETTERS):\n",
    "    s_train.append(y_train[:, i, :])\n",
    "    s_test.append(y_test[:, i, :])"
   ]
  },
  {
   "cell_type": "code",
   "execution_count": 11,
   "id": "2a0ab963",
   "metadata": {},
   "outputs": [],
   "source": [
    "save_dir = os.path.join(PATH, 'saved_models')\n",
    "model_name = ''"
   ]
  },
  {
   "cell_type": "code",
   "execution_count": 12,
   "id": "ab3cdda9",
   "metadata": {},
   "outputs": [],
   "source": [
    "def ModelVGG19(input_shape):\n",
    "    input_layer = Input(input_shape)\n",
    "    x = Conv2D(filters=64, kernel_size=(3, 3), padding='same', activation='relu')(input_layer)\n",
    "    x = Conv2D(filters=64, kernel_size=(3, 3), padding='same', activation='relu')(x)  \n",
    "    x = MaxPooling2D(pool_size=(2, 2), strides=(2,2), padding='same')(x) #strides= (2,2)\n",
    "    \n",
    "    x = Conv2D(filters=128, kernel_size=(3, 3), padding='same', activation='relu')(x)\n",
    "    x = Conv2D(filters=128, kernel_size=(3, 3), padding='same', activation='relu')(x)\n",
    "    x = MaxPooling2D(pool_size=(2, 2), strides=(2,2), padding='same')(x) #strides= (2,2)\n",
    "\n",
    "    x = Conv2D(filters=256, kernel_size=(3, 3), padding='same', activation='relu')(x)\n",
    "    x = Conv2D(filters=256, kernel_size=(3, 3), padding='same', activation='relu')(x)\n",
    "    x = Conv2D(filters=256, kernel_size=(3, 3), padding='same', activation='relu')(x)\n",
    "    x = Conv2D(filters=256, kernel_size=(3, 3), padding='same', activation='relu')(x)\n",
    "    x = MaxPooling2D(pool_size=(2, 2), strides=(2,2), padding='same')(x) #strides= (2,2)\n",
    "\n",
    "    x = Conv2D(filters=512, kernel_size=(3, 3), padding='same', activation='relu')(x)\n",
    "    x = Conv2D(filters=512, kernel_size=(3, 3), padding='same', activation='relu')(x)\n",
    "    x = Conv2D(filters=512, kernel_size=(3, 3), padding='same', activation='relu')(x)\n",
    "    x = Conv2D(filters=512, kernel_size=(3, 3), padding='same', activation='relu')(x)\n",
    "    x = MaxPooling2D(pool_size=(2, 2), strides=(2,2), padding='same')(x) #strides= (2,2)\n",
    "\n",
    "    x = Conv2D(filters=512, kernel_size=(3, 3), padding='same', activation='relu')(x)\n",
    "    x = Conv2D(filters=512, kernel_size=(3, 3), padding='same', activation='relu')(x)\n",
    "    x = Conv2D(filters=512, kernel_size=(3, 3), padding='same', activation='relu')(x)\n",
    "    x = Conv2D(filters=512, kernel_size=(3, 3), padding='same', activation='relu')(x)\n",
    "    x = MaxPooling2D(pool_size=(2, 2), strides=(2,2), padding='same')(x) #strides= (2,2)\n",
    "\n",
    "      \n",
    "    x = Flatten()(x)\n",
    "    x = Dense(4096, activation='relu')(x)\n",
    "    x = Dropout(0.5)(x)\n",
    "    x = Dense(4096, activation='relu')(x)\n",
    "    x = Dropout(0.5)(x)\n",
    "    \n",
    "    out = [Dense(num_alphabet, name='digit%d' % i, activation='softmax')(x) for i in range(NUM_OF_LETTERS)]\n",
    "    # out = Dense(num_alphabet*5, activation='sigmoid')(x)\n",
    "\n",
    "    model = Model(inputs=input_layer, outputs=out)\n",
    "    model.compile(loss='categorical_crossentropy', optimizer='adam', metrics=['accuracy'])\n",
    "    model_name = 'keras_VGG19_trained_model.h5'\n",
    "\n",
    "    return model\n"
   ]
  },
  {
   "cell_type": "code",
   "execution_count": 13,
   "id": "e42e36c5",
   "metadata": {},
   "outputs": [],
   "source": [
    "#architecture\n",
    "def ModelCifar10(input_shape):\n",
    "    input_layer = Input(input_shape)\n",
    "\n",
    "    x = Conv2D(filters=32, kernel_size=(5, 5), padding='same', activation='relu')(input_layer)\n",
    "    x = MaxPooling2D(pool_size=(2, 2))(x)\n",
    "\n",
    "    x = Conv2D(filters=48, kernel_size=(5, 5), padding='same', activation='relu')(x)\n",
    "    x = MaxPooling2D(pool_size=(2, 2))(x)\n",
    "\n",
    "    x = Conv2D(filters=64, kernel_size=(5, 5), padding='same', activation='relu')(x)\n",
    "    x = MaxPooling2D(pool_size=(2, 2))(x)\n",
    "\n",
    "    x = Dropout(0.3)(x)\n",
    "    x = Flatten()(x)\n",
    "    x = Dense(512, activation='relu')(x)\n",
    "    x = Dropout(0.3)(x)\n",
    "\n",
    "    out = [Dense(num_alphabet, name='digit%d' % i, activation='softmax')(x) for i in range(NUM_OF_LETTERS)]\n",
    "    # out = Dense(num_alphabet*5, activation='sigmoid')(x)\n",
    "\n",
    "    model = Model(inputs=input_layer, outputs=out)\n",
    "    model.compile(loss='categorical_crossentropy', optimizer='adam', metrics=['accuracy'])\n",
    "    model_name = 'keras_Cifar10_trained_model.h5'\n",
    "    return model\n",
    "\n",
    "\n",
    "    "
   ]
  },
  {
   "cell_type": "code",
   "execution_count": 14,
   "id": "91c3a587",
   "metadata": {},
   "outputs": [],
   "source": [
    "#LeNet-5 architecture\n",
    "def ModelLeNet(input_shape):\n",
    "    input_layer = Input(input_shape)\n",
    "\n",
    "    x = Conv2D(filters=6, kernel_size=(5, 5), activation='tanh')(input_layer)\n",
    "    x = AveragePooling2D(pool_size=(2, 2),strides=(2, 2))(x)\n",
    "\n",
    "    x = Conv2D(filters=16, kernel_size=(5, 5), padding='valid', activation='tanh')(x)\n",
    "    x = AveragePooling2D(pool_size=(2, 2),strides=(2, 2))(x)\n",
    "\n",
    "    x = Flatten()(x)\n",
    "    x = Dense(120, activation='tanh')(x)\n",
    "    x = Dense(84, activation='tanh')(x)\n",
    "\n",
    "    out = [Dense(num_alphabet, name='digit%d' % i, activation='softmax')(x) for i in range(NUM_OF_LETTERS)]\n",
    "    \n",
    "    model = Model(inputs=input_layer, outputs=out)\n",
    "    model.compile(loss='categorical_crossentropy',\n",
    "                  optimizer='adam',\n",
    "                  metrics=['accuracy'])\n",
    "    model_name = 'keras_LeNet_trained_model.h5'\n",
    "    return model\n",
    "\n",
    "\n"
   ]
  },
  {
   "cell_type": "code",
   "execution_count": 15,
   "id": "a72a36f7",
   "metadata": {},
   "outputs": [],
   "source": [
    "#Wang et al. DenseNet model DFCR ------ https://www.aimspress.com/article/doi/10.3934/mbe.2019292?viewType=HTML || CAPTCHA recognition based on deep convolutional neural network\n",
    "\n",
    "def modelDFCR(input_shape):\n",
    "    \"\"\"\n",
    "    Architecture DFCR in paper is set up as follows:\n",
    "    1. Original Captcha images with a size of 224x224 are convoluted and pooled to output the cropped Captcha images with a size of 56x56\n",
    "    2. Then 4 dense blocks are concatenated in turn, with a transition block inbetween each dense block\n",
    "\n",
    "    A dense block consists of a bottleneck layer, non-linear ReLU, a conv(1x1), a second bottleneck layer, non-linear ReLu and conv(3x3)\n",
    "    A transition layer consists of a bottleneck layer, conv(1x1) and averagePool(2x2)\n",
    "    \n",
    "    \"\"\"\n",
    "    \n",
    "    input_layer = Input(input_shape)\n",
    "    #first step\n",
    "    x = Conv2D(filters=6, kernel_size=(5, 5), activation='tanh', strides=2)(input_layer)\n",
    "    x = MaxPooling2D(pool_size=(3, 3),strides=(2, 2))(x)\n",
    "\n",
    "    #first dense block\n",
    "    # x = bottleneck layer\n",
    "    \n",
    "\n",
    "\n",
    "    #first transition layer\n",
    "    #???\n"
   ]
  },
  {
   "cell_type": "code",
   "execution_count": 16,
   "id": "6df6e5aa",
   "metadata": {},
   "outputs": [],
   "source": [
    "# Zhong Wang CAPTCHA Recognition Method Based on CNN with Focal Loss || https://downloads.hindawi.com/journals/complexity/2021/6641329.pdf\n",
    "\n",
    "def Model_WangComplex(input_shape):\n",
    "    \"\"\"\"\n",
    "    input - conv1 - PreLu - Pool_1 - Conv2- PreLu2 - Pool_2 - Conv_3 - PReLU_3 - Pool_3 - Fc_1 - Cls_prob - loss function - Bbox_pred - loss function\n",
    "    \n",
    "    \"\"\"\n",
    "    # input layer\n",
    "    input_layer = Input(input_shape)\n",
    "\n",
    "    # Conv_1\n",
    "    x = Conv2D(filters=32, kernel_size=(3, 3), padding='same', activation='relu')(input_layer)\n",
    "    x = BatchNormalization()(x)\n",
    "    \n",
    "    #Conv_2\n",
    "    x = Conv2D(filters=32, kernel_size=(3, 3), padding='same', activation='relu')(x)\n",
    "    x = BatchNormalization()(x)\n",
    "    \n",
    "    #Pooling P3\n",
    "    x = MaxPooling2D(pool_size=(2, 2))(x)\n",
    "\n",
    "    #Conv_4\n",
    "    x = Conv2D(filters=64, kernel_size=(3, 3), padding='same', activation='relu')(x)\n",
    "    x = BatchNormalization()(x)\n",
    "\n",
    "    #Conv_5\n",
    "    x = Conv2D(filters=64, kernel_size=(3, 3), padding='same', activation='relu')(x)\n",
    "    x = BatchNormalization()(x)\n",
    "    \n",
    "    #Pooling P6\n",
    "    x = MaxPooling2D(pool_size=(2, 2))(x)\n",
    "\n",
    "    #Conv_7\n",
    "    x = Conv2D(filters=128, kernel_size=(3, 3), padding='same', activation='relu')(x)\n",
    "    x = BatchNormalization()(x)\n",
    "\n",
    "    #Conv_8\n",
    "    x = Conv2D(filters=128, kernel_size=(3, 3), padding='same', activation='relu')(x)\n",
    "    x = BatchNormalization()(x)\n",
    "\n",
    "    #Pooling 9\n",
    "    x = MaxPooling2D(pool_size=(2, 2))(x)\n",
    "\n",
    "    #Conv_10\n",
    "    x = Conv2D(filters=128, kernel_size=(3, 3), padding='same', activation='relu')(x)\n",
    "    x = BatchNormalization()(x)\n",
    "\n",
    "    #Conv_11\n",
    "    x = Conv2D(filters=128, kernel_size=(3, 3), padding='same', activation='relu')(x)\n",
    "    x = BatchNormalization()(x)\n",
    "\n",
    "    #Poolin 12\n",
    "    x = MaxPooling2D(pool_size=(2, 2))(x)\n",
    "\n",
    "    #Flattening 13\n",
    "    x = Flatten()(x)\n",
    "\n",
    "    #Dense\n",
    "    x = Dense(120, activation='sigmoid')(x)\n",
    "\n",
    "    out = [Dense(num_alphabet, name='digit%d' % i, activation='sigmoid')(x) for i in range(NUM_OF_LETTERS)]\n",
    "    \n",
    "    model = Model(inputs=input_layer, outputs=out)\n",
    "    model.compile(loss='categorical_crossentropy',\n",
    "                  optimizer='adam',\n",
    "                  metrics=['accuracy'])\n",
    "    model_name = 'keras_trained_model_WangComplex.h5'\n",
    "    return model\n"
   ]
  },
  {
   "cell_type": "code",
   "execution_count": 17,
   "id": "9fecdb0d",
   "metadata": {},
   "outputs": [],
   "source": [
    "# model = ModelCifar10((25, 67, 1))\n",
    "# model = ModelVGG19((25, 67, 1))\n",
    "model_name = 'keras_LeNet_trained_model.h5'\n",
    "model = ModelLeNet((25, 67, 1))\n"
   ]
  },
  {
   "cell_type": "code",
   "execution_count": 31,
   "id": "44e142b5",
   "metadata": {},
   "outputs": [],
   "source": [
    "model_name = 'keras_trained_model_WangComplex.h5'\n",
    "model = Model_WangComplex((25, 67, 1))"
   ]
  },
  {
   "cell_type": "code",
   "execution_count": 32,
   "id": "14caab0a",
   "metadata": {
    "scrolled": true
   },
   "outputs": [
    {
     "name": "stdout",
     "output_type": "stream",
     "text": [
      "Model: \"model_2\"\n",
      "__________________________________________________________________________________________________\n",
      "Layer (type)                    Output Shape         Param #     Connected to                     \n",
      "==================================================================================================\n",
      "input_3 (InputLayer)            [(None, 25, 67, 1)]  0           []                               \n",
      "__________________________________________________________________________________________________\n",
      "conv2d_10 (Conv2D)              (None, 25, 67, 32)   320         ['input_3[0][0]']                \n",
      "__________________________________________________________________________________________________\n",
      "batch_normalization_8 (BatchNo  (None, 25, 67, 32)   128         ['conv2d_10[0][0]']              \n",
      "rmalization)                                                                                      \n",
      "__________________________________________________________________________________________________\n",
      "conv2d_11 (Conv2D)              (None, 25, 67, 32)   9248        ['batch_normalization_8[0][0]']  \n",
      "__________________________________________________________________________________________________\n",
      "batch_normalization_9 (BatchNo  (None, 25, 67, 32)   128         ['conv2d_11[0][0]']              \n",
      "rmalization)                                                                                      \n",
      "__________________________________________________________________________________________________\n",
      "max_pooling2d_4 (MaxPooling2D)  (None, 12, 33, 32)   0           ['batch_normalization_9[0][0]']  \n",
      "__________________________________________________________________________________________________\n",
      "conv2d_12 (Conv2D)              (None, 12, 33, 64)   18496       ['max_pooling2d_4[0][0]']        \n",
      "__________________________________________________________________________________________________\n",
      "batch_normalization_10 (BatchN  (None, 12, 33, 64)   256         ['conv2d_12[0][0]']              \n",
      "ormalization)                                                                                     \n",
      "__________________________________________________________________________________________________\n",
      "conv2d_13 (Conv2D)              (None, 12, 33, 64)   36928       ['batch_normalization_10[0][0]'] \n",
      "__________________________________________________________________________________________________\n",
      "batch_normalization_11 (BatchN  (None, 12, 33, 64)   256         ['conv2d_13[0][0]']              \n",
      "ormalization)                                                                                     \n",
      "__________________________________________________________________________________________________\n",
      "max_pooling2d_5 (MaxPooling2D)  (None, 6, 16, 64)    0           ['batch_normalization_11[0][0]'] \n",
      "__________________________________________________________________________________________________\n",
      "conv2d_14 (Conv2D)              (None, 6, 16, 128)   73856       ['max_pooling2d_5[0][0]']        \n",
      "__________________________________________________________________________________________________\n",
      "batch_normalization_12 (BatchN  (None, 6, 16, 128)   512         ['conv2d_14[0][0]']              \n",
      "ormalization)                                                                                     \n",
      "__________________________________________________________________________________________________\n",
      "conv2d_15 (Conv2D)              (None, 6, 16, 128)   147584      ['batch_normalization_12[0][0]'] \n",
      "__________________________________________________________________________________________________\n",
      "batch_normalization_13 (BatchN  (None, 6, 16, 128)   512         ['conv2d_15[0][0]']              \n",
      "ormalization)                                                                                     \n",
      "__________________________________________________________________________________________________\n",
      "max_pooling2d_6 (MaxPooling2D)  (None, 3, 8, 128)    0           ['batch_normalization_13[0][0]'] \n",
      "__________________________________________________________________________________________________\n",
      "conv2d_16 (Conv2D)              (None, 3, 8, 128)    147584      ['max_pooling2d_6[0][0]']        \n",
      "__________________________________________________________________________________________________\n",
      "batch_normalization_14 (BatchN  (None, 3, 8, 128)    512         ['conv2d_16[0][0]']              \n",
      "ormalization)                                                                                     \n",
      "__________________________________________________________________________________________________\n",
      "conv2d_17 (Conv2D)              (None, 3, 8, 128)    147584      ['batch_normalization_14[0][0]'] \n",
      "__________________________________________________________________________________________________\n",
      "batch_normalization_15 (BatchN  (None, 3, 8, 128)    512         ['conv2d_17[0][0]']              \n",
      "ormalization)                                                                                     \n",
      "__________________________________________________________________________________________________\n",
      "max_pooling2d_7 (MaxPooling2D)  (None, 1, 4, 128)    0           ['batch_normalization_15[0][0]'] \n",
      "__________________________________________________________________________________________________\n",
      "flatten_2 (Flatten)             (None, 512)          0           ['max_pooling2d_7[0][0]']        \n",
      "__________________________________________________________________________________________________\n",
      "dense_3 (Dense)                 (None, 120)          61560       ['flatten_2[0][0]']              \n",
      "__________________________________________________________________________________________________\n",
      "digit0 (Dense)                  (None, 62)           7502        ['dense_3[0][0]']                \n",
      "__________________________________________________________________________________________________\n",
      "digit1 (Dense)                  (None, 62)           7502        ['dense_3[0][0]']                \n",
      "__________________________________________________________________________________________________\n",
      "digit2 (Dense)                  (None, 62)           7502        ['dense_3[0][0]']                \n",
      "__________________________________________________________________________________________________\n",
      "digit3 (Dense)                  (None, 62)           7502        ['dense_3[0][0]']                \n",
      "__________________________________________________________________________________________________\n",
      "digit4 (Dense)                  (None, 62)           7502        ['dense_3[0][0]']                \n",
      "__________________________________________________________________________________________________\n",
      "==================================================================================================\n",
      "Total params: 683,486\n",
      "Trainable params: 682,078\n",
      "Non-trainable params: 1,408\n",
      "__________________________________________________________________________________________________\n"
     ]
    }
   ],
   "source": [
    "model.summary()"
   ]
  },
  {
   "cell_type": "code",
   "execution_count": 20,
   "id": "bb92d84d",
   "metadata": {},
   "outputs": [],
   "source": [
    "# model_path = os.path.join(save_dir, model_name)\n",
    "# model = keras.models.load_model(model_path)"
   ]
  },
  {
   "cell_type": "code",
   "execution_count": 21,
   "id": "9a95293b",
   "metadata": {},
   "outputs": [],
   "source": [
    "# # initiate Adam optimizer\n",
    "\n",
    "# model.compile(loss='categorical_crossentropy',\n",
    "#               optimizer='adam',\n",
    "#               metrics=['accuracy'])\n",
    "\n",
    "\n",
    "# model.summary() "
   ]
  },
  {
   "cell_type": "code",
   "execution_count": 33,
   "id": "40aa36d2",
   "metadata": {},
   "outputs": [],
   "source": [
    "hist_train_loss_digit = {i:[] for i in range(5)}\n",
    "hist_test_loss_digit = {i:[] for i in range(5)}\n",
    "\n",
    "hist_train_acc_digit = {i:[] for i in range(5)}\n",
    "hist_test_acc_digit = {i:[] for i in range(5)}\n",
    "\n",
    "hist_train_loss = []\n",
    "hist_test_loss = []\n",
    "\n",
    "hist_train_acc = []\n",
    "hist_test_acc = []"
   ]
  },
  {
   "cell_type": "code",
   "execution_count": 34,
   "id": "9c91024b",
   "metadata": {},
   "outputs": [],
   "source": [
    "digit_acc = [[] for _ in range(NUM_OF_LETTERS)]\n",
    "val_digit_acc = [[] for _ in range(NUM_OF_LETTERS)]\n",
    "loss = []\n",
    "val_loss = []"
   ]
  },
  {
   "cell_type": "code",
   "execution_count": 35,
   "id": "a119dc87",
   "metadata": {},
   "outputs": [
    {
     "name": "stdout",
     "output_type": "stream",
     "text": [
      "Epoch 1/50\n",
      "352/352 [==============================] - 252s 708ms/step - loss: 15.2147 - digit0_loss: 2.8791 - digit1_loss: 3.1983 - digit2_loss: 3.1961 - digit3_loss: 3.1429 - digit4_loss: 2.7983 - digit0_accuracy: 0.2826 - digit1_accuracy: 0.1709 - digit2_accuracy: 0.1672 - digit3_accuracy: 0.1903 - digit4_accuracy: 0.3034 - val_loss: 21.8911 - val_digit0_loss: 5.3620 - val_digit1_loss: 4.2935 - val_digit2_loss: 4.0487 - val_digit3_loss: 4.1750 - val_digit4_loss: 4.0120 - val_digit0_accuracy: 0.0354 - val_digit1_accuracy: 0.0285 - val_digit2_accuracy: 0.0277 - val_digit3_accuracy: 0.0289 - val_digit4_accuracy: 0.0358\n",
      "Epoch 2/50\n",
      "352/352 [==============================] - 246s 699ms/step - loss: 8.0563 - digit0_loss: 1.1846 - digit1_loss: 1.9022 - digit2_loss: 2.0003 - digit3_loss: 1.8098 - digit4_loss: 1.1594 - digit0_accuracy: 0.7946 - digit1_accuracy: 0.5861 - digit2_accuracy: 0.5398 - digit3_accuracy: 0.6087 - digit4_accuracy: 0.7962 - val_loss: 7.2181 - val_digit0_loss: 1.1262 - val_digit1_loss: 1.6456 - val_digit2_loss: 1.7595 - val_digit3_loss: 1.5786 - val_digit4_loss: 1.1082 - val_digit0_accuracy: 0.7835 - val_digit1_accuracy: 0.6103 - val_digit2_accuracy: 0.5708 - val_digit3_accuracy: 0.6374 - val_digit4_accuracy: 0.7936\n",
      "Epoch 3/50\n",
      "352/352 [==============================] - 227s 645ms/step - loss: 4.4313 - digit0_loss: 0.6484 - digit1_loss: 1.0389 - digit2_loss: 1.1289 - digit3_loss: 0.9838 - digit4_loss: 0.6314 - digit0_accuracy: 0.9117 - digit1_accuracy: 0.8102 - digit2_accuracy: 0.7784 - digit3_accuracy: 0.8249 - digit4_accuracy: 0.9157 - val_loss: 4.3303 - val_digit0_loss: 0.6851 - val_digit1_loss: 0.9403 - val_digit2_loss: 1.0785 - val_digit3_loss: 0.9681 - val_digit4_loss: 0.6583 - val_digit0_accuracy: 0.8863 - val_digit1_accuracy: 0.7936 - val_digit2_accuracy: 0.7469 - val_digit3_accuracy: 0.7934 - val_digit4_accuracy: 0.8922\n",
      "Epoch 4/50\n",
      "352/352 [==============================] - 242s 689ms/step - loss: 2.6332 - digit0_loss: 0.3923 - digit1_loss: 0.6129 - digit2_loss: 0.6632 - digit3_loss: 0.5821 - digit4_loss: 0.3827 - digit0_accuracy: 0.9573 - digit1_accuracy: 0.9063 - digit2_accuracy: 0.8910 - digit3_accuracy: 0.9126 - digit4_accuracy: 0.9588 - val_loss: 7.7106 - val_digit0_loss: 1.5389 - val_digit1_loss: 1.6544 - val_digit2_loss: 1.6273 - val_digit3_loss: 1.5891 - val_digit4_loss: 1.3009 - val_digit0_accuracy: 0.6491 - val_digit1_accuracy: 0.5832 - val_digit2_accuracy: 0.5735 - val_digit3_accuracy: 0.5975 - val_digit4_accuracy: 0.6872\n",
      "Epoch 5/50\n",
      "352/352 [==============================] - 224s 637ms/step - loss: 1.7154 - digit0_loss: 0.2630 - digit1_loss: 0.3953 - digit2_loss: 0.4249 - digit3_loss: 0.3762 - digit4_loss: 0.2561 - digit0_accuracy: 0.9703 - digit1_accuracy: 0.9451 - digit2_accuracy: 0.9367 - digit3_accuracy: 0.9476 - digit4_accuracy: 0.9712 - val_loss: 2.0045 - val_digit0_loss: 0.2814 - val_digit1_loss: 0.4676 - val_digit2_loss: 0.5185 - val_digit3_loss: 0.4342 - val_digit4_loss: 0.3027 - val_digit0_accuracy: 0.9545 - val_digit1_accuracy: 0.9093 - val_digit2_accuracy: 0.8928 - val_digit3_accuracy: 0.9087 - val_digit4_accuracy: 0.9484\n",
      "Epoch 6/50\n",
      "352/352 [==============================] - 243s 690ms/step - loss: 1.1669 - digit0_loss: 0.1831 - digit1_loss: 0.2672 - digit2_loss: 0.2828 - digit3_loss: 0.2547 - digit4_loss: 0.1791 - digit0_accuracy: 0.9788 - digit1_accuracy: 0.9635 - digit2_accuracy: 0.9598 - digit3_accuracy: 0.9656 - digit4_accuracy: 0.9792 - val_loss: 2.9036 - val_digit0_loss: 0.4829 - val_digit1_loss: 0.6494 - val_digit2_loss: 0.6809 - val_digit3_loss: 0.5816 - val_digit4_loss: 0.5088 - val_digit0_accuracy: 0.8909 - val_digit1_accuracy: 0.8369 - val_digit2_accuracy: 0.8290 - val_digit3_accuracy: 0.8586 - val_digit4_accuracy: 0.8792\n",
      "Epoch 7/50\n",
      "352/352 [==============================] - 229s 650ms/step - loss: 0.8338 - digit0_loss: 0.1336 - digit1_loss: 0.1893 - digit2_loss: 0.1996 - digit3_loss: 0.1798 - digit4_loss: 0.1314 - digit0_accuracy: 0.9850 - digit1_accuracy: 0.9745 - digit2_accuracy: 0.9730 - digit3_accuracy: 0.9766 - digit4_accuracy: 0.9842 - val_loss: 1.2958 - val_digit0_loss: 0.1860 - val_digit1_loss: 0.2957 - val_digit2_loss: 0.3298 - val_digit3_loss: 0.2966 - val_digit4_loss: 0.1878 - val_digit0_accuracy: 0.9664 - val_digit1_accuracy: 0.9377 - val_digit2_accuracy: 0.9261 - val_digit3_accuracy: 0.9340 - val_digit4_accuracy: 0.9638\n",
      "Epoch 8/50\n",
      "352/352 [==============================] - 203s 576ms/step - loss: 0.6393 - digit0_loss: 0.1028 - digit1_loss: 0.1440 - digit2_loss: 0.1529 - digit3_loss: 0.1379 - digit4_loss: 0.1017 - digit0_accuracy: 0.9886 - digit1_accuracy: 0.9809 - digit2_accuracy: 0.9801 - digit3_accuracy: 0.9811 - digit4_accuracy: 0.9884 - val_loss: 1.1090 - val_digit0_loss: 0.1551 - val_digit1_loss: 0.2454 - val_digit2_loss: 0.2987 - val_digit3_loss: 0.2590 - val_digit4_loss: 0.1509 - val_digit0_accuracy: 0.9705 - val_digit1_accuracy: 0.9433 - val_digit2_accuracy: 0.9276 - val_digit3_accuracy: 0.9429 - val_digit4_accuracy: 0.9727\n",
      "Epoch 9/50\n",
      "352/352 [==============================] - 201s 571ms/step - loss: 0.4705 - digit0_loss: 0.0775 - digit1_loss: 0.1053 - digit2_loss: 0.1115 - digit3_loss: 0.1001 - digit4_loss: 0.0762 - digit0_accuracy: 0.9918 - digit1_accuracy: 0.9875 - digit2_accuracy: 0.9870 - digit3_accuracy: 0.9887 - digit4_accuracy: 0.9915 - val_loss: 1.1679 - val_digit0_loss: 0.1521 - val_digit1_loss: 0.2658 - val_digit2_loss: 0.3107 - val_digit3_loss: 0.2711 - val_digit4_loss: 0.1683 - val_digit0_accuracy: 0.9688 - val_digit1_accuracy: 0.9361 - val_digit2_accuracy: 0.9263 - val_digit3_accuracy: 0.9375 - val_digit4_accuracy: 0.9628\n",
      "Epoch 10/50\n",
      "352/352 [==============================] - 202s 573ms/step - loss: 0.3929 - digit0_loss: 0.0636 - digit1_loss: 0.0878 - digit2_loss: 0.0918 - digit3_loss: 0.0846 - digit4_loss: 0.0651 - digit0_accuracy: 0.9934 - digit1_accuracy: 0.9894 - digit2_accuracy: 0.9898 - digit3_accuracy: 0.9896 - digit4_accuracy: 0.9919 - val_loss: 1.0196 - val_digit0_loss: 0.1435 - val_digit1_loss: 0.2474 - val_digit2_loss: 0.2717 - val_digit3_loss: 0.2251 - val_digit4_loss: 0.1319 - val_digit0_accuracy: 0.9701 - val_digit1_accuracy: 0.9395 - val_digit2_accuracy: 0.9336 - val_digit3_accuracy: 0.9450 - val_digit4_accuracy: 0.9725\n",
      "Epoch 11/50\n",
      "352/352 [==============================] - 202s 574ms/step - loss: 0.3242 - digit0_loss: 0.0543 - digit1_loss: 0.0720 - digit2_loss: 0.0760 - digit3_loss: 0.0688 - digit4_loss: 0.0531 - digit0_accuracy: 0.9940 - digit1_accuracy: 0.9924 - digit2_accuracy: 0.9913 - digit3_accuracy: 0.9923 - digit4_accuracy: 0.9937 - val_loss: 0.8627 - val_digit0_loss: 0.1211 - val_digit1_loss: 0.2031 - val_digit2_loss: 0.2302 - val_digit3_loss: 0.1970 - val_digit4_loss: 0.1112 - val_digit0_accuracy: 0.9763 - val_digit1_accuracy: 0.9522 - val_digit2_accuracy: 0.9435 - val_digit3_accuracy: 0.9537 - val_digit4_accuracy: 0.9733\n",
      "Epoch 12/50\n",
      "352/352 [==============================] - 202s 575ms/step - loss: 0.2553 - digit0_loss: 0.0436 - digit1_loss: 0.0557 - digit2_loss: 0.0602 - digit3_loss: 0.0542 - digit4_loss: 0.0416 - digit0_accuracy: 0.9949 - digit1_accuracy: 0.9941 - digit2_accuracy: 0.9935 - digit3_accuracy: 0.9941 - digit4_accuracy: 0.9955 - val_loss: 0.9143 - val_digit0_loss: 0.1102 - val_digit1_loss: 0.2233 - val_digit2_loss: 0.2517 - val_digit3_loss: 0.2055 - val_digit4_loss: 0.1237 - val_digit0_accuracy: 0.9747 - val_digit1_accuracy: 0.9476 - val_digit2_accuracy: 0.9357 - val_digit3_accuracy: 0.9472 - val_digit4_accuracy: 0.9703\n",
      "Epoch 13/50\n",
      "352/352 [==============================] - 208s 591ms/step - loss: 0.2097 - digit0_loss: 0.0352 - digit1_loss: 0.0464 - digit2_loss: 0.0489 - digit3_loss: 0.0446 - digit4_loss: 0.0346 - digit0_accuracy: 0.9964 - digit1_accuracy: 0.9953 - digit2_accuracy: 0.9953 - digit3_accuracy: 0.9954 - digit4_accuracy: 0.9966 - val_loss: 0.8068 - val_digit0_loss: 0.0930 - val_digit1_loss: 0.2028 - val_digit2_loss: 0.2354 - val_digit3_loss: 0.1830 - val_digit4_loss: 0.0927 - val_digit0_accuracy: 0.9788 - val_digit1_accuracy: 0.9496 - val_digit2_accuracy: 0.9367 - val_digit3_accuracy: 0.9557 - val_digit4_accuracy: 0.9763\n",
      "Epoch 14/50\n",
      "352/352 [==============================] - 257s 729ms/step - loss: 0.1991 - digit0_loss: 0.0327 - digit1_loss: 0.0440 - digit2_loss: 0.0463 - digit3_loss: 0.0421 - digit4_loss: 0.0340 - digit0_accuracy: 0.9964 - digit1_accuracy: 0.9950 - digit2_accuracy: 0.9950 - digit3_accuracy: 0.9953 - digit4_accuracy: 0.9957 - val_loss: 0.8535 - val_digit0_loss: 0.1005 - val_digit1_loss: 0.1948 - val_digit2_loss: 0.2297 - val_digit3_loss: 0.2048 - val_digit4_loss: 0.1236 - val_digit0_accuracy: 0.9765 - val_digit1_accuracy: 0.9506 - val_digit2_accuracy: 0.9417 - val_digit3_accuracy: 0.9462 - val_digit4_accuracy: 0.9701\n",
      "Epoch 15/50\n",
      "352/352 [==============================] - 241s 686ms/step - loss: 0.1962 - digit0_loss: 0.0331 - digit1_loss: 0.0441 - digit2_loss: 0.0454 - digit3_loss: 0.0422 - digit4_loss: 0.0314 - digit0_accuracy: 0.9960 - digit1_accuracy: 0.9944 - digit2_accuracy: 0.9946 - digit3_accuracy: 0.9945 - digit4_accuracy: 0.9964 - val_loss: 0.9842 - val_digit0_loss: 0.1180 - val_digit1_loss: 0.2281 - val_digit2_loss: 0.2653 - val_digit3_loss: 0.2226 - val_digit4_loss: 0.1502 - val_digit0_accuracy: 0.9713 - val_digit1_accuracy: 0.9383 - val_digit2_accuracy: 0.9318 - val_digit3_accuracy: 0.9425 - val_digit4_accuracy: 0.9632\n",
      "Epoch 16/50\n",
      "352/352 [==============================] - 237s 673ms/step - loss: 0.1453 - digit0_loss: 0.0249 - digit1_loss: 0.0316 - digit2_loss: 0.0333 - digit3_loss: 0.0307 - digit4_loss: 0.0249 - digit0_accuracy: 0.9971 - digit1_accuracy: 0.9966 - digit2_accuracy: 0.9964 - digit3_accuracy: 0.9963 - digit4_accuracy: 0.9967 - val_loss: 0.6876 - val_digit0_loss: 0.0733 - val_digit1_loss: 0.1671 - val_digit2_loss: 0.1988 - val_digit3_loss: 0.1699 - val_digit4_loss: 0.0786 - val_digit0_accuracy: 0.9798 - val_digit1_accuracy: 0.9565 - val_digit2_accuracy: 0.9504 - val_digit3_accuracy: 0.9573 - val_digit4_accuracy: 0.9808\n",
      "Epoch 17/50\n",
      "352/352 [==============================] - 230s 654ms/step - loss: 0.1600 - digit0_loss: 0.0259 - digit1_loss: 0.0348 - digit2_loss: 0.0373 - digit3_loss: 0.0341 - digit4_loss: 0.0278 - digit0_accuracy: 0.9964 - digit1_accuracy: 0.9953 - digit2_accuracy: 0.9943 - digit3_accuracy: 0.9947 - digit4_accuracy: 0.9954 - val_loss: 1.0488 - val_digit0_loss: 0.1356 - val_digit1_loss: 0.2582 - val_digit2_loss: 0.2753 - val_digit3_loss: 0.2518 - val_digit4_loss: 0.1278 - val_digit0_accuracy: 0.9672 - val_digit1_accuracy: 0.9304 - val_digit2_accuracy: 0.9298 - val_digit3_accuracy: 0.9381 - val_digit4_accuracy: 0.9674\n",
      "Epoch 18/50\n",
      "352/352 [==============================] - 200s 569ms/step - loss: 0.1199 - digit0_loss: 0.0203 - digit1_loss: 0.0271 - digit2_loss: 0.0275 - digit3_loss: 0.0258 - digit4_loss: 0.0191 - digit0_accuracy: 0.9973 - digit1_accuracy: 0.9967 - digit2_accuracy: 0.9970 - digit3_accuracy: 0.9968 - digit4_accuracy: 0.9980 - val_loss: 0.7104 - val_digit0_loss: 0.0888 - val_digit1_loss: 0.1771 - val_digit2_loss: 0.1943 - val_digit3_loss: 0.1688 - val_digit4_loss: 0.0814 - val_digit0_accuracy: 0.9773 - val_digit1_accuracy: 0.9559 - val_digit2_accuracy: 0.9510 - val_digit3_accuracy: 0.9575 - val_digit4_accuracy: 0.9794\n",
      "Epoch 19/50\n",
      "352/352 [==============================] - 203s 576ms/step - loss: 0.1073 - digit0_loss: 0.0180 - digit1_loss: 0.0243 - digit2_loss: 0.0249 - digit3_loss: 0.0221 - digit4_loss: 0.0180 - digit0_accuracy: 0.9978 - digit1_accuracy: 0.9972 - digit2_accuracy: 0.9974 - digit3_accuracy: 0.9972 - digit4_accuracy: 0.9977 - val_loss: 0.7075 - val_digit0_loss: 0.0777 - val_digit1_loss: 0.1620 - val_digit2_loss: 0.1953 - val_digit3_loss: 0.1776 - val_digit4_loss: 0.0948 - val_digit0_accuracy: 0.9790 - val_digit1_accuracy: 0.9567 - val_digit2_accuracy: 0.9478 - val_digit3_accuracy: 0.9573 - val_digit4_accuracy: 0.9773\n",
      "Epoch 20/50\n",
      "352/352 [==============================] - 201s 570ms/step - loss: 0.0648 - digit0_loss: 0.0116 - digit1_loss: 0.0140 - digit2_loss: 0.0148 - digit3_loss: 0.0137 - digit4_loss: 0.0107 - digit0_accuracy: 0.9988 - digit1_accuracy: 0.9990 - digit2_accuracy: 0.9988 - digit3_accuracy: 0.9991 - digit4_accuracy: 0.9992 - val_loss: 0.6816 - val_digit0_loss: 0.0840 - val_digit1_loss: 0.1699 - val_digit2_loss: 0.1882 - val_digit3_loss: 0.1625 - val_digit4_loss: 0.0771 - val_digit0_accuracy: 0.9783 - val_digit1_accuracy: 0.9557 - val_digit2_accuracy: 0.9543 - val_digit3_accuracy: 0.9609 - val_digit4_accuracy: 0.9790\n",
      "Epoch 21/50\n",
      "352/352 [==============================] - 244s 695ms/step - loss: 0.0838 - digit0_loss: 0.0149 - digit1_loss: 0.0192 - digit2_loss: 0.0183 - digit3_loss: 0.0178 - digit4_loss: 0.0136 - digit0_accuracy: 0.9977 - digit1_accuracy: 0.9973 - digit2_accuracy: 0.9982 - digit3_accuracy: 0.9976 - digit4_accuracy: 0.9982 - val_loss: 0.7118 - val_digit0_loss: 0.0962 - val_digit1_loss: 0.1915 - val_digit2_loss: 0.1908 - val_digit3_loss: 0.1547 - val_digit4_loss: 0.0785 - val_digit0_accuracy: 0.9767 - val_digit1_accuracy: 0.9504 - val_digit2_accuracy: 0.9500 - val_digit3_accuracy: 0.9614 - val_digit4_accuracy: 0.9792\n",
      "Epoch 22/50\n",
      "352/352 [==============================] - 218s 619ms/step - loss: 0.1397 - digit0_loss: 0.0231 - digit1_loss: 0.0320 - digit2_loss: 0.0328 - digit3_loss: 0.0292 - digit4_loss: 0.0227 - digit0_accuracy: 0.9957 - digit1_accuracy: 0.9935 - digit2_accuracy: 0.9940 - digit3_accuracy: 0.9943 - digit4_accuracy: 0.9958 - val_loss: 1.7966 - val_digit0_loss: 0.1943 - val_digit1_loss: 0.3541 - val_digit2_loss: 0.4231 - val_digit3_loss: 0.5493 - val_digit4_loss: 0.2758 - val_digit0_accuracy: 0.9516 - val_digit1_accuracy: 0.9110 - val_digit2_accuracy: 0.8897 - val_digit3_accuracy: 0.8644 - val_digit4_accuracy: 0.9318\n",
      "Epoch 23/50\n",
      "352/352 [==============================] - 216s 613ms/step - loss: 0.1026 - digit0_loss: 0.0162 - digit1_loss: 0.0236 - digit2_loss: 0.0236 - digit3_loss: 0.0228 - digit4_loss: 0.0163 - digit0_accuracy: 0.9976 - digit1_accuracy: 0.9960 - digit2_accuracy: 0.9962 - digit3_accuracy: 0.9961 - digit4_accuracy: 0.9974 - val_loss: 0.7179 - val_digit0_loss: 0.0850 - val_digit1_loss: 0.1706 - val_digit2_loss: 0.2010 - val_digit3_loss: 0.1799 - val_digit4_loss: 0.0814 - val_digit0_accuracy: 0.9785 - val_digit1_accuracy: 0.9577 - val_digit2_accuracy: 0.9504 - val_digit3_accuracy: 0.9553 - val_digit4_accuracy: 0.9775\n",
      "Epoch 24/50\n",
      "352/352 [==============================] - 224s 635ms/step - loss: 0.0601 - digit0_loss: 0.0106 - digit1_loss: 0.0132 - digit2_loss: 0.0141 - digit3_loss: 0.0120 - digit4_loss: 0.0102 - digit0_accuracy: 0.9988 - digit1_accuracy: 0.9984 - digit2_accuracy: 0.9982 - digit3_accuracy: 0.9989 - digit4_accuracy: 0.9987 - val_loss: 0.7482 - val_digit0_loss: 0.0758 - val_digit1_loss: 0.1688 - val_digit2_loss: 0.1988 - val_digit3_loss: 0.1789 - val_digit4_loss: 0.1259 - val_digit0_accuracy: 0.9800 - val_digit1_accuracy: 0.9559 - val_digit2_accuracy: 0.9514 - val_digit3_accuracy: 0.9549 - val_digit4_accuracy: 0.9676\n",
      "Epoch 25/50\n",
      "352/352 [==============================] - 211s 600ms/step - loss: 0.0352 - digit0_loss: 0.0064 - digit1_loss: 0.0076 - digit2_loss: 0.0077 - digit3_loss: 0.0074 - digit4_loss: 0.0061 - digit0_accuracy: 0.9994 - digit1_accuracy: 0.9994 - digit2_accuracy: 0.9995 - digit3_accuracy: 0.9994 - digit4_accuracy: 0.9993 - val_loss: 0.4999 - val_digit0_loss: 0.0494 - val_digit1_loss: 0.1327 - val_digit2_loss: 0.1419 - val_digit3_loss: 0.1193 - val_digit4_loss: 0.0567 - val_digit0_accuracy: 0.9873 - val_digit1_accuracy: 0.9664 - val_digit2_accuracy: 0.9644 - val_digit3_accuracy: 0.9688 - val_digit4_accuracy: 0.9862\n",
      "Epoch 26/50\n",
      "352/352 [==============================] - 224s 635ms/step - loss: 0.0297 - digit0_loss: 0.0056 - digit1_loss: 0.0063 - digit2_loss: 0.0065 - digit3_loss: 0.0060 - digit4_loss: 0.0053 - digit0_accuracy: 0.9994 - digit1_accuracy: 0.9996 - digit2_accuracy: 0.9996 - digit3_accuracy: 0.9997 - digit4_accuracy: 0.9995 - val_loss: 1.1263 - val_digit0_loss: 0.1317 - val_digit1_loss: 0.2427 - val_digit2_loss: 0.2838 - val_digit3_loss: 0.2700 - val_digit4_loss: 0.1983 - val_digit0_accuracy: 0.9660 - val_digit1_accuracy: 0.9415 - val_digit2_accuracy: 0.9306 - val_digit3_accuracy: 0.9367 - val_digit4_accuracy: 0.9518\n",
      "Epoch 27/50\n",
      "352/352 [==============================] - 220s 624ms/step - loss: 0.1940 - digit0_loss: 0.0305 - digit1_loss: 0.0447 - digit2_loss: 0.0451 - digit3_loss: 0.0436 - digit4_loss: 0.0300 - digit0_accuracy: 0.9930 - digit1_accuracy: 0.9894 - digit2_accuracy: 0.9891 - digit3_accuracy: 0.9889 - digit4_accuracy: 0.9929 - val_loss: 1.1698 - val_digit0_loss: 0.1515 - val_digit1_loss: 0.2847 - val_digit2_loss: 0.2775 - val_digit3_loss: 0.2775 - val_digit4_loss: 0.1787 - val_digit0_accuracy: 0.9614 - val_digit1_accuracy: 0.9280 - val_digit2_accuracy: 0.9300 - val_digit3_accuracy: 0.9346 - val_digit4_accuracy: 0.9551\n",
      "Epoch 28/50\n",
      "352/352 [==============================] - 224s 638ms/step - loss: 0.0796 - digit0_loss: 0.0139 - digit1_loss: 0.0172 - digit2_loss: 0.0180 - digit3_loss: 0.0174 - digit4_loss: 0.0132 - digit0_accuracy: 0.9973 - digit1_accuracy: 0.9970 - digit2_accuracy: 0.9967 - digit3_accuracy: 0.9968 - digit4_accuracy: 0.9974 - val_loss: 0.6932 - val_digit0_loss: 0.0625 - val_digit1_loss: 0.1691 - val_digit2_loss: 0.2047 - val_digit3_loss: 0.1767 - val_digit4_loss: 0.0802 - val_digit0_accuracy: 0.9844 - val_digit1_accuracy: 0.9571 - val_digit2_accuracy: 0.9510 - val_digit3_accuracy: 0.9591 - val_digit4_accuracy: 0.9792\n",
      "Epoch 29/50\n",
      "352/352 [==============================] - 225s 639ms/step - loss: 0.0264 - digit0_loss: 0.0047 - digit1_loss: 0.0059 - digit2_loss: 0.0060 - digit3_loss: 0.0057 - digit4_loss: 0.0043 - digit0_accuracy: 0.9997 - digit1_accuracy: 0.9996 - digit2_accuracy: 0.9996 - digit3_accuracy: 0.9997 - digit4_accuracy: 0.9998 - val_loss: 0.5352 - val_digit0_loss: 0.0565 - val_digit1_loss: 0.1465 - val_digit2_loss: 0.1526 - val_digit3_loss: 0.1243 - val_digit4_loss: 0.0552 - val_digit0_accuracy: 0.9834 - val_digit1_accuracy: 0.9664 - val_digit2_accuracy: 0.9605 - val_digit3_accuracy: 0.9698 - val_digit4_accuracy: 0.9864\n",
      "Epoch 30/50\n",
      "352/352 [==============================] - 228s 648ms/step - loss: 0.0172 - digit0_loss: 0.0030 - digit1_loss: 0.0037 - digit2_loss: 0.0040 - digit3_loss: 0.0037 - digit4_loss: 0.0028 - digit0_accuracy: 0.9999 - digit1_accuracy: 1.0000 - digit2_accuracy: 1.0000 - digit3_accuracy: 0.9999 - digit4_accuracy: 1.0000 - val_loss: 0.4263 - val_digit0_loss: 0.0388 - val_digit1_loss: 0.1154 - val_digit2_loss: 0.1186 - val_digit3_loss: 0.1073 - val_digit4_loss: 0.0461 - val_digit0_accuracy: 0.9895 - val_digit1_accuracy: 0.9721 - val_digit2_accuracy: 0.9713 - val_digit3_accuracy: 0.9745 - val_digit4_accuracy: 0.9891\n",
      "Epoch 31/50\n",
      "352/352 [==============================] - 227s 645ms/step - loss: 0.0107 - digit0_loss: 0.0019 - digit1_loss: 0.0023 - digit2_loss: 0.0024 - digit3_loss: 0.0022 - digit4_loss: 0.0018 - digit0_accuracy: 1.0000 - digit1_accuracy: 1.0000 - digit2_accuracy: 1.0000 - digit3_accuracy: 1.0000 - digit4_accuracy: 1.0000 - val_loss: 0.4273 - val_digit0_loss: 0.0384 - val_digit1_loss: 0.1203 - val_digit2_loss: 0.1164 - val_digit3_loss: 0.1070 - val_digit4_loss: 0.0453 - val_digit0_accuracy: 0.9893 - val_digit1_accuracy: 0.9721 - val_digit2_accuracy: 0.9707 - val_digit3_accuracy: 0.9743 - val_digit4_accuracy: 0.9891\n",
      "Epoch 32/50\n",
      "352/352 [==============================] - 230s 652ms/step - loss: 0.0087 - digit0_loss: 0.0015 - digit1_loss: 0.0019 - digit2_loss: 0.0020 - digit3_loss: 0.0018 - digit4_loss: 0.0015 - digit0_accuracy: 1.0000 - digit1_accuracy: 1.0000 - digit2_accuracy: 1.0000 - digit3_accuracy: 1.0000 - digit4_accuracy: 1.0000 - val_loss: 0.4221 - val_digit0_loss: 0.0365 - val_digit1_loss: 0.1154 - val_digit2_loss: 0.1174 - val_digit3_loss: 0.1064 - val_digit4_loss: 0.0464 - val_digit0_accuracy: 0.9893 - val_digit1_accuracy: 0.9723 - val_digit2_accuracy: 0.9721 - val_digit3_accuracy: 0.9753 - val_digit4_accuracy: 0.9895\n",
      "Epoch 33/50\n",
      "352/352 [==============================] - 220s 624ms/step - loss: 0.0074 - digit0_loss: 0.0013 - digit1_loss: 0.0016 - digit2_loss: 0.0017 - digit3_loss: 0.0015 - digit4_loss: 0.0013 - digit0_accuracy: 1.0000 - digit1_accuracy: 1.0000 - digit2_accuracy: 1.0000 - digit3_accuracy: 1.0000 - digit4_accuracy: 1.0000 - val_loss: 0.4203 - val_digit0_loss: 0.0378 - val_digit1_loss: 0.1132 - val_digit2_loss: 0.1167 - val_digit3_loss: 0.1069 - val_digit4_loss: 0.0457 - val_digit0_accuracy: 0.9891 - val_digit1_accuracy: 0.9741 - val_digit2_accuracy: 0.9729 - val_digit3_accuracy: 0.9755 - val_digit4_accuracy: 0.9891\n",
      "Epoch 34/50\n",
      "352/352 [==============================] - 220s 625ms/step - loss: 0.0065 - digit0_loss: 0.0011 - digit1_loss: 0.0014 - digit2_loss: 0.0014 - digit3_loss: 0.0013 - digit4_loss: 0.0011 - digit0_accuracy: 1.0000 - digit1_accuracy: 1.0000 - digit2_accuracy: 1.0000 - digit3_accuracy: 1.0000 - digit4_accuracy: 1.0000 - val_loss: 0.4612 - val_digit0_loss: 0.0419 - val_digit1_loss: 0.1212 - val_digit2_loss: 0.1310 - val_digit3_loss: 0.1194 - val_digit4_loss: 0.0477 - val_digit0_accuracy: 0.9887 - val_digit1_accuracy: 0.9725 - val_digit2_accuracy: 0.9670 - val_digit3_accuracy: 0.9729 - val_digit4_accuracy: 0.9889\n",
      "Epoch 35/50\n",
      "352/352 [==============================] - 217s 617ms/step - loss: 0.2977 - digit0_loss: 0.0416 - digit1_loss: 0.0726 - digit2_loss: 0.0717 - digit3_loss: 0.0694 - digit4_loss: 0.0424 - digit0_accuracy: 0.9895 - digit1_accuracy: 0.9796 - digit2_accuracy: 0.9801 - digit3_accuracy: 0.9808 - digit4_accuracy: 0.9887 - val_loss: 0.8150 - val_digit0_loss: 0.0983 - val_digit1_loss: 0.2033 - val_digit2_loss: 0.2225 - val_digit3_loss: 0.1798 - val_digit4_loss: 0.1111 - val_digit0_accuracy: 0.9737 - val_digit1_accuracy: 0.9500 - val_digit2_accuracy: 0.9444 - val_digit3_accuracy: 0.9551 - val_digit4_accuracy: 0.9705\n",
      "Epoch 36/50\n",
      "352/352 [==============================] - 201s 571ms/step - loss: 0.0715 - digit0_loss: 0.0117 - digit1_loss: 0.0167 - digit2_loss: 0.0178 - digit3_loss: 0.0143 - digit4_loss: 0.0109 - digit0_accuracy: 0.9975 - digit1_accuracy: 0.9965 - digit2_accuracy: 0.9961 - digit3_accuracy: 0.9970 - digit4_accuracy: 0.9980 - val_loss: 0.7727 - val_digit0_loss: 0.0853 - val_digit1_loss: 0.2027 - val_digit2_loss: 0.1953 - val_digit3_loss: 0.1849 - val_digit4_loss: 0.1044 - val_digit0_accuracy: 0.9802 - val_digit1_accuracy: 0.9470 - val_digit2_accuracy: 0.9470 - val_digit3_accuracy: 0.9545 - val_digit4_accuracy: 0.9717\n",
      "Epoch 37/50\n",
      "352/352 [==============================] - 207s 589ms/step - loss: 0.0253 - digit0_loss: 0.0044 - digit1_loss: 0.0054 - digit2_loss: 0.0058 - digit3_loss: 0.0054 - digit4_loss: 0.0043 - digit0_accuracy: 0.9995 - digit1_accuracy: 0.9995 - digit2_accuracy: 0.9995 - digit3_accuracy: 0.9996 - digit4_accuracy: 0.9995 - val_loss: 0.4745 - val_digit0_loss: 0.0498 - val_digit1_loss: 0.1283 - val_digit2_loss: 0.1285 - val_digit3_loss: 0.1134 - val_digit4_loss: 0.0546 - val_digit0_accuracy: 0.9870 - val_digit1_accuracy: 0.9676 - val_digit2_accuracy: 0.9684 - val_digit3_accuracy: 0.9709 - val_digit4_accuracy: 0.9854\n",
      "Epoch 38/50\n",
      "352/352 [==============================] - 230s 653ms/step - loss: 0.0125 - digit0_loss: 0.0022 - digit1_loss: 0.0028 - digit2_loss: 0.0027 - digit3_loss: 0.0026 - digit4_loss: 0.0022 - digit0_accuracy: 1.0000 - digit1_accuracy: 1.0000 - digit2_accuracy: 1.0000 - digit3_accuracy: 1.0000 - digit4_accuracy: 1.0000 - val_loss: 0.4967 - val_digit0_loss: 0.0468 - val_digit1_loss: 0.1264 - val_digit2_loss: 0.1311 - val_digit3_loss: 0.1173 - val_digit4_loss: 0.0751 - val_digit0_accuracy: 0.9868 - val_digit1_accuracy: 0.9705 - val_digit2_accuracy: 0.9660 - val_digit3_accuracy: 0.9729 - val_digit4_accuracy: 0.9830\n"
     ]
    }
   ],
   "source": [
    "callback = tf.keras.callbacks.EarlyStopping(monitor='val_loss', patience=5)\n",
    "history = model.fit(x_train, s_train,\n",
    "                    batch_size=BATCH_SIZE,\n",
    "                    epochs=EPOCHS,\n",
    "                    verbose=1,\n",
    "                    validation_data=(x_test, s_test), \n",
    "                    callbacks=[callback]\n",
    "                   )"
   ]
  },
  {
   "cell_type": "code",
   "execution_count": 36,
   "id": "a3def92d",
   "metadata": {},
   "outputs": [],
   "source": [
    "digit_acc = [[] for _ in range(NUM_OF_LETTERS)]\n",
    "val_digit_acc = [[] for _ in range(NUM_OF_LETTERS)]\n",
    "loss = []\n",
    "val_loss = []\n",
    "\n",
    "\n",
    "def plot_diagram(digit_acc_now, val_digit_acc_now, loss_now, val_loss_now):\n",
    "    global digit_acc, val_digit_acc, loss, val_loss\n",
    "    \n",
    "    \n",
    "    for i in range(NUM_OF_LETTERS):\n",
    "        digit_acc[i].extend(digit_acc_now[i])\n",
    "        val_digit_acc[i].extend(val_digit_acc_now[i])\n",
    "    loss.extend(loss_now)\n",
    "    val_loss.extend(val_loss_now)\n",
    "    \n",
    "    for i in range(NUM_OF_LETTERS):\n",
    "        s = {0:'First', 1:'Second', 2:'Third', 3:'Fourth', 4:'Fifth'}[i]\n",
    "        # plt.plot(val_digit_acc[i], label='%s Digit Train' % s)\n",
    "        plt.plot(digit_acc[i], label='%s Digit Test' % s)\n",
    "\n",
    "    plt.title('Model accuracy')\n",
    "    plt.ylabel('Accuracy')\n",
    "    plt.xlabel('Epoch')\n",
    "    plt.legend()\n",
    "    plt.show()\n",
    "\n",
    "    for i in range(NUM_OF_LETTERS):\n",
    "        s = {0:'First', 1:'Second', 2:'Third', 3:'Fourth', 4:'Fifth'}[i]\n",
    "        plt.plot(val_digit_acc[i], label='%s Digit Train' % s)\n",
    "        # plt.plot(digit_acc[i], label='%s Digit Test' % s)\n",
    "\n",
    "    plt.title('Model accuracy')\n",
    "    plt.ylabel('Accuracy')\n",
    "    plt.xlabel('Epoch')\n",
    "    plt.legend()\n",
    "    plt.show()\n",
    "\n",
    "    # Plot training & validation loss values\n",
    "    \n",
    "    plt.plot(val_loss, label='Train')\n",
    "    plt.plot(loss, label='Test')\n",
    "    plt.title('Model loss')\n",
    "    plt.ylabel('Loss')\n",
    "    plt.xlabel('Epoch')\n",
    "    plt.legend()\n",
    "    plt.show()"
   ]
  },
  {
   "cell_type": "code",
   "execution_count": 37,
   "id": "8675d113",
   "metadata": {
    "scrolled": false
   },
   "outputs": [
    {
     "data": {
      "image/png": "[encoded data removed]",
      "text/plain": [
       "<Figure size 432x288 with 1 Axes>"
      ]
     },
     "metadata": {
      "needs_background": "light"
     },
     "output_type": "display_data"
    },
    {
     "data": {
      "image/png": "[encoded data removed]",
      "text/plain": [
       "<Figure size 432x288 with 1 Axes>"
      ]
     },
     "metadata": {
      "needs_background": "light"
     },
     "output_type": "display_data"
    },
    {
     "data": {
      "image/png": "[encoded data removed]",
      "text/plain": [
       "<Figure size 432x288 with 1 Axes>"
      ]
     },
     "metadata": {
      "needs_background": "light"
     },
     "output_type": "display_data"
    }
   ],
   "source": [
    "plot_diagram(\n",
    "    \n",
    "    [history.history['digit%d_accuracy' % i] for i in range(NUM_OF_LETTERS)],\n",
    "    [history.history['val_digit%d_accuracy' % i] for i in range(NUM_OF_LETTERS)],\n",
    "    history.history['loss'],\n",
    "    history.history['val_loss'],\n",
    ")"
   ]
  },
  {
   "cell_type": "code",
   "execution_count": null,
   "id": "eb972380",
   "metadata": {},
   "outputs": [],
   "source": [
    "\n",
    "\n"
   ]
  },
  {
   "cell_type": "code",
   "execution_count": 38,
   "id": "695fa497",
   "metadata": {},
   "outputs": [
    {
     "name": "stdout",
     "output_type": "stream",
     "text": [
      "Saved trained model at c:\\Users\\Simon\\Desktop\\Code\\TextCaptchaPR\\Captcha\\saved_models \n"
     ]
    }
   ],
   "source": [
    "save_dir = os.path.join(PATH, 'saved_models')\n",
    "SaveModel(model, save_dir, model_name)"
   ]
  },
  {
   "cell_type": "code",
   "execution_count": 39,
   "id": "dcfc8862",
   "metadata": {},
   "outputs": [
    {
     "name": "stdout",
     "output_type": "stream",
     "text": [
      "1405/1405 [==============================] - 58s 41ms/step - loss: 0.0203 - digit0_loss: 0.0036 - digit1_loss: 0.0041 - digit2_loss: 0.0034 - digit3_loss: 0.0032 - digit4_loss: 0.0060 - digit0_accuracy: 0.9992 - digit1_accuracy: 0.9993 - digit2_accuracy: 0.9996 - digit3_accuracy: 0.9996 - digit4_accuracy: 0.9983\n",
      "Train loss:     0.006946\n",
      "Train accuracy: 99.60\n"
     ]
    }
   ],
   "source": [
    "# Score trained model.\n",
    "scores = model.evaluate(x_train, s_train, verbose=1)\n",
    "print('Train loss:     %f' % np.mean(scores[0:5]))\n",
    "acc = 1.\n",
    "for i in range(5):\n",
    "    acc *= scores[6+i]\n",
    "print('Train accuracy: %.2f' % (acc * 100.))\n"
   ]
  },
  {
   "cell_type": "code",
   "execution_count": 40,
   "id": "e054d528",
   "metadata": {},
   "outputs": [
    {
     "name": "stdout",
     "output_type": "stream",
     "text": [
      "159/159 [==============================] - 6s 40ms/step - loss: 0.4967 - digit0_loss: 0.0468 - digit1_loss: 0.1264 - digit2_loss: 0.1311 - digit3_loss: 0.1173 - digit4_loss: 0.0751 - digit0_accuracy: 0.9868 - digit1_accuracy: 0.9705 - digit2_accuracy: 0.9660 - digit3_accuracy: 0.9729 - digit4_accuracy: 0.9830\n",
      "Test loss:     0.183680\n",
      "Test accuracy: 88.48\n"
     ]
    }
   ],
   "source": [
    "scores = model.evaluate(x_test, s_test, verbose=1)\n",
    "print('Test loss:     %f' % np.mean(scores[0:5]))\n",
    "acc = 1.\n",
    "for i in range(5):\n",
    "    acc *= scores[6+i]\n",
    "print('Test accuracy: %.2f' % (acc * 100.))"
   ]
  },
  {
   "cell_type": "code",
   "execution_count": null,
   "id": "9380c907",
   "metadata": {},
   "outputs": [],
   "source": []
  },
  {
   "cell_type": "code",
   "execution_count": null,
   "id": "0d6897b0",
   "metadata": {},
   "outputs": [],
   "source": []
  }
 ],
 "metadata": {
  "interpreter": {
   "hash": "d40f4b150b46d720e7757c47d949286b7c88b9827938950183d77a8b3898b75d"
  },
  "kernelspec": {
   "display_name": "Python 3.9 (tensorflow)",
   "language": "python",
   "name": "python3"
  },
  "language_info": {
   "codemirror_mode": {
    "name": "ipython",
    "version": 3
   },
   "file_extension": ".py",
   "mimetype": "text/x-python",
   "name": "python",
   "nbconvert_exporter": "python",
   "pygments_lexer": "ipython3",
   "version": "3.8.2"
  }
 },
 "nbformat": 4,
 "nbformat_minor": 5
}
